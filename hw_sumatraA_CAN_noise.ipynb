{
 "cells": [
  {
   "cell_type": "code",
   "execution_count": null,
   "metadata": {},
   "outputs": [],
   "source": [
    "%matplotlib inline\n",
    "\n",
    "import glob\n",
    "import matplotlib.pylab as plt\n",
    "import numpy as np\n",
    "import os\n",
    "import struct\n",
    "import warnings\n",
    "\n",
    "from __future__ import print_function\n",
    "from matplotlib.mlab import detrend\n",
    "from obspy import *\n",
    "from obspy.core import read, UTCDateTime\n",
    "from obspy.clients.fdsn import Client\n",
    "from obspy.signal.cross_correlation import xcorr_pick_correction\n",
    "from obspy.signal.filter import lowpass\n",
    "from obspy.signal.invsim import cosine_taper\n",
    "from scipy import interpolate, signal\n",
    "from time import *\n",
    "\n",
    "from lib_seis import smooth\n",
    "from lib_seis import wf_fft\n",
    "\n",
    "warnings.filterwarnings('ignore')                  # do not show warnings\n",
    "\n",
    "plt.style.use('ggplot')\n",
    "plt.rcParams['figure.figsize'] = 10, 6\n",
    "plt.rcParams['lines.linewidth'] = 0.5\n",
    "\n",
    "# Adaptation of CAN_noise.m by Carl Tape\n",
    "# Coding by: Yongki Aiman, Tomy Gunawan, Angel Ling\n",
    "# Analyzing the noise time series at CAN\n",
    "# custom functions: wf_fft, smooth"
   ]
  },
  {
   "cell_type": "code",
   "execution_count": null,
   "metadata": {},
   "outputs": [],
   "source": [
    "# get the waveform\n",
    "client = Client(\"IRIS\")\n",
    "t = UTCDateTime(\"2004-12-26T00:58:53.0\")\n",
    "starttime = t-(9*24*3600)    # 9 days before the Sumatra earthquake\n",
    "endtime = t                  # origin time of Sumatra earthquake\n",
    "\n",
    "st = client.get_waveforms(\"G\", \"CAN\", \"*\", \"LHZ\", starttime, endtime, attach_response=True)\n",
    "print(st)"
   ]
  },
  {
   "cell_type": "code",
   "execution_count": null,
   "metadata": {},
   "outputs": [],
   "source": [
    "# plot seismogram\n",
    "tr = st[0]\n",
    "times = st[0].times()\n",
    "trace_data = tr.data\n",
    "\n",
    "# FIX: do not hardcode station/channel\n",
    "title = 'CAN (LHZ) − starting '+ str(st[0].stats['starttime'])\n",
    "plt.plot(times,trace_data,color='b')\n",
    "plt.title(title)\n",
    "plt.xlabel('seconds')\n",
    "plt.ylabel('counts')\n",
    "plt.show();"
   ]
  },
  {
   "cell_type": "code",
   "execution_count": null,
   "metadata": {
    "scrolled": true
   },
   "outputs": [],
   "source": [
    "# extract a subset time series that has NO visible earthquakes\n",
    "t1 = starttime + 5.0E5\n",
    "t2 = starttime + 7.0E5\n",
    "st1 = st.copy()\n",
    "print(st1)\n",
    "st1.trim(t1, t2)\n",
    "print(st1)"
   ]
  },
  {
   "cell_type": "code",
   "execution_count": null,
   "metadata": {},
   "outputs": [],
   "source": [
    "# FIX: do not hardcode station/channel\n",
    "title = 'CAN (LHZ) − starting '+ str(st1[0].stats['starttime'])\n",
    "plt.plot(st1[0].times(),st1[0].data,color='b')\n",
    "plt.title(title)\n",
    "plt.xlabel('seconds')\n",
    "plt.ylabel('counts')\n",
    "plt.show();"
   ]
  },
  {
   "cell_type": "code",
   "execution_count": null,
   "metadata": {},
   "outputs": [],
   "source": [
    "# Spectral analysis and deconvolution starts here\n",
    "\n"
   ]
  }
 ],
 "metadata": {
  "celltoolbar": "Tags",
  "kernelspec": {
   "display_name": "seismo",
   "language": "python",
   "name": "conda-env-.local-seismo-py"
  },
  "language_info": {
   "codemirror_mode": {
    "name": "ipython",
    "version": 3
   },
   "file_extension": ".py",
   "mimetype": "text/x-python",
   "name": "python",
   "nbconvert_exporter": "python",
   "pygments_lexer": "ipython3",
   "version": "3.8.15"
  }
 },
 "nbformat": 4,
 "nbformat_minor": 4
}
