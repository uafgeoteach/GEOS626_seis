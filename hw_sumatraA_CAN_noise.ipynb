{
 "cells": [
  {
   "cell_type": "code",
   "execution_count": null,
   "metadata": {},
   "outputs": [],
   "source": [
    "# adaptation of CAN_noise.m by Carl Tape\n",
    "# coding by: Yongki Aiman, Tomy Gunawan, Angel Ling\n",
    "\n",
    "# analyzing the noise time series at CAN\n",
    "# custom functions: smooth, wf_fft"
   ]
  },
  {
   "cell_type": "code",
   "execution_count": null,
   "metadata": {},
   "outputs": [],
   "source": [
    "%matplotlib inline\n",
    "\n",
    "import glob\n",
    "import matplotlib.pyplot as plt\n",
    "import numpy as np\n",
    "import warnings\n",
    "\n",
    "from obspy.core import UTCDateTime\n",
    "from obspy.clients.fdsn import Client\n",
    "\n",
    "from lib_seis import smooth, wf_fft"
   ]
  },
  {
   "cell_type": "code",
   "execution_count": null,
   "metadata": {},
   "outputs": [],
   "source": [
    "# script settings\n",
    "\n",
    "warnings.filterwarnings('ignore')\n",
    "plt.style.use('ggplot')\n",
    "plt.rcParams['figure.figsize'] = 10, 6\n",
    "plt.rcParams['lines.linewidth'] = 0.5"
   ]
  },
  {
   "cell_type": "code",
   "execution_count": null,
   "metadata": {},
   "outputs": [],
   "source": [
    "# getting the waveform\n",
    "\n",
    "client = Client(\"IRIS\")\n",
    "\n",
    "# 2004 Sumatra-Andaman earthquake\n",
    "origintime = UTCDateTime(\"2004-12-26T00:58:53\")\n",
    "starttime  = origintime - ( 9 * 24 * 60 * 60)     # 9 days before origin time\n",
    "endtime    = origintime                           # the origin time\n",
    "\n",
    "st = client.get_waveforms(\"G\", \"CAN\", \"*\", \"LHZ\", starttime, endtime, attach_response=True)\n",
    "print(st)"
   ]
  },
  {
   "cell_type": "code",
   "execution_count": null,
   "metadata": {},
   "outputs": [],
   "source": [
    "# plotting the seismogram\n",
    "can = st.copy()\n",
    "t   = can[0].times()\n",
    "tr  = can[0].data\n",
    "\n",
    "title = f'{can[0].stats[\"station\"]} {can[0].stats[\"channel\"]} − starting {can[0].stats[\"starttime\"]}'\n",
    "\n",
    "plt.plot(t, tr ,color='b')\n",
    "plt.xlabel('seconds')\n",
    "plt.ylabel('counts')\n",
    "plt.title(title)"
   ]
  },
  {
   "cell_type": "code",
   "execution_count": null,
   "metadata": {
    "scrolled": true
   },
   "outputs": [],
   "source": [
    "# extracting a subset time series\n",
    "\n",
    "t1 = starttime + 5.0E5\n",
    "t2 = starttime + 7.0E5\n",
    "\n",
    "st1 = st.copy()\n",
    "print(st1)\n",
    "\n",
    "st1.trim(t1, t2)\n",
    "print(st1)"
   ]
  },
  {
   "cell_type": "code",
   "execution_count": null,
   "metadata": {},
   "outputs": [],
   "source": [
    "title = f'{st1[0].stats[\"station\"]} {st1[0].stats[\"channel\"]} − starting {st1[0].stats[\"starttime\"]}'\n",
    "\n",
    "plt.plot(st1[0].times(), st1[0].data, color='b')\n",
    "plt.xlabel('seconds')\n",
    "plt.ylabel('counts')\n",
    "plt.title(title)"
   ]
  },
  {
   "cell_type": "code",
   "execution_count": null,
   "metadata": {},
   "outputs": [],
   "source": [
    "# extract a subset time series that has no visible earthquakes\n"
   ]
  },
  {
   "cell_type": "code",
   "execution_count": null,
   "metadata": {},
   "outputs": [],
   "source": [
    "# spectral analysis and deconvolution starts here\n"
   ]
  }
 ],
 "metadata": {
  "celltoolbar": "Tags",
  "kernelspec": {
   "display_name": "seismo",
   "language": "python",
   "name": "conda-env-seismo-py"
  },
  "language_info": {
   "codemirror_mode": {
    "name": "ipython",
    "version": 3
   },
   "file_extension": ".py",
   "mimetype": "text/x-python",
   "name": "python",
   "nbconvert_exporter": "python",
   "pygments_lexer": "ipython3",
   "version": "3.11.0"
  }
 },
 "nbformat": 4,
 "nbformat_minor": 4
}
