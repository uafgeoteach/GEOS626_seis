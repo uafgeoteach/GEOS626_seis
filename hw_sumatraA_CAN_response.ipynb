{
 "cells": [
  {
   "cell_type": "code",
   "execution_count": null,
   "metadata": {},
   "outputs": [],
   "source": [
    "#%matplotlib inline\n",
    "%matplotlib notebook\n",
    "\n",
    "import glob\n",
    "import matplotlib.pylab as plt\n",
    "import numpy as np\n",
    "import os\n",
    "import struct\n",
    "import warnings\n",
    "\n",
    "from __future__ import print_function\n",
    "from matplotlib.mlab import detrend\n",
    "from matplotlib import dates\n",
    "from obspy import *\n",
    "from obspy.core import read, UTCDateTime\n",
    "from obspy.clients.fdsn import Client\n",
    "from obspy.signal.cross_correlation import xcorr_pick_correction\n",
    "from obspy.signal.filter import lowpass\n",
    "from obspy.signal.invsim import cosine_taper\n",
    "from scipy import interpolate, signal\n",
    "from time import *\n",
    "\n",
    "from lib_seis import markp_min, wf_fft\n",
    "\n",
    "warnings.filterwarnings('ignore')                  # do not show warnings\n",
    "\n",
    "plt.style.use('ggplot')\n",
    "plt.rcParams['figure.figsize'] = 8, 6\n",
    "plt.rcParams['lines.linewidth'] = 1\n",
    "\n",
    "# Adaptation of CAN_response.m by Carl Tape\n",
    "# Initial coding by: Yongki Aiman, Tomy Gunawan, Angel Ling\n",
    "# Coding by Amanda McPherson, 2020\n",
    "# The example waveform is from CAN (Canberra, Australia) for the 2004 Mw 9.X Sumatra-Andaman earthquake.\n",
    "# custom functions: wf_fft"
   ]
  },
  {
   "cell_type": "code",
   "execution_count": null,
   "metadata": {},
   "outputs": [],
   "source": [
    "# retrieve the waveform\n",
    "client = Client(\"IRIS\")\n",
    "t = UTCDateTime(\"2004-12-26T00:58:53.0\")\n",
    "starttime = t-(0.5*24*3600) # 0.5 dayS before the earthquake\n",
    "endtime   = t+(9.0*24*3600) # 9 days after the earthquake\n",
    "\n",
    "st = client.get_waveforms(\"G\", \"CAN\", \"*\", \"LHZ\", starttime, endtime, attach_response=True)\n",
    "print(st)"
   ]
  },
  {
   "cell_type": "code",
   "execution_count": null,
   "metadata": {},
   "outputs": [],
   "source": [
    "# take a copy of the stream to avoid overwriting the original data\n",
    "can = st.copy()\n",
    "\n",
    "# choose the 1st stream; specify sampling parameters and Nyquist frequency\n",
    "npts = can[0].stats.npts                 # number of samples\n",
    "df = can[0].stats.sampling_rate          # sampling rate\n",
    "nsec = npts/df                           # sampling time\n",
    "fNy = df / 2.0                           # Nyquist frequency\n",
    "time = np.linspace(0,nsec,int(nsec*df))  # time axis for plotting in seconds\n",
    "date = can[0].times(type='utcdatetime') # time axis for plotting absolute time\n",
    "date = dates.date2num(date)\n",
    "\n",
    "y  = can[0].data                      # set up signal \n",
    "\n",
    "# Plot the result with time in seconds\n",
    "plt.figure()\n",
    "plt.plot(time, y, 'b') \n",
    "# FIX: stations/channel/time should not be hardcoded\n",
    "plt.title('CAN (LHZ) − starting 2004−12−25 12:36:12.656')\n",
    "plt.xlabel('Time [s]')\n",
    "plt.ylabel('Counts')\n",
    "\n",
    "# Plot the result with absolute time\n",
    "plt.figure()\n",
    "ax = plt.gca()\n",
    "plt.plot_date(date,y,'b')\n",
    "plt.title('CAN (LHZ) − starting 2004−12−25 12:36:12.656')\n",
    "plt.xlabel('Dates')\n",
    "plt.ylabel('Counts')\n",
    "ax.xaxis.set_tick_params(rotation=30, labelsize=10)\n",
    "\n",
    "plt.show()"
   ]
  },
  {
   "cell_type": "code",
   "execution_count": null,
   "metadata": {
    "scrolled": true
   },
   "outputs": [],
   "source": [
    "# zoom into the plot, then pick an absolte time for an earthquake\n",
    "print(starttime)\n",
    "ta = starttime + 382000\n",
    "print(ta)"
   ]
  },
  {
   "cell_type": "code",
   "execution_count": null,
   "metadata": {},
   "outputs": [],
   "source": [
    "# compute FFT\n",
    "\n",
    "# demean signal\n",
    "y_demean = detrend(y,'constant')\n",
    "# taper signal\n",
    "taper_percentage = 1\n",
    "taper = cosine_taper(npts,taper_percentage)\n",
    "y_taper = y_demean * taper\n",
    "\n",
    "# calculate FFT: amplitude of C(w), and phase of C(w), frequencies\n",
    "fft_amp, fft_phase, f = wf_fft(y_taper,fNy)\n",
    "\n",
    "# reconstruct the Fourier Transform C(w)\n",
    "C = fft_amp*np.exp(1j*fft_phase)"
   ]
  },
  {
   "cell_type": "code",
   "execution_count": null,
   "metadata": {},
   "outputs": [],
   "source": [
    "# Homework exercises start here!\n",
    "\n",
    "#fig=plt.figure();\n",
    "# YOUR PLOT COMMAND HERE\n",
    "#cid = fig.canvas.mpl_connect('button_press_event', markp_min)"
   ]
  },
  {
   "cell_type": "code",
   "execution_count": null,
   "metadata": {},
   "outputs": [],
   "source": []
  }
 ],
 "metadata": {
  "celltoolbar": "Tags",
  "kernelspec": {
   "display_name": "seismo",
   "language": "python",
   "name": "conda-env-.local-seismo-py"
  },
  "language_info": {
   "codemirror_mode": {
    "name": "ipython",
    "version": 3
   },
   "file_extension": ".py",
   "mimetype": "text/x-python",
   "name": "python",
   "nbconvert_exporter": "python",
   "pygments_lexer": "ipython3",
   "version": "3.11.0"
  }
 },
 "nbformat": 4,
 "nbformat_minor": 4
}
