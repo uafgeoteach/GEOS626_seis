{
 "cells": [
  {
   "cell_type": "code",
   "execution_count": null,
   "metadata": {},
   "outputs": [],
   "source": [
    "# adaptation of CAN_response.m by Carl Tape\n",
    "# initial coding by: Yongki Aiman, Tomy Gunawan, Angel Ling\n",
    "# further coding by Amanda McPherson, 2020\n",
    "\n",
    "# the example waveform is from CAN (Canberra, Australia) for the 2004 Mw 9.X Sumatra-Andaman earthquake\n",
    "# custom functions: markp_minutes, wf_fft"
   ]
  },
  {
   "cell_type": "code",
   "execution_count": null,
   "metadata": {},
   "outputs": [],
   "source": [
    "%matplotlib widget\n",
    "\n",
    "import numpy as np\n",
    "import matplotlib.pylab as plt\n",
    "import warnings\n",
    "\n",
    "from matplotlib import dates\n",
    "from obspy.core import UTCDateTime\n",
    "from obspy.clients.fdsn import Client\n",
    "\n",
    "from lib_seis import markp_minutes, wf_fft"
   ]
  },
  {
   "cell_type": "code",
   "execution_count": null,
   "metadata": {},
   "outputs": [],
   "source": [
    "# script settings\n",
    "\n",
    "warnings.filterwarnings('ignore')\n",
    "plt.style.use('ggplot')\n",
    "plt.rcParams['figure.figsize'] = 8, 6\n",
    "plt.rcParams['lines.linewidth'] = 1"
   ]
  },
  {
   "cell_type": "code",
   "execution_count": null,
   "metadata": {},
   "outputs": [],
   "source": [
    "# getting the waveform\n",
    "\n",
    "client = Client(\"IRIS\")\n",
    "\n",
    "# 2004 Sumatra-Andaman earthquake\n",
    "origintime = UTCDateTime(\"2004-12-26T00:58:53\")\n",
    "starttime  = origintime - (     12 * 60 * 60 )           # half a day before origin time\n",
    "endtime    = origintime + ( 9 * 24 * 60 * 60)            # 9 days after origin time\n",
    "\n",
    "st = client.get_waveforms(\"G\", \"CAN\", \"*\", \"LHZ\", starttime, endtime, attach_response=True)\n",
    "print(st)"
   ]
  },
  {
   "cell_type": "code",
   "execution_count": null,
   "metadata": {},
   "outputs": [],
   "source": [
    "# plotting the seismogram\n",
    "\n",
    "can = st.copy()                           \n",
    "\n",
    "t   = can[0].times()                                           # time axis for plotting in seconds\n",
    "tr  = can[0].data                                              \n",
    "\n",
    "title = f'{can[0].stats[\"station\"]} ({can[0].stats[\"channel\"]}) − starting {can[0].stats[\"starttime\"]}'\n",
    "\n",
    "# plot the seismogram with time in seconds\n",
    "plt.figure()\n",
    "plt.plot(t, tr, 'b') \n",
    "plt.title(title)\n",
    "#plt.ylim([-3E4, 3E4])\n",
    "plt.xlabel('time [s]')\n",
    "plt.ylabel('counts');"
   ]
  },
  {
   "cell_type": "code",
   "execution_count": null,
   "metadata": {},
   "outputs": [],
   "source": [
    "# label the x-axis using absolute time\n",
    "\n",
    "can_dates = st.copy().resample(0.1)\n",
    "\n",
    "date = can_dates[0].times(type='utcdatetime')                      # time axis for plotting absolute time\n",
    "date = dates.date2num(date)\n",
    "\n",
    "# plot the seismogram with respect to absolute time\n",
    "plt.figure()\n",
    "plt.plot_date(date, can_dates[0].data, 'b')\n",
    "plt.title(title)\n",
    "plt.xlabel('dates')\n",
    "plt.ylabel('counts')\n",
    "ax = plt.gca()\n",
    "ax.xaxis.set_tick_params(rotation=30, labelsize=10)"
   ]
  },
  {
   "cell_type": "code",
   "execution_count": null,
   "metadata": {
    "tags": []
   },
   "outputs": [],
   "source": [
    "# spectral analysis\n",
    "\n",
    "st1 = st.copy()\n",
    "st1.detrend('constant')\n",
    "st1.detrend('linear')\n",
    "st1.taper(max_percentage=0.2, type=\"cosine\")\n",
    "\n",
    "tr = st1[0].data\n",
    "\n",
    "sampling_frequency = st1[0].stats.sampling_rate\n",
    "Nyquist_frequency  = sampling_frequency / 2\n",
    "\n",
    "fft_amp, fft_phase, fft_freq = wf_fft(tr, Nyquist_frequency)\n",
    "\n",
    "C = fft_amp * np.exp( 1j * fft_phase )                     # Fourier transform reconstructed from its amplitude and phase"
   ]
  },
  {
   "cell_type": "code",
   "execution_count": null,
   "metadata": {},
   "outputs": [],
   "source": [
    "# template code for using markp_minutes to identify the periods (in minutes) of spectral peaks\n",
    "\n",
    "#fig=plt.figure();\n",
    "#YOUR PLOT COMMAND HERE\n",
    "#cid = fig.canvas.mpl_connect('button_press_event', markp_minutes) #displays the value 1/x/60 for a selected point (x,y)"
   ]
  }
 ],
 "metadata": {
  "celltoolbar": "Tags",
  "kernelspec": {
   "display_name": "seismo",
   "language": "python",
   "name": "conda-env-seismo-py"
  },
  "language_info": {
   "codemirror_mode": {
    "name": "ipython",
    "version": 3
   },
   "file_extension": ".py",
   "mimetype": "text/x-python",
   "name": "python",
   "nbconvert_exporter": "python",
   "pygments_lexer": "ipython3",
   "version": "3.11.0"
  }
 },
 "nbformat": 4,
 "nbformat_minor": 4
}
