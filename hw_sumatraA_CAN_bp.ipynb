{
 "cells": [
  {
   "cell_type": "code",
   "execution_count": null,
   "metadata": {},
   "outputs": [],
   "source": [
    "# adaptation of CAN_bp.m by Carl Tape\n",
    "# coding by: Yongki Aiman, Tomy Gunawan, Angel Ling\n",
    "\n",
    "# bandpass filtering the vertical seismogram\n",
    "# custom function: smooth"
   ]
  },
  {
   "cell_type": "code",
   "execution_count": null,
   "metadata": {},
   "outputs": [],
   "source": [
    "%matplotlib inline\n",
    "\n",
    "import matplotlib.pyplot as plt\n",
    "import numpy as np\n",
    "import warnings\n",
    "\n",
    "from obspy.core import UTCDateTime\n",
    "from obspy.clients.fdsn import Client \n",
    "from scipy.signal import hilbert\n",
    "\n",
    "from lib_seis import smooth\n",
    "from lib_seis import sumatra_event"
   ]
  },
  {
   "cell_type": "code",
   "execution_count": null,
   "metadata": {},
   "outputs": [],
   "source": [
    "# script settings\n",
    "\n",
    "warnings.filterwarnings('ignore')\n",
    "plt.style.use('ggplot')\n",
    "plt.rcParams['figure.figsize'] = 10, 6\n",
    "plt.rcParams['lines.linewidth'] = 0.5"
   ]
  },
  {
   "cell_type": "markdown",
   "metadata": {},
   "source": [
    "### Event details\n",
    "Mw 9.1 2004 Sumatra - Andaman Islands Earthquake \\\n",
    "https://earthquake.usgs.gov/earthquakes/eventpage/official20041226005853450_30"
   ]
  },
  {
   "cell_type": "code",
   "execution_count": null,
   "metadata": {
    "tags": []
   },
   "outputs": [],
   "source": [
    "# fetch and display event details\n",
    "\n",
    "event = sumatra_event()\n",
    "\n",
    "print()\n",
    "for item in event:\n",
    "    print(f'{item} = {event[item]}')\n",
    "print()    "
   ]
  },
  {
   "cell_type": "code",
   "execution_count": null,
   "metadata": {},
   "outputs": [],
   "source": [
    "# getting the waveform\n",
    "\n",
    "client = Client(\"IRIS\")\n",
    "\n",
    "starttime  = event['origin_time'] - (      4 * 60 )         # 4 minutes before origin time\n",
    "endtime    = event['origin_time'] + ( 2 * 60 * 60 )         # 2 hours after origin time\n",
    "\n",
    "st = client.get_waveforms(\"G\", \"CAN\", \"*\", \"BHZ\", starttime, endtime, attach_response=True)\n",
    "print(st)"
   ]
  },
  {
   "cell_type": "code",
   "execution_count": null,
   "metadata": {},
   "outputs": [],
   "source": [
    "# plotting raw seismogram\n",
    "\n",
    "can = st.copy()\n",
    "t   = can[0].times()\n",
    "tr  = can[0].data\n",
    "\n",
    "title = f'{can[0].id} − starting {can[0].stats[\"starttime\"]}'\n",
    "\n",
    "plt.plot(t, tr, c='b')\n",
    "plt.xlabel('seconds')\n",
    "plt.ylabel('counts')\n",
    "plt.title(title)"
   ]
  },
  {
   "cell_type": "code",
   "execution_count": null,
   "metadata": {},
   "outputs": [],
   "source": [
    "# setting up a bandpass filter\n",
    "\n",
    "T1 = 100   # minimum period: YOU WILL NEED TO CHANGE THIS\n",
    "T2 = 200   # maximum period: YOU WILL NEED TO CHANGE THIS\n",
    "f1 = 1/T2\n",
    "f2 = 1/T1\n",
    "npoles = 2\n",
    "\n",
    "can_bp = st.copy()\n",
    "can_bp.detrend('constant')\n",
    "can_bp.detrend('linear')\n",
    "can_bp.taper(0.05)\n",
    "can_bp.filter('bandpass', freqmin=f1, freqmax=f2, corners=npoles, zerophase=True)\n",
    "\n",
    "tr1 = can_bp[0].data\n",
    "\n",
    "title = f'{can_bp[0].id} − starting {can_bp[0].stats[\"starttime\"]}'\n",
    "\n",
    "plt.plot(t, tr1, c='b')\n",
    "plt.xlabel('seconds')\n",
    "plt.ylabel('counts')\n",
    "plt.title(title)"
   ]
  },
  {
   "cell_type": "code",
   "execution_count": null,
   "metadata": {},
   "outputs": [],
   "source": [
    "# You will need to apply the functions hilbert AND smooth, FOLLOWING NI ET AL. (2005), FIGURE 1\n",
    "# hilbert doc: https://docs.scipy.org/doc/scipy/reference/generated/scipy.signal.hilbert.html\n",
    "\n",
    "# try something like smooth(tr1,npts)\n",
    "# where npts is the number of points in a sliding window (MUST BE AN ODD INTEGER)\n",
    "\n"
   ]
  },
  {
   "cell_type": "code",
   "execution_count": null,
   "metadata": {},
   "outputs": [],
   "source": []
  }
 ],
 "metadata": {
  "celltoolbar": "Tags",
  "kernelspec": {
   "display_name": "seismo",
   "language": "python",
   "name": "conda-env-seismo-py"
  },
  "language_info": {
   "codemirror_mode": {
    "name": "ipython",
    "version": 3
   },
   "file_extension": ".py",
   "mimetype": "text/x-python",
   "name": "python",
   "nbconvert_exporter": "python",
   "pygments_lexer": "ipython3",
   "version": "3.11.0"
  }
 },
 "nbformat": 4,
 "nbformat_minor": 4
}
