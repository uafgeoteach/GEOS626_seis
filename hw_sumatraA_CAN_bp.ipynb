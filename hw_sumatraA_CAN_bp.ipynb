{
 "cells": [
  {
   "cell_type": "code",
   "execution_count": null,
   "metadata": {},
   "outputs": [],
   "source": [
    "%matplotlib inline\n",
    "\n",
    "import glob\n",
    "import matplotlib.pyplot as plt\n",
    "import numpy as np\n",
    "import os\n",
    "import struct\n",
    "import warnings\n",
    "\n",
    "from __future__ import print_function\n",
    "from matplotlib.mlab import detrend\n",
    "from obspy import *\n",
    "from obspy.core import read, UTCDateTime\n",
    "from obspy.clients.fdsn import Client\n",
    "from obspy.signal.cross_correlation import xcorr_pick_correction\n",
    "from obspy.signal.filter import lowpass\n",
    "from obspy.signal.invsim import cosine_taper \n",
    "from scipy import interpolate, signal\n",
    "from time import *\n",
    "\n",
    "from lib_seis import smooth\n",
    "from lib_seis import wf_fft\n",
    "\n",
    "warnings.filterwarnings('ignore')                  # do not show warnings\n",
    "\n",
    "plt.style.use('ggplot')\n",
    "plt.rcParams['figure.figsize'] = 10, 6\n",
    "plt.rcParams['lines.linewidth'] = 0.5\n",
    "\n",
    "# Adaptation of CAN_bp.m by Carl Tape\n",
    "# Coding by: Yongki Aiman, Tomy Gunawan, Angel Ling\n",
    "# Bandpass filtering the vertical seismogram\n",
    "# custom functions: smooth, wf_fft"
   ]
  },
  {
   "cell_type": "code",
   "execution_count": null,
   "metadata": {},
   "outputs": [],
   "source": [
    "# get the waveforms\n",
    "client = Client(\"IRIS\")\n",
    "t = UTCDateTime(\"2004-12-26T00:52:23.900\")\n",
    "starttime = UTCDateTime(\"2004-12-26T00:48:25.600\")\n",
    "endtime = t+(2*3600) # 2 hrs after the earthquake\n",
    "\n",
    "st = client.get_waveforms(\"G\", \"CAN\", \"*\", \"BHZ\", starttime, endtime, attach_response=True)\n",
    "print(st)"
   ]
  },
  {
   "cell_type": "code",
   "execution_count": null,
   "metadata": {},
   "outputs": [],
   "source": [
    "can = st.copy()\n",
    "tr = can[0].data\n",
    "df = can[0].stats.sampling_rate\n",
    "times = can[0].times()\n",
    "\n",
    "# FIX: DO NOT HARD CODE STATION AND CHANNEL\n",
    "title = 'CAN (BHZ) − starting '+ str(can[0].stats['starttime'])\n",
    "\n",
    "plt.plot(times,tr, c='b')\n",
    "plt.xlabel('seconds')\n",
    "plt.ylabel('counts')\n",
    "plt.title(title)\n",
    "plt.show();"
   ]
  },
  {
   "cell_type": "code",
   "execution_count": null,
   "metadata": {},
   "outputs": [],
   "source": [
    "# set up the bandpass filter\n",
    "T1 = 100   # minimum period: YOU WILL NEED TO CHANGE THIS\n",
    "T2 = 200   # maximum period: YOU WILL NEED TO CHANGE THIS\n",
    "f1 = 1/T2\n",
    "f2 = 1/T1\n",
    "npoles = 2\n",
    "\n",
    "can_bp = st.copy()\n",
    "can_bp.detrend('constant')\n",
    "can_bp.detrend('linear')\n",
    "can_bp.taper(0.05)\n",
    "can_bp.filter('bandpass', freqmin=f1, freqmax=f2, corners=npoles, zerophase=True)\n",
    "\n",
    "tr1 = can_bp[0].data\n",
    "plt.plot(times,tr1, c='b')\n",
    "plt.xlabel('seconds')\n",
    "plt.ylabel('counts')\n",
    "plt.title(title)\n",
    "plt.show();"
   ]
  },
  {
   "cell_type": "code",
   "execution_count": null,
   "metadata": {},
   "outputs": [],
   "source": [
    "# You will need to apply hilbert AND smooth, FOLLOWING NI ET AL. (2005), FIGURE 1\n",
    "\n",
    "# hilbert doc: https://docs.scipy.org/doc/scipy/reference/generated/scipy.signal.hilbert.html\n",
    "\n",
    "# try something like smooth(tr1,npts)\n",
    "# where npts is the number of points in a sliding window (MUST BE AN ODD INTEGER)\n",
    "\n"
   ]
  },
  {
   "cell_type": "code",
   "execution_count": null,
   "metadata": {},
   "outputs": [],
   "source": []
  }
 ],
 "metadata": {
  "celltoolbar": "Tags",
  "kernelspec": {
   "display_name": "seismo",
   "language": "python",
   "name": "conda-env-.local-seismo-py"
  },
  "language_info": {
   "codemirror_mode": {
    "name": "ipython",
    "version": 3
   },
   "file_extension": ".py",
   "mimetype": "text/x-python",
   "name": "python",
   "nbconvert_exporter": "python",
   "pygments_lexer": "ipython3",
   "version": "3.11.0"
  }
 },
 "nbformat": 4,
 "nbformat_minor": 4
}
