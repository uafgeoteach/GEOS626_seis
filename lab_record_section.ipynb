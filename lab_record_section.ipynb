{
 "cells": [
  {
   "cell_type": "markdown",
   "metadata": {},
   "source": [
    "# Applied Seismology, GEOS 626, University of Alaska Fairbanks"
   ]
  },
  {
   "cell_type": "markdown",
   "metadata": {},
   "source": [
    "**Lab Exercise: Analyzing seismic data in record sections [record section]** <br/>\n",
    "GEOS 626/426: Applied Seismology\n",
    "\n",
    "**Instructions**\n",
    "\n",
    "- The goal is to create different seismic record section plots. A seismic record section is a series of\n",
    "  seismograms that is plotted in some particular order. Typically, the x-axis is time, and then the seismograms\n",
    "  are separated in the y-direction and ordered by source-station distance or source-station azimuth.\n",
    "- There are two main procedures of this lab:\n",
    "    - fetching waveforms from the IRIS Data Management Center.\n",
    "    - plotting record sections of seismograms.\n",
    "- The two main procedures are executed using the software package [PySEP](https://pysep.readthedocs.io/en/devel/index.html),\n",
    "  which uses [ObsPy](https://docs.obspy.org/). Check PySEP's\n",
    "  [data gathering](https://pysep.readthedocs.io/en/devel/autoapi/pysep/pysep/index.html#pysep.pysep.Pysep) and\n",
    "  [record section plot](https://pysep.readthedocs.io/en/devel/autoapi/pysep/recsec/index.html#pysep.recsec.RecordSection)\n",
    "  pages for details on the two procedures.\n",
    "- The bandpass filter that is applied to the seismograms can have a dramatic effect on what is visible. The\n",
    "  frequency limits of the bandpass is one of several important choices that are needed when plotting record\n",
    "  sections. Check the IRIS [webpage](https://ds.iris.edu/ds/nodes/dmc/data/formats/seed-channel-naming) for\n",
    "  the SEED format seismic channel naming.\n",
    "- We will not be removing instrument responses, as we did in lab\\_response. However, removing the instrument\n",
    "  response can easily be achieved with the same tools. The two reasons we do not remove the responses are:\n",
    "    - it takes a bit longer, computationally.\n",
    "    - it can significantly distort the shape of the unfiltered waveforms, especially ones that are “odd,”\n",
    "      which, here, we are interested in."
   ]
  },
  {
   "cell_type": "code",
   "execution_count": null,
   "metadata": {
    "collapsed": false,
    "jupyter": {
     "outputs_hidden": false
    },
    "pycharm": {
     "name": "#%%\n"
    }
   },
   "outputs": [],
   "source": [
    "%matplotlib widget\n",
    "\n",
    "import matplotlib.pyplot as plt\n",
    "import matplotlib.image as img\n",
    "import numpy as np\n",
    "import os\n",
    "import warnings\n",
    "\n",
    "from copy import copy\n",
    "from obspy.core import UTCDateTime\n",
    "from pysep import Pysep\n",
    "from pysep.recsec import plotw_rs"
   ]
  },
  {
   "cell_type": "code",
   "execution_count": null,
   "metadata": {},
   "outputs": [],
   "source": [
    "# script settings\n",
    "\n",
    "warnings.filterwarnings(\"ignore\")\n",
    "plt.rcParams['figure.figsize'] = 9, 6"
   ]
  },
  {
   "cell_type": "markdown",
   "metadata": {
    "pycharm": {
     "name": "#%% md\n"
    }
   },
   "source": [
    "- The notebook is organized into 7 event examples -\n",
    "    - 1. Yahtse glacier calving event\n",
    "    - 2. Mw 7.5 earthquake in southeastern Alaska\n",
    "    - 3. explosion in Fairbanks\n",
    "    - 4. very low frequency (VLF) event near Kantishna\n",
    "    - 5. landslide near Lituya Bay\n",
    "    - 6. Mw 8.6 Indian Ocean (offshore Sumatra) recorded in Alaska, plus triggered earthquakes\n",
    "        - 6.1. triggered earthquake (Andreanof)\n",
    "        - 6.2. triggered earthquake (Nenana crustal)\n",
    "        - 6.3. triggered earthquake (Iliamna intraslab)\n",
    "    - 7. your own example"
   ]
  },
  {
   "cell_type": "markdown",
   "metadata": {},
   "source": [
    "- Spend some time to understand the two key parts of each example - <br/>\n",
    "      - waveform extraction\n",
    "      - plotting a record section\n",
    "\n",
    ">__NOTE:__ The notebook is designed such that data for a given example is downloaded only once and stored for\n",
    "> subsequent use."
   ]
  },
  {
   "cell_type": "code",
   "execution_count": null,
   "metadata": {
    "collapsed": false,
    "jupyter": {
     "outputs_hidden": false
    },
    "pycharm": {
     "name": "#%%\n"
    }
   },
   "outputs": [],
   "source": [
    "def fetch_and_plot(event, duration, download, plotting, bandpass):\n",
    "\n",
    "    '''\n",
    "    - downloads seismograms and plot them in a record section based on user inputs\n",
    "    - also plots a source station map corresponding to the downloaded data\n",
    "    - uses PySEP's data download and record section plotting utilities for the same\n",
    "    - does not download data if the output data directory already exists\n",
    "    '''\n",
    "\n",
    "    '''\n",
    "    :type event: dict\n",
    "    :param event: event details\n",
    "    :type duration: dict\n",
    "    :param duration: time range for for data requested\n",
    "    :type download: dict\n",
    "    :param download: data download parameters\n",
    "    :type plotting: dict\n",
    "    :param plotting: record section plotting parameters\n",
    "    :type bandpass: dict\n",
    "    :param bandpass: bandpass filter parameters\n",
    "    '''\n",
    "\n",
    "    # download data\n",
    "    data_dir  = f'{download[\"output_dir\"]}/{download[\"overwrite_event_tag\"]}'\n",
    "    overwrite = f'{download[\"overwrite\"]}'\n",
    "\n",
    "    if (not os.path.isdir(data_dir)) or (overwrite == 'True'):\n",
    "        print('\\npreparing to download data ....')\n",
    "        ps = Pysep(**event,**duration,**download)\n",
    "        ps.run()\n",
    "    else:\n",
    "        print('\\ndata directory already exists, no data will be downloaded')\n",
    "\n",
    "\n",
    "    # plot source station map\n",
    "    print('plotting source station map ....')\n",
    "    plt.figure()\n",
    "    source_station_map = img.imread(f'{data_dir}/station_map.png')\n",
    "    plt.imshow(source_station_map)\n",
    "    plt.axis('off')\n",
    "    plt.show()\n",
    "\n",
    "    # plot the record section using Pyseps's record section plotting tool\n",
    "    print('\\nplotting record section ....')\n",
    "    plotw_rs(**plotting, **bandpass)"
   ]
  },
  {
   "cell_type": "code",
   "execution_count": null,
   "metadata": {},
   "outputs": [],
   "source": [
    "# setting pysep's data download defaults\n",
    "\n",
    "# list of networks to retrieve data from\n",
    "# providing an explicit list of networks is safer than using the wildcard (*)\n",
    "networks            = 'AK,AT,AU,AV,BK,CI,CN,CU,GT,IC,II,IM,IU,MS,TA,TS,US,XE,XM,XR,YM,YV,XF,XP,XZ'\n",
    "# \\networks            = '*'\n",
    "\n",
    "download_defaults   = dict( networks                     = networks,\n",
    "                            stations                     = '*',\n",
    "                            locations                    = '*',\n",
    "                            channels                     = 'BHZ',\n",
    "                            maxdistance_km               = 200,\n",
    "                            remove_clipped               = False,\n",
    "                            remove_insufficient_length   = False,\n",
    "                            fill_data_gaps               = 0,\n",
    "                            remove_response              = False,\n",
    "                            log_level                    = 'INFO',\n",
    "                            plot_files                   = 'map',\n",
    "                            output_dir                   = 'datawf',\n",
    "                            sac_subdir                   = '',\n",
    "                            overwrite_event_tag          = f'',\n",
    "                            overwrite                    = False )"
   ]
  },
  {
   "cell_type": "code",
   "execution_count": null,
   "metadata": {},
   "outputs": [],
   "source": [
    "# setting pysep's record section plotting defaults\n",
    "\n",
    "plotting_defaults   = dict( pysep_path                   = '',\n",
    "                            sort_by                      = 'distance',\n",
    "                            scale_by                     = 'normalize',\n",
    "                            amplitude_scale_factor       = 1,\n",
    "                            time_shift_s                 = None,\n",
    "                            preprocess                   = 'st',\n",
    "                            max_traces_per_rs            = None,\n",
    "                            distance_units               = 'km',\n",
    "                            tmarks                       = [0],\n",
    "                            save                         = '',\n",
    "                            log_level                    = 'CRITICAL' )"
   ]
  },
  {
   "cell_type": "markdown",
   "metadata": {
    "pycharm": {
     "name": "#%% md\n"
    }
   },
   "source": [
    "**Example 1: Yahtse glacier calving event**\n",
    "\n",
    "Exercise\n",
    "\n",
    "- *Examine and then run the code cell below.*\n",
    "- *From the station map generated, examine the source–station geometry, especially closest to the epicenter.*\n",
    "- *In the record section generated, how are the seismograms ordered and aligned?*\n",
    "- *What does NET.STA.LOC.CHA|AZ|DIST represent?*\n",
    "- *What do HHZ and BHZ channels represent?*\n",
    "- *What input variables were needed to specify the bandpass?*\n",
    "- *How is a bandpass filter applied within plotw\\_rs()? Hint: find the online documentation.*\n",
    "- *Describe the characteristics of this signal. Do you see a distinct P wave on any seismogram? (This will\n",
    "  be clearer later, after you have seen P waves from normal earthquakes.)*\n",
    "- *Describe some oddities within the record section.*"
   ]
  },
  {
   "cell_type": "code",
   "execution_count": null,
   "metadata": {},
   "outputs": [],
   "source": [
    "# 1. Yahtse Glacier event\n",
    "# event information could not be found on catalog\n",
    "\n",
    "download   = copy(download_defaults)\n",
    "plotting   = copy(plotting_defaults)\n",
    "\n",
    "event      = dict( origin_time                  = UTCDateTime(\"2010,9,18,14,15,2\"),\n",
    "                   event_latitude               = 60.155496,\n",
    "                   event_longitude              = -141.378343,\n",
    "                   event_depth_km               = 0.1,\n",
    "                   event_magnitude              = 0.1 )\n",
    "\n",
    "duration   = dict( seconds_before_ref           = 20,\n",
    "                   seconds_after_ref            = 70 )\n",
    "\n",
    "download['channels']                            = 'HHZ,BHZ'\n",
    "download['overwrite_event_tag']                 = 'Example_1'\n",
    "\n",
    "bandpass   = dict( min_period_s                 = 0.1,\n",
    "                   max_period_s                 = 2 )\n",
    "\n",
    "plotting[\"pysep_path\"]                          = f'{download[\"output_dir\"]}/{download[\"overwrite_event_tag\"]}'\n",
    "\n",
    "fetch_and_plot(event,duration,download,plotting,bandpass)"
   ]
  },
  {
   "cell_type": "markdown",
   "metadata": {
    "pycharm": {
     "name": "#%% md\n"
    }
   },
   "source": [
    "- *Now try out the different options for sorting seismograms in record sections by running the next cell.*\n",
    "- *You can add *\\_r* to reverse the sorting order; for example, for *alphabetical\\_r* the sorting will go\n",
    "from Z to A.*"
   ]
  },
  {
   "cell_type": "code",
   "execution_count": null,
   "metadata": {
    "collapsed": false,
    "jupyter": {
     "outputs_hidden": false
    },
    "pycharm": {
     "name": "#%%\n"
    }
   },
   "outputs": [],
   "source": [
    "# seismogram sorting options\n",
    "# set to run only for example_index = 1\n",
    "\n",
    "sort_by_tag = ['distance', 'absolute distance', 'azimuth', 'absolute azimuth']\n",
    "\n",
    "for i, sort_by in enumerate(['distance', 'abs_distance', 'azimuth', 'abs_azimuth']):\n",
    "\n",
    "    print(f'\\n\\nCase {i+1}: Seismograms sorted by {sort_by_tag[i]}\\n\\n')\n",
    "\n",
    "    plotting['sort_by']  = sort_by\n",
    "\n",
    "    plotw_rs(**plotting, **bandpass)"
   ]
  },
  {
   "cell_type": "markdown",
   "metadata": {
    "pycharm": {
     "name": "#%% md\n"
    }
   },
   "source": [
    "- *Now try aligning the seismograms on an arrival of your choice.*\n",
    "- *The example below aligns the seismograms on the estimated S arrival times.*"
   ]
  },
  {
   "cell_type": "code",
   "execution_count": null,
   "metadata": {
    "collapsed": false,
    "jupyter": {
     "outputs_hidden": false
    },
    "pycharm": {
     "name": "#%%\n"
    }
   },
   "outputs": [],
   "source": [
    "# seismograms alignment on the S wave\n",
    "# set to run only for example_index = 1\n",
    "\n",
    "print(f'\\n\\nSeismograms aligned on the S wave arrival\\n\\n')\n",
    "\n",
    "plotting['sort_by']      = 'distance'\n",
    "plotting['time_shift_s'] = 's_arrival_time'\n",
    "\n",
    "plotw_rs(**plotting, **bandpass)"
   ]
  },
  {
   "cell_type": "markdown",
   "metadata": {},
   "source": [
    "**Example 2: Mw 7.5 earthquake in southeastern Alaska, near-source recordings**\n",
    "\n",
    "Event information - <br/>\n",
    "https://earthquake.usgs.gov/earthquakes/eventpage/ak0138esnzr <br/>\n",
    "\n",
    "Exercise\n",
    "\n",
    "- *Examine and then run the code cell below.*\n",
    "- *Comment on the notable features of the seismograms.*"
   ]
  },
  {
   "cell_type": "code",
   "execution_count": null,
   "metadata": {},
   "outputs": [],
   "source": [
    "# 2. Mw 7.5 earthquake in southeastern Alaska\n",
    "\n",
    "download   = copy(download_defaults)\n",
    "plotting   = copy(plotting_defaults)\n",
    "\n",
    "channels_1 = 'BHZ,BHE,BHN,BH1,BH2'                                           # broadband channels\n",
    "channels_2 = 'BNZ,BNE,BNN,BN1,BN2,BLZ,BLE,BLN,BL1,BL2'                       # strong motion channels\n",
    "channels_3 = 'HNZ,HNE,HNN,HN1,HN2,HLZ,HLE,HLN,HL1,HL2'                       # strong motion channels\n",
    "\n",
    "# warning: waveforms will have different units (nm/s, nm/s^2)\n",
    "channels   = f'{channels_1},{channels_2},{channels_3}'\n",
    "\n",
    "event      = dict( origin_time                  = UTCDateTime(\"2013,1,5,8,58,32\"),\n",
    "                   event_latitude               = 55.228,\n",
    "                   event_longitude              = -134.859,\n",
    "                   event_depth_km               = 8.7,\n",
    "                   event_magnitude              = 7.5 )\n",
    "\n",
    "duration   = dict( seconds_before_ref           = 50,\n",
    "                   seconds_after_ref            = 300 )\n",
    "\n",
    "download['channels']                            = channels\n",
    "download['maxdistance_km']                      = 500\n",
    "download['overwrite_event_tag']                 = 'Example_2'\n",
    "\n",
    "bandpass   = dict( min_period_s                 = None,\n",
    "                   max_period_s                 = None )\n",
    "\n",
    "plotting['amplitude_scale_factor']              = 0.5\n",
    "plotting['max_traces_per_rs']                   = 13\n",
    "plotting[\"pysep_path\"]                          = f'{download[\"output_dir\"]}/{download[\"overwrite_event_tag\"]}'\n",
    "\n",
    "fetch_and_plot(event,duration,download,plotting,bandpass)"
   ]
  },
  {
   "cell_type": "markdown",
   "metadata": {
    "pycharm": {
     "name": "#%% md\n"
    }
   },
   "source": [
    "**Example 3: Explosion in Fairbanks**\n",
    "\n",
    "Exercise\n",
    "\n",
    "- *Examine and then run the code cell below.*\n",
    "- *There are two signals that appear at most stations. Start by examining the station MDM (Murphy Dome).*\n",
    "- *There is only one source, so how can you explain both signals in terms of their travel times and\n",
    "  amplitudes?*"
   ]
  },
  {
   "cell_type": "code",
   "execution_count": null,
   "metadata": {},
   "outputs": [],
   "source": [
    "# 3. explosion in Fairbanks\n",
    "# event information could not be found on catalog\n",
    "\n",
    "download   = copy(download_defaults)\n",
    "plotting   = copy(plotting_defaults)\n",
    "\n",
    "#event location based on infrasound\n",
    "#elat = 64.8156; elon = -147.9419                                            # original AEC\n",
    "#elat = 64.8045; elon = -147.9653                                            # reviewed AEC\n",
    "\n",
    "event      = dict( origin_time                  = UTCDateTime(\"2013,2,3,1,10,31\"),\n",
    "                   event_latitude               = 64.80175,\n",
    "                   event_longitude              = -147.98236,\n",
    "                   event_depth_km               = 0.1,\n",
    "                   event_magnitude              = 0.1 )\n",
    "\n",
    "duration   = dict( seconds_before_ref           = 50,\n",
    "                   seconds_after_ref            = 200 / 0.3 )                # air wave travel time\n",
    "\n",
    "download['channels']                            = 'SHZ,HHZ,BHZ'              # broadband channels\n",
    "download['overwrite_event_tag']                 = 'Example_3'\n",
    "\n",
    "bandpass   = dict( min_period_s                 = 0.2,\n",
    "                   max_period_s                 = 1 )\n",
    "\n",
    "plotting[\"pysep_path\"]                          = f'{download[\"output_dir\"]}/{download[\"overwrite_event_tag\"]}'\n",
    "\n",
    "fetch_and_plot(event,duration,download,plotting,bandpass)"
   ]
  },
  {
   "cell_type": "markdown",
   "metadata": {
    "pycharm": {
     "name": "#%% md\n"
    }
   },
   "source": [
    "**Example 4: Very low frequency earthquake near Denali**\n",
    "\n",
    "Exercise\n",
    "\n",
    "- *Examine and then run the code cell below.*\n",
    "- *Estimate the dominant frequency of this event?*"
   ]
  },
  {
   "cell_type": "code",
   "execution_count": null,
   "metadata": {},
   "outputs": [],
   "source": [
    "# 4. very low frequency (VLF) event near Kantishna\n",
    "# event information taken from IRIS\n",
    "\n",
    "download   = copy(download_defaults)\n",
    "plotting   = copy(plotting_defaults)\n",
    "\n",
    "event      = dict( origin_time                  = UTCDateTime(\"2014,1,22,12,14,34\"),\n",
    "                   event_latitude               = 63.46,\n",
    "                   event_longitude              = -150.11,\n",
    "                   event_depth_km               = 38.1,\n",
    "                   event_magnitude              = 1.6 )\n",
    "\n",
    "duration   = dict( seconds_before_ref           = 0,\n",
    "                   seconds_after_ref            = 100 )\n",
    "\n",
    "download['overwrite_event_tag']                 = 'Example_4'\n",
    "\n",
    "bandpass   = dict( min_period_s                 = None,\n",
    "                   max_period_s                 = 2 )\n",
    "\n",
    "plotting[\"pysep_path\"]                          = f'{download[\"output_dir\"]}/{download[\"overwrite_event_tag\"]}'\n",
    "\n",
    "fetch_and_plot(event,duration,download,plotting,bandpass)"
   ]
  },
  {
   "cell_type": "markdown",
   "metadata": {
    "pycharm": {
     "name": "#%% md\n"
    }
   },
   "source": [
    "**Example 5: Landslide near Lituya Bay**\n",
    "\n",
    "Exercise\n",
    "\n",
    "- *Examine and then run the code cell below.*\n",
    "- *What is the dominant frequency of this event?*"
   ]
  },
  {
   "cell_type": "code",
   "execution_count": null,
   "metadata": {},
   "outputs": [],
   "source": [
    "# 5. landslide near Lituya Bay\n",
    "# event information taken from IRIS\n",
    "\n",
    "download   = copy(download_defaults)\n",
    "plotting   = copy(plotting_defaults)\n",
    "\n",
    "event      = dict( origin_time                  = UTCDateTime(\"2014,2,16,14,24,30\"),\n",
    "                   event_latitude               = 58.67,\n",
    "                   event_longitude              = -136.84,\n",
    "                   event_depth_km               = 0.1,\n",
    "                   event_magnitude              = 2.4 )\n",
    "\n",
    "duration   = dict( seconds_before_ref           = 0,\n",
    "                   seconds_after_ref            = 600 )\n",
    "\n",
    "download['maxdistance_km']                      = 1000\n",
    "download['overwrite_event_tag']                 = 'Example_5'\n",
    "\n",
    "bandpass   = dict( min_period_s                 = 10,\n",
    "                   max_period_s                 = 40 )\n",
    "\n",
    "plotting[\"pysep_path\"]                          = f'{download[\"output_dir\"]}/{download[\"overwrite_event_tag\"]}'\n",
    "\n",
    "fetch_and_plot(event,duration,download,plotting,bandpass)"
   ]
  },
  {
   "cell_type": "markdown",
   "metadata": {
    "pycharm": {
     "name": "#%% md\n"
    }
   },
   "source": [
    "**Example 6: Mw 8.6 Indian Ocean (offshore Sumatra) earthquake triggering earthquakes in Alaska**\n",
    "\n",
    "Event information - <br/>\n",
    "6. Indian Ocean - https://earthquake.usgs.gov/earthquakes/eventpage/official20120411083836720_20 <br/>\n",
    "6.1. Andreanof - https://earthquake.usgs.gov/earthquakes/eventpage/usp000jhh4 <br/>\n",
    "6.2. Nenana - https://earthquake.usgs.gov/earthquakes/eventpage/ak0124ouaxa8 <br/>\n",
    "6.3. Iliamna - https://earthquake.usgs.gov/earthquakes/eventpage/ak0124ouezxl <br/>"
   ]
  },
  {
   "cell_type": "code",
   "execution_count": null,
   "metadata": {},
   "outputs": [],
   "source": [
    "# origin times of known earthquakes\n",
    "origin_time_sumatra   = UTCDateTime(\"2012,4,11,8,38,36\")\n",
    "origin_time_andreanof = UTCDateTime(\"2012,4,11,9,0,9\")\n",
    "origin_time_nenana    = UTCDateTime(\"2012,4,11,9,21,57\")\n",
    "origin_time_iliamna   = UTCDateTime(\"2012,4,11,9,40,58\")\n",
    "\n",
    "# origin times, in seconds, relative to Sumatra origin time\n",
    "t_andreanof = origin_time_andreanof - origin_time_sumatra\n",
    "t_nenana    = origin_time_nenana    - origin_time_sumatra\n",
    "t_iliamna   = origin_time_iliamna   - origin_time_sumatra\n"
   ]
  },
  {
   "cell_type": "markdown",
   "metadata": {
    "pycharm": {
     "name": "#%% md\n"
    }
   },
   "source": [
    "Exercise\n",
    "\n",
    "- *Examine and then run the code cell below.*\n",
    "- *Examine the record section and try to determine what you see*.\n",
    "- *For each event (which we define as a signal that appears on several stations), determine what the closest\n",
    "   station is. Where did each event occur?*\n",
    "- *Change the bandpass period range (min_period_s and max_period_s) for the record section plot to be\n",
    "   2–1000s, so that you see the complete frequency range of this waveform.*\n",
    "- *Approximately how long did this earthquake last in Alaska?*"
   ]
  },
  {
   "cell_type": "code",
   "execution_count": null,
   "metadata": {},
   "outputs": [],
   "source": [
    "# 6. Mw 8.6 Indian Ocean (offshore Sumatra) earthquake\n",
    "\n",
    "download   = copy(download_defaults)\n",
    "plotting   = copy(plotting_defaults)\n",
    "\n",
    "event      = dict( origin_time                  = origin_time_sumatra,\n",
    "                   event_latitude               = 2.327,\n",
    "                   event_longitude              = 93.063,\n",
    "                   event_depth_km               = 20,\n",
    "                   event_magnitude              = 8.6 )\n",
    "\n",
    "duration   = dict( seconds_before_ref           = 0.25 * 60 * 60,\n",
    "                   seconds_after_ref            = 2    * 60 * 60 )\n",
    "\n",
    "stations   = dict( minlatitude                  =    64.922 - 25,\n",
    "                   maxlatitude                  =    64.922 + 25,\n",
    "                   minlongitude                 = - 148.946 - 25,\n",
    "                   maxlongitude                 = - 148.946 + 25 )\n",
    "\n",
    "download['maxdistance_km']                      = 6371 * np.pi\n",
    "download                                        = {**download, **stations}\n",
    "download['overwrite_event_tag']                 = 'Example_6'\n",
    "\n",
    "# P wave + triggered events\n",
    "bandpass   = dict( min_period_s                 = 0.25,\n",
    "                   max_period_s                 = 0.5 )\n",
    "\n",
    "# full wavetrain (no triggered events visible)\n",
    "# bandpass   = dict( min_period_s                 = 2,\n",
    "#                    max_period_s                 = 1000 )\n",
    "\n",
    "plotting['distance_units']                      = 'deg'\n",
    "plotting['tmarks']                              = [0, t_andreanof, t_nenana, t_iliamna]\n",
    "plotting[\"pysep_path\"]                          = f'{download[\"output_dir\"]}/{download[\"overwrite_event_tag\"]}'\n",
    "\n",
    "fetch_and_plot(event,duration,download,plotting,bandpass)\n"
   ]
  },
  {
   "cell_type": "markdown",
   "metadata": {
    "pycharm": {
     "name": "#%% md\n"
    }
   },
   "source": [
    "Exercise\n",
    "\n",
    "- *Examine and then run the code cells for example 6.1., 6.2. and 6.3. below.*\n",
    "- *You are given the source parameters for three earthquakes that occurred in Alaska during the ground\n",
    "   motion of the main wavetrain from the Mw 8.6 Indian Ocean (offshore Sumatra) earthquake. For each\n",
    "   possibly triggered event, tabulate the following information:*\n",
    "        - the closest station (and the distance in km)\n",
    "        - the suspicious stations\n",
    "        - the widest period range over which the signal is clearly visible. This can be achieved by varying\n",
    "          min_period_s and max_period_s provided as an input for plotting the record sections."
   ]
  },
  {
   "cell_type": "code",
   "execution_count": null,
   "metadata": {},
   "outputs": [],
   "source": [
    "# 6.1. triggered earthquake - Andreanof (NEIC)\n",
    "\n",
    "download   = copy(download_defaults)\n",
    "plotting   = copy(plotting_defaults)\n",
    "\n",
    "event      = dict( origin_time                  = origin_time_andreanof,\n",
    "                   event_latitude               = 51.364,\n",
    "                   event_longitude              = -176.097,\n",
    "                   event_depth_km               = 20.8,\n",
    "                   event_magnitude              = 5.5 )\n",
    "\n",
    "duration   = dict( seconds_before_ref           = 10,\n",
    "                   seconds_after_ref            = 600 )\n",
    "\n",
    "download['maxdistance_km']                      = 2000\n",
    "download['overwrite_event_tag']                 = 'Example_6.1'\n",
    "\n",
    "bandpass   = dict( min_period_s                 = 0.25,\n",
    "                   max_period_s                 = 0.5 )\n",
    "\n",
    "plotting[\"pysep_path\"]                          = f'{download[\"output_dir\"]}/{download[\"overwrite_event_tag\"]}'\n",
    "\n",
    "fetch_and_plot(event,duration,download,plotting,bandpass)"
   ]
  },
  {
   "cell_type": "code",
   "execution_count": null,
   "metadata": {},
   "outputs": [],
   "source": [
    "# 6.2. triggered earthquake - Nenana crustal (NEIC)\n",
    "\n",
    "download   = copy(download_defaults)\n",
    "plotting   = copy(plotting_defaults)\n",
    "\n",
    "event      = dict( origin_time                  = origin_time_nenana,\n",
    "                   event_latitude               = 64.922,\n",
    "                   event_longitude              = -148.946,\n",
    "                   event_depth_km               = 19.3,\n",
    "                   event_magnitude              = 3.9 )\n",
    "\n",
    "duration   = dict( seconds_before_ref           = 10,\n",
    "                   seconds_after_ref            = 200 )\n",
    "\n",
    "download['overwrite_event_tag']                 = 'Example_6.2'\n",
    "\n",
    "bandpass   = dict( min_period_s                 = 0.25,\n",
    "                   max_period_s                 = 0.5 )\n",
    "\n",
    "plotting[\"pysep_path\"]                          = f'{download[\"output_dir\"]}/{download[\"overwrite_event_tag\"]}'\n",
    "\n",
    "fetch_and_plot(event,duration,download,plotting,bandpass)"
   ]
  },
  {
   "cell_type": "code",
   "execution_count": null,
   "metadata": {},
   "outputs": [],
   "source": [
    "# 6.3. triggered earthquake - Iliamna intraslab (NEIC)\n",
    "\n",
    "download   = copy(download_defaults)\n",
    "plotting   = copy(plotting_defaults)\n",
    "\n",
    "event      = dict( origin_time                  = origin_time_iliamna,\n",
    "                   event_latitude               = 60.104,\n",
    "                   event_longitude              = -152.832,\n",
    "                   event_depth_km               = 101.5,\n",
    "                   event_magnitude              = 2.9 )\n",
    "\n",
    "duration   = dict( seconds_before_ref           = 10,\n",
    "                   seconds_after_ref            = 200 )\n",
    "\n",
    "download['maxdistance_km']                      = 400\n",
    "download['overwrite_event_tag']                 = 'Example_6.3'\n",
    "\n",
    "bandpass   = dict( min_period_s                 = 0.25,\n",
    "                   max_period_s                 = 0.5 )\n",
    "\n",
    "plotting[\"pysep_path\"]                          = f'{download[\"output_dir\"]}/{download[\"overwrite_event_tag\"]}'\n",
    "\n",
    "fetch_and_plot(event,duration,download,plotting,bandpass)"
   ]
  },
  {
   "cell_type": "markdown",
   "metadata": {
    "pycharm": {
     "name": "#%% md\n"
    }
   },
   "source": [
    "**Example 7: Your own example**\n",
    "\n",
    "Exercise\n",
    "\n",
    "- *Examine and then modify the code cell below to look at an event of your interest, by extracting waveforms\n",
    "    and plotting a record section.*"
   ]
  },
  {
   "cell_type": "code",
   "execution_count": null,
   "metadata": {
    "pycharm": {
     "name": "#%%\n"
    }
   },
   "outputs": [],
   "source": [
    "# 7. your own example below\n",
    "\n",
    "download   = copy(download_defaults)\n",
    "plotting   = copy(plotting_defaults)\n",
    "\n",
    "download['overwrite_event_tag'] = 'Example_7'\n",
    "plotting[\"pysep_path\"] = f'{download[\"output_dir\"]}/{download[\"overwrite_event_tag\"]}'\n",
    "\n",
    "event      = dict()\n",
    "\n",
    "duration   = dict()\n",
    "\n",
    "bandpass   = dict()\n",
    "\n",
    "# fetch_and_plot(event,duration,download,plotting,bandpass)\n",
    "\n",
    "\n"
   ]
  }
 ],
 "metadata": {
  "kernelspec": {
   "display_name": "seismo [conda env:.local-seismo]",
   "language": "python",
   "name": "conda-env-.local-seismo-py"
  },
  "language_info": {
   "codemirror_mode": {
    "name": "ipython",
    "version": 3
   },
   "file_extension": ".py",
   "mimetype": "text/x-python",
   "name": "python",
   "nbconvert_exporter": "python",
   "pygments_lexer": "ipython3",
   "version": "3.11.4"
  }
 },
 "nbformat": 4,
 "nbformat_minor": 4
}
