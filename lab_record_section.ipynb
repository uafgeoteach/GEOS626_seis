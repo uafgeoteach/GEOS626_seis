{
 "cells": [
  {
   "cell_type": "markdown",
   "metadata": {},
   "source": [
    "**Lab Exercise: Analyzing seismic data in record sections [record section]** <br/>\n",
    "GEOS 626/426: Applied Seismology, Carl Tape\n",
    "\n",
    "**Instructions**\n",
    "\n",
    "- The goal is to create different seismic record section plots. A seismic record section is a series of\n",
    "seismograms that is plotted in some particular order. Typically, the x-axis is time, and then the seismograms are\n",
    "separated in the y-direction and ordered by source-station distance or source-station azimuth.\n",
    "- There are two main procedures of this lab:\n",
    "    - fetching waveforms from the IRIS Data Management Center.\n",
    "    - plotting record sections of seismograms.\n",
    "- The two main procedures are executed using the software package [PySEP](https://adjtomo.github.io/pysep), which uses\n",
    "[ObsPy](https://docs.obspy.org/). Check PySEP's\n",
    "[data gathering](https://pysep.readthedocs.io/en/devel/autoapi/pysep/pysep/index.html#pysep.pysep.Pysep) and\n",
    "[record section plot](https://pysep.readthedocs.io/en/devel/autoapi/pysep/recsec/index.html#pysep.recsec.RecordSection)\n",
    "pages for details on the two procedures.\n",
    "- The bandpass filter that is applied to the seismograms can have a dramatic effect on what is visible. The frequency\n",
    "limits of the bandpass is one of several important choices that are needed when plotting record sections. Check the\n",
    "IRIS [webpage](https://ds.iris.edu/ds/nodes/dmc/data/formats/seed-channel-naming) for the SEED format seismic channel\n",
    "naming.\n",
    "- We will not be removing instrument responses, as we did in lab\\_response. However, removing the instrument response\n",
    "can easily be achieved with the same tools. The two reasons we do not remove the responses are:\n",
    "    - it takes a bit longer, computationally.\n",
    "    - it can significantly distort the shape of the unfiltered waveforms, especially ones that are “odd,” which, here,\n",
    "      we are interested in."
   ]
  },
  {
   "cell_type": "code",
   "execution_count": null,
   "outputs": [],
   "source": [
    "%matplotlib widget\n",
    "\n",
    "import matplotlib.pyplot as plt\n",
    "import matplotlib.image as img\n",
    "import numpy as np\n",
    "import os\n",
    "import warnings\n",
    "\n",
    "from obspy import read\n",
    "from obspy.core import UTCDateTime\n",
    "from pysep import Pysep\n",
    "from pysep.recsec import plotw_rs"
   ],
   "metadata": {
    "collapsed": false,
    "pycharm": {
     "name": "#%%\n"
    }
   }
  },
  {
   "cell_type": "code",
   "execution_count": null,
   "metadata": {},
   "outputs": [],
   "source": [
    "# script settings\n",
    "\n",
    "warnings.filterwarnings(\"ignore\")\n",
    "plt.rcParams['figure.figsize'] = 12, 8"
   ]
  },
  {
   "cell_type": "markdown",
   "metadata": {},
   "source": [
    "In the subsequent code cell, set *example\\_index* corresponding to the example from the following list, that you\n",
    "want to run -\n",
    "\n",
    "    1   - Yahtse glacier calving event <br/>\n",
    "    2   - Mw 7.5 earthquake in southeastern Alaska <br/>\n",
    "    3   - explosion in Fairbanks <br/>\n",
    "    4   - very low frequency (VLF) event near Kantishna <br/>\n",
    "    5   - landslide near Lituya Bay <br/>\n",
    "    6   - Mw 8.6 Indian Ocean (offshore Sumatra) recorded in Alaska, plus triggered earthquakes <br/>\n",
    "    6.1 - triggered earthquake (Andreanof) <br/>\n",
    "    6.2 - triggered earthquake (Nenana crustal) <br/>\n",
    "    6.3 - triggered earthquake (Iliamna intraslab) <br/>\n",
    "    7   - your own example\n",
    "\n",
    "Now run all cells below.\n",
    "\n",
    ">__NOTE:__ Run the whole notebook everytime you change the *example_index* or if you make other changes to the script.\n",
    "> This will ensure that all variables are set correctly before each run.\n",
    "\n",
    ">__NOTE:__ The notebook is designed such that data for a given example is downloaded only once and stored for\n",
    "> subsequent use."
   ]
  },
  {
   "cell_type": "markdown",
   "source": [
    "**Exercises**\n",
    "\n",
    "Spend some time to understand the two key parts of each example - <br/>\n",
    "a) waveform extraction, <br/>\n",
    "b) plotting a record section <br/>\n",
    "\n",
    "- What does NET.STA.LOC.CHA|AZ|DIST represent?\n",
    "- What do HHZ and BHZ channels represent? Check out\n",
    "[here](https://ds.iris.edu/ds/nodes/dmc/data/formats/seed-channel-naming) for details.\n",
    "- What input variables are needed to specify the bandpass? <br/>\n",
    "- How is a bandpass filter applied within plotw\\_rs()? Hint: find the online documentation.\n",
    "- In the record section generated in the next section, how are the seismograms aligned?\n",
    "- Try out the different options for sorting seismograms in record sections, following the documentation for\n",
    "[PySEP](https://adjtomo.github.io/pysep/autoapi/pysep/recsec/index.html#pysep.recsec.RecordSection). You can add\n",
    "\\_r to reverse the sorting order; for example, for alphabetical\\_r the sorting will go from Z to A."
   ],
   "metadata": {
    "collapsed": false,
    "pycharm": {
     "name": "#%% md\n"
    }
   }
  },
  {
   "cell_type": "code",
   "execution_count": null,
   "outputs": [],
   "source": [
    "# choose example to run\n",
    "example_index = 2"
   ],
   "metadata": {
    "collapsed": false,
    "pycharm": {
     "name": "#%%\n"
    }
   }
  },
  {
   "cell_type": "code",
   "execution_count": null,
   "metadata": {},
   "outputs": [],
   "source": [
    "# list of networks to retrieve data from\n",
    "# providing an explicit list of networks is safer than using the wildcard (*)\n",
    "networks      = 'AK,AT,AU,AV,BK,CI,CN,CU,GT,IC,II,IM,IU,MS,TA,TS,US,XE,XM,XR,YM,YV,XF,XP,XZ'\n",
    "# networks      = '*'"
   ]
  },
  {
   "cell_type": "code",
   "execution_count": null,
   "metadata": {},
   "outputs": [],
   "source": [
    "# setting pysep's data download defaults\n",
    "\n",
    "download_defaults   = dict( networks                     = networks,\n",
    "                            stations                     = '*',\n",
    "                            locations                    = '*',\n",
    "                            channels                     = 'BHZ',\n",
    "                            maxdistance_km               = 200,\n",
    "                            remove_clipped               = False,\n",
    "                            remove_insufficient_length   = False,\n",
    "                            fill_data_gaps               = 0,\n",
    "                            remove_response              = False,\n",
    "                            log_level                    = 'INFO',\n",
    "                            write_files                  = 'sac',\n",
    "                            plot_files                   = 'map',\n",
    "                            output_dir                   = 'datawf',\n",
    "                            sac_subdir                   = '',\n",
    "                            overwrite_event_tag          = f'Example_{example_index}',\n",
    "                            overwrite                    = False )"
   ]
  },
  {
   "cell_type": "code",
   "execution_count": null,
   "metadata": {},
   "outputs": [],
   "source": [
    "# setting pysep's record section plotting defaults\n",
    "\n",
    "plotting_defaults   = dict( pysep_path                   = f'datawf/Example_{example_index}',\n",
    "                            sort_by                      = 'distance',\n",
    "                            scale_by                     = 'normalize',\n",
    "                            amplitude_scale_factor       = 1,\n",
    "                            time_shift_s                 = None,\n",
    "                            preprocess                   = 'st',\n",
    "                            max_traces_per_rs            = None,\n",
    "                            distance_units               = 'km',\n",
    "                            tmarks                       = [0],\n",
    "                            save                         = '',\n",
    "                            log_level                    = 'CRITICAL' )"
   ]
  },
  {
   "cell_type": "markdown",
   "source": [
    "**Example 1: Yahtse glacier calving event**\n",
    "\n",
    "    - From the station map, examine the source–station geometry, especially closest to the epicenter.\n",
    "    - Describe the characteristics of this signal. Do you see a distinct P wave on any seismogram? (This will be\n",
    "      clearer later, after you have seen P waves from normal earthquakes.)\n",
    "    - What does the spectrogram show? Try changing the station (e.g., to BOOM) and other input parameters. How close is\n",
    "      BOOM to the event location?\n",
    "    - Describe some oddities within the record section."
   ],
   "metadata": {
    "collapsed": false,
    "pycharm": {
     "name": "#%% md\n"
    }
   }
  },
  {
   "cell_type": "code",
   "execution_count": null,
   "metadata": {},
   "outputs": [],
   "source": [
    "# 1. Yahtse Glacier event\n",
    "# event information could not be found on catalog\n",
    "\n",
    "if example_index == 1:\n",
    "    \n",
    "    event      = dict( origin_time                  = UTCDateTime(\"2010,9,18,14,15,2\"),\n",
    "                       event_latitude               = 60.155496,\n",
    "                       event_longitude              = -141.378343,\n",
    "                       event_depth_km               = 0.1,\n",
    "                       event_magnitude              = 0.1 )\n",
    "\n",
    "    duration   = dict( seconds_before_ref           = 20,\n",
    "                       seconds_after_ref            = 70 )\n",
    "    \n",
    "    download_defaults['channels']                   = 'HHZ,BHZ'\n",
    "    \n",
    "    bandpass   = dict( min_period_s                 = 0.1,\n",
    "                       max_period_s                 = 2 )"
   ]
  },
  {
   "cell_type": "markdown",
   "source": [
    "**Example 2: Mw 7.5 earthquake in southeastern Alaska, near-source recordings**\n",
    "\n",
    "    - Comment on the notable features of these seismograms."
   ],
   "metadata": {
    "collapsed": false
   }
  },
  {
   "cell_type": "code",
   "execution_count": null,
   "metadata": {},
   "outputs": [],
   "source": [
    "# 2. Mw 7.5 earthquake in southeastern Alaska\n",
    "# event information - https://earthquake.usgs.gov/earthquakes/eventpage/ak0138esnzr\n",
    "\n",
    "if example_index == 2:\n",
    "    \n",
    "    channels_1 = 'BHZ,BHE,BHN,BH1,BH2'                                                         # broadband channels\n",
    "    channels_2 = 'BNZ,BNE,BNN,BN1,BN2,BLZ,BLE,BLN,BL1,BL2'                                     # strong motion channels\n",
    "    channels_3 = 'HNZ,HNE,HNN,HN1,HN2,HLZ,HLE,HLN,HL1,HL2'                                     # strong motion channels\n",
    "    channels   = f'{channels_1},{channels_2},{channels_3}'                                     # warning: waveforms will have different units (nm/s, nm/s^2)\n",
    "    \n",
    "    event      = dict( origin_time                  = UTCDateTime(\"2013,1,5,8,58,32\"),\n",
    "                       event_latitude               = 55.228,\n",
    "                       event_longitude              = -134.859,\n",
    "                       event_depth_km               = 8.7,\n",
    "                       event_magnitude              = 7.5 )\n",
    "    \n",
    "    duration   = dict( seconds_before_ref           = 50,\n",
    "                       seconds_after_ref            = 300 )\n",
    "    \n",
    "    download_defaults['channels']                   = channels\n",
    "    download_defaults['maxdistance_km']             = 500\n",
    "    \n",
    "    bandpass   = dict( min_period_s                 = None,\n",
    "                       max_period_s                 = None )\n",
    "    \n",
    "    plotting_defaults['amplitude_scale_factor']     = 0.5\n",
    "    plotting_defaults['max_traces_per_rs']          = 13"
   ]
  },
  {
   "cell_type": "markdown",
   "source": [
    "**Example 3: Explosion in Fairbanks**\n",
    "\n",
    "    - There are two signals that appear at most stations. Start by examining the station MDM (Murphy Dome).\n",
    "    - There is only one source, so how can you explain both signals in terms of their travel times and amplitudes?"
   ],
   "metadata": {
    "collapsed": false,
    "pycharm": {
     "name": "#%% md\n"
    }
   }
  },
  {
   "cell_type": "code",
   "execution_count": null,
   "metadata": {},
   "outputs": [],
   "source": [
    "# 3. explosion in Fairbanks\n",
    "# event information could not be found on catalog\n",
    "\n",
    "if example_index == 3:\n",
    "    \n",
    "    #event location based on infrasound \n",
    "    #elat = 64.8156; elon = -147.9419                                                          # original AEC\n",
    "    #elat = 64.8045; elon = -147.9653                                                          # reviewed AEC\n",
    "    \n",
    "    event      = dict( origin_time                  = UTCDateTime(\"2013,2,3,1,10,31\"),\n",
    "                       event_latitude               = 64.80175,\n",
    "                       event_longitude              = -147.98236,\n",
    "                       event_depth_km               = 0.1,\n",
    "                       event_magnitude              = 0.1 )\n",
    "       \n",
    "    duration   = dict( seconds_before_ref           = 50,\n",
    "                       seconds_after_ref            = 200 / 0.3 )                              # air wave travel time\n",
    "    \n",
    "    download_defaults['channels']                   = 'SHZ,HHZ,BHZ'                            # broadband channels\n",
    "    \n",
    "    bandpass   = dict( min_period_s                 = 0.2,\n",
    "                       max_period_s                 = 1 )"
   ]
  },
  {
   "cell_type": "markdown",
   "source": [
    "**Example 4: Very low frequency earthquake near Denali**\n",
    "\n",
    "    - Estimate the dominant frequency of this event? (Hint: use the spectrogram tool.)"
   ],
   "metadata": {
    "collapsed": false,
    "pycharm": {
     "name": "#%% md\n"
    }
   }
  },
  {
   "cell_type": "code",
   "execution_count": null,
   "metadata": {},
   "outputs": [],
   "source": [
    "# 4. very low frequency (VLF) event near Kantishna\n",
    "# event information taken from IRIS\n",
    "\n",
    "if example_index == 4:\n",
    "    \n",
    "    event      = dict( origin_time                  = UTCDateTime(\"2014,1,22,12,14,34\"),\n",
    "                       event_latitude               = 63.46,\n",
    "                       event_longitude              = -150.11,\n",
    "                       event_depth_km               = 38.1,\n",
    "                       event_magnitude              = 1.6 )\n",
    "    \n",
    "    duration   = dict( seconds_before_ref           = 0,\n",
    "                       seconds_after_ref            = 100 )\n",
    "    \n",
    "    bandpass   = dict( min_period_s                 = None,\n",
    "                       max_period_s                 = 2 )"
   ]
  },
  {
   "cell_type": "markdown",
   "source": [
    "**Example 5: Landslide near Lituya**\n",
    "\n",
    "    - What is the dominant frequency of this event?"
   ],
   "metadata": {
    "collapsed": false,
    "pycharm": {
     "name": "#%% md\n"
    }
   }
  },
  {
   "cell_type": "code",
   "execution_count": null,
   "metadata": {},
   "outputs": [],
   "source": [
    "# 5. landslide near Lituya Bay\n",
    "# event information taken from IRIS\n",
    "\n",
    "if example_index == 5:\n",
    "    \n",
    "    event      = dict( origin_time                  = UTCDateTime(\"2014,2,16,14,24,30\"),\n",
    "                       event_latitude               = 58.67,\n",
    "                       event_longitude              = -136.84,\n",
    "                       event_depth_km               = 0.1,\n",
    "                       event_magnitude              = 2.4 )\n",
    "\n",
    "    duration   = dict( seconds_before_ref           = 0,\n",
    "                       seconds_after_ref            = 600 )\n",
    "    \n",
    "    download_defaults['maxdistance_km']             = 1000\n",
    "    \n",
    "    bandpass   = dict( min_period_s                 = 10,\n",
    "                       max_period_s                 = 40 )"
   ]
  },
  {
   "cell_type": "markdown",
   "source": [
    "**Example 6: Mw 8.6 Indian Ocean (offshorer Sumatra) earthquake triggering earthquakes in Alaska**\n",
    "\n",
    "Event information - <br/> 6. Indian Ocean -\n",
    "https://earthquake.usgs.gov/earthquakes/eventpage/official20120411083836720_20 <br/>\n",
    "\n",
    "    - Examine the record section and try to determine what you see.\n",
    "    - For each event (which we define as a signal that appears on several stations), determine what the closest\n",
    "      station is. Where did each event occur?\n",
    "    - Change the bandpass period range (min_period_s and max_period_s) for the record section plot to be 2–1000 s, so\n",
    "      that you see the complete frequency range of this waveform.\n",
    "    - Approximately how long did this earthquake last in Alaska?\n",
    "\n",
    "**Example 6.1, 6.2 & 6.3: Triggered earthquakes during the Mw 8.6 Indian Ocean (offshorer Sumatra) earthquake in\n",
    "Alaska**\n",
    "\n",
    "Event information - <br/>\n",
    "6.1. Andreanof - https://earthquake.usgs.gov/earthquakes/eventpage/usp000jhh4 <br/>\n",
    "6.2. Nenana - https://earthquake.usgs.gov/earthquakes/eventpage/ak0124ouaxa8 <br/>\n",
    "6.3. Iliamna - https://earthquake.usgs.gov/earthquakes/eventpage/ak0124ouezxl <br/>\n",
    "\n",
    "    - You are given the source parameters for three earthquakes that occurred in Alaska during the ground motion of the\n",
    "      main wavetrain from the Mw 8.6 Indian Ocean (offshore Sumatra) earthquake. For each possibly triggered event,\n",
    "      tabulate the following information:\n",
    "        - the closest station (and the distance in km)\n",
    "        - the suspicious stations\n",
    "        - the widest period range over which the signal is clearly visible. This can be achieved by varying\n",
    "          min_period_s and max_period_s provided as an input for plotting the record sections. You do not need to\n",
    "          re-extract the waveforms."
   ],
   "metadata": {
    "collapsed": false,
    "pycharm": {
     "name": "#%% md\n"
    }
   }
  },
  {
   "cell_type": "code",
   "execution_count": null,
   "metadata": {},
   "outputs": [],
   "source": [
    "if example_index in [6, 6.1, 6.2, 6.3]:\n",
    "\n",
    "    # origin times of known earthquakes\n",
    "    origin_time_sumatra   = UTCDateTime(\"2012,4,11,8,38,36\")\n",
    "    origin_time_andreanof = UTCDateTime(\"2012,4,11,9,0,9\")\n",
    "    origin_time_nenana    = UTCDateTime(\"2012,4,11,9,21,57\")\n",
    "    origin_time_iliamna   = UTCDateTime(\"2012,4,11,9,40,58\")\n",
    "    "
   ]
  },
  {
   "cell_type": "code",
   "execution_count": null,
   "metadata": {},
   "outputs": [],
   "source": [
    "if example_index == 6:\n",
    "\n",
    "    # origin times, in seconds, relative to Sumatra origin time\n",
    "    t_andreanof = origin_time_andreanof - origin_time_sumatra\n",
    "    t_nenana    = origin_time_nenana    - origin_time_sumatra\n",
    "    t_iliamna   = origin_time_iliamna   - origin_time_sumatra\n",
    "\n",
    "    # Indian Ocean (offshore Sumatra) Mw 8.6\n",
    "    event      = dict( origin_time                  = origin_time_sumatra,\n",
    "                       event_latitude               = 2.327,\n",
    "                       event_longitude              = 93.063,\n",
    "                       event_depth_km               = 20,\n",
    "                       event_magnitude              = 8.6 )\n",
    "\n",
    "    duration   = dict( seconds_before_ref           = 0.25 * 60 * 60,\n",
    "                       seconds_after_ref            = 2    * 60 * 60 )\n",
    "\n",
    "    stations   = dict( minlatitude                  =    64.922 - 25,\n",
    "                       maxlatitude                  =    64.922 + 25,\n",
    "                       minlongitude                 = - 148.946 - 25,\n",
    "                       maxlongitude                 = - 148.946 + 25 )\n",
    "    \n",
    "    download_defaults['maxdistance_km']             = 6371 * np.pi\n",
    "    download_defaults                               = {**download_defaults, **stations}\n",
    "    \n",
    "    # P wave + triggered events\n",
    "    bandpass   = dict( min_period_s                 = 0.25,\n",
    "                       max_period_s                 = 0.5 )\n",
    "\n",
    "    # full wavetrain (no triggered events visible)\n",
    "    # bandpass   = dict( min_period_s                 = 2,\n",
    "    #                    max_period_s                 = 1000 )\n",
    "\n",
    "    plotting_defaults['distance_units']             = 'deg'\n",
    "    plotting_defaults['tmarks']                     = [0, t_andreanof, t_nenana, t_iliamna]\n"
   ]
  },
  {
   "cell_type": "code",
   "execution_count": null,
   "metadata": {},
   "outputs": [],
   "source": [
    "if example_index == 6.1:\n",
    "\n",
    "    # triggered earthquake - Andreanof (NEIC)    \n",
    "    event      = dict( origin_time                  = origin_time_andreanof,\n",
    "                       event_latitude               = 51.364,\n",
    "                       event_longitude              = -176.097,\n",
    "                       event_depth_km               = 20.8,\n",
    "                       event_magnitude              = 5.5 )\n",
    "\n",
    "    duration   = dict( seconds_before_ref           = 10,\n",
    "                       seconds_after_ref            = 600 )\n",
    "    \n",
    "    download_defaults['maxdistance_km']             = 2000\n",
    "\n",
    "    bandpass   = dict( min_period_s                 = 0.25,\n",
    "                       max_period_s                 = 0.5 )\n",
    "    "
   ]
  },
  {
   "cell_type": "code",
   "execution_count": null,
   "metadata": {},
   "outputs": [],
   "source": [
    "if example_index == 6.2:\n",
    "\n",
    "    # triggered earthquake - Nenana crustal (NEIC)\n",
    "    event      = dict( origin_time                  = origin_time_nenana,\n",
    "                       event_latitude               = 64.922,\n",
    "                       event_longitude              = -148.946,\n",
    "                       event_depth_km               = 19.3,\n",
    "                       event_magnitude              = 3.9 )\n",
    "\n",
    "    duration   = dict( seconds_before_ref           = 10,\n",
    "                       seconds_after_ref            = 200 )\n",
    "\n",
    "    bandpass   = dict( min_period_s                 = 0.25,\n",
    "                       max_period_s                 = 0.5 )\n",
    "    "
   ]
  },
  {
   "cell_type": "code",
   "execution_count": null,
   "metadata": {},
   "outputs": [],
   "source": [
    "if example_index == 6.3:\n",
    "\n",
    "    # triggered earthquake - Iliamna intraslab (NEIC)\n",
    "    event      = dict( origin_time                  = origin_time_iliamna,\n",
    "                       event_latitude               = 60.104,\n",
    "                       event_longitude              = -152.832,\n",
    "                       event_depth_km               = 101.5,\n",
    "                       event_magnitude              = 2.9 )\n",
    "\n",
    "    duration   = dict( seconds_before_ref           = 10,\n",
    "                       seconds_after_ref            = 200 )\n",
    "\n",
    "    download_defaults['maxdistance_km']             = 400\n",
    "    \n",
    "    bandpass   = dict( min_period_s                 = 0.25,\n",
    "                       max_period_s                 = 0.5 )\n",
    "        "
   ]
  },
  {
   "cell_type": "markdown",
   "source": [
    "**Example 7: Your own example**\n",
    "\n",
    "    - Take a look at any event of your interest by extracting waveforms and plotting a record section."
   ],
   "metadata": {
    "collapsed": false,
    "pycharm": {
     "name": "#%% md\n"
    }
   }
  },
  {
   "cell_type": "code",
   "execution_count": null,
   "metadata": {},
   "outputs": [],
   "source": [
    "if example_index == 7: \n",
    "    \n",
    "    # your own example below\n",
    "    \n",
    "    event      = dict()\n",
    "    \n",
    "    duration   = dict()\n",
    "    \n",
    "    bandpass   = dict()"
   ]
  },
  {
   "cell_type": "code",
   "execution_count": null,
   "metadata": {},
   "outputs": [],
   "source": [
    "# download data\n",
    "\n",
    "data_dir  = f'{download_defaults[\"output_dir\"]}/{download_defaults[\"overwrite_event_tag\"]}'\n",
    "overwrite = f'{download_defaults[\"overwrite\"]}'\n",
    "\n",
    "if (not os.path.isdir(data_dir)) or (overwrite == 'True'):\n",
    "    ps = Pysep(**event,**duration,**download_defaults)\n",
    "    ps.run()\n",
    "else:\n",
    "    print('\\ndata directory already exists, proceeding to the next code cell\\n')"
   ]
  },
  {
   "cell_type": "code",
   "execution_count": null,
   "metadata": {},
   "outputs": [],
   "source": [
    "# plot source station map\n",
    "\n",
    "plt.figure()\n",
    "source_station_map = img.imread(f'datawf/Example_{example_index}/station_map.png')\n",
    "plt.imshow(source_station_map);"
   ]
  },
  {
   "cell_type": "code",
   "execution_count": null,
   "metadata": {},
   "outputs": [],
   "source": [
    "# plot the record section using Pyseps's record section plotting tool\n",
    "\n",
    "plotw_rs(**plotting_defaults, **bandpass)"
   ]
  },
  {
   "cell_type": "code",
   "execution_count": null,
   "metadata": {},
   "outputs": [],
   "source": [
    "# seismogram sorting options\n",
    "# set to run only when for example_index = 1\n",
    "\n",
    "if example_index == 1:\n",
    "    \n",
    "    sort_by_tag = ['distance', 'absolute distance', 'azimuth', 'absolute azimuth']\n",
    "    \n",
    "    for i, sort_by in enumerate(['distance', 'abs_distance', 'azimuth', 'abs_azimuth']):\n",
    "        \n",
    "        print(f'\\n\\nCase {i+1}: Seismograms sorted by {sort_by_tag[i]}\\n\\n')\n",
    "        \n",
    "        plotting_defaults['sort_by']   = sort_by\n",
    "        \n",
    "        plotw_rs(**plotting_defaults, **bandpass)"
   ]
  },
  {
   "cell_type": "code",
   "execution_count": null,
   "metadata": {},
   "outputs": [],
   "source": [
    "# seismograms alignment on the S wave\n",
    "# set to run only when for example_index = 1\n",
    "    \n",
    "if example_index == 1:    \n",
    "\n",
    "    print(f'\\n\\nSeismograms aligned on the S wave arrival\\n\\n')\n",
    "    \n",
    "    plotting_defaults['sort_by']      = 'distance'\n",
    "    plotting_defaults['time_shift_s'] = 's_arrival_time'\n",
    "    \n",
    "    plotw_rs(**plotting_defaults, **bandpass)"
   ]
  },
  {
   "cell_type": "code",
   "execution_count": null,
   "metadata": {
    "tags": [],
    "pycharm": {
     "name": "#%%\n"
    }
   },
   "outputs": [],
   "source": [
    "# plottiing the spectrogram for a selected seismogram\n",
    "# Check https://matplotlib.org/stable/api/_as_gen/matplotlib.pyplot.specgram.html for details on spectrogram plotter\n",
    "\n",
    "example_index = example_index                                                                  # select example\n",
    "\n",
    "network  = '*'                                                                                 # select network\n",
    "station  = '*'                                                                                 # select station\n",
    "location = '*'                                                                                 # select location\n",
    "channel  = '*'                                                                                 # select channel\n",
    "\n",
    "sac_file = f'./{data_dir}/Example_{example_index}.{network}.{station}.{location}.{channel}.sac'\n",
    "st       = read(sac_file, 'SAC')\n",
    "\n",
    "t                  = st[0].times()\n",
    "data               = st[0].data\n",
    "sampling_frequency = st[0].stats.sampling_rate\n",
    "\n",
    "fig, (ax1, ax2) = plt.subplots(2, 1, sharex=True, figsize=(8,6))     \n",
    "ax1.plot(t, data, 'k', linewidth=0.5)\n",
    "\n",
    "image = ax2.specgram(st[0], Fs=sampling_frequency, noverlap=int(0.8*256), cmap=\"jet\")\n",
    "ax2.set_xlabel('Time - Seconds')\n",
    "ax2.set_ylabel('Frequency (Hz)')\n",
    "\n",
    "ax3 = fig.add_axes([0.9, 0.1, 0.03, 0.37])\n",
    "plt.colorbar(mappable=image[3], cax=ax3)\n",
    "plt.ylabel('Relative Amplitude (dB)')\n",
    "plt.show()\n",
    "\n",
    "title    = f'{st[0].stats.network}.{st[0].stats.station}.{st[0].stats.location}.{st[0].stats.channel} − starting {st[0].stats[\"starttime\"]}'\n",
    "fig.suptitle(title)\n",
    "\n",
    "# note: the time axis of the spectrogram may not correspond to the time axis of the record sections\n",
    "# this is because the spectrogram plotter assigns a default value of time = 0 to the first sample of the input data\n",
    "\n",
    "if example_index == 1:\n",
    "    fig.canvas.draw()\n",
    "    labels = np.arange(-40,100,20)\n",
    "    ax2.set_xticklabels(labels)"
   ]
  }
 ],
 "metadata": {
  "kernelspec": {
   "name": "pycharm-1000d7c",
   "language": "python",
   "display_name": "PyCharm (GEOS626_seis)"
  },
  "language_info": {
   "codemirror_mode": {
    "name": "ipython",
    "version": 3
   },
   "file_extension": ".py",
   "mimetype": "text/x-python",
   "name": "python",
   "nbconvert_exporter": "python",
   "pygments_lexer": "ipython3",
   "version": "3.11.0"
  }
 },
 "nbformat": 4,
 "nbformat_minor": 4
}