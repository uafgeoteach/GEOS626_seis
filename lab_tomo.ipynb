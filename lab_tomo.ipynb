{
 "cells": [
  {
   "cell_type": "code",
   "execution_count": null,
   "metadata": {},
   "outputs": [],
   "source": [
    "%matplotlib inline\n",
    "\n",
    "import matplotlib.pyplot as plt\n",
    "import numpy as np\n",
    "import scipy as sp\n",
    "import warnings\n",
    "\n",
    "from numpy.random import random_sample\n",
    "from scipy.interpolate import griddata\n",
    "\n",
    "from lib_geos import gridvec\n",
    "from lib_seis import Bkspline\n",
    "\n",
    "warnings.filterwarnings('ignore')\n",
    "\n",
    "plt.rcParams['figure.figsize'] = 8, 5\n",
    "plt.rcParams.update({'font.size': 9})\n",
    "\n",
    "# This is a plotting test function for Bkspline(), which returns a\n",
    "# spherical spline basis function at specifited lat-lon points.\n",
    "# It also returns the spatial derivatives of the basis function,\n",
    "# which are useful for representating derivatives of target functions,\n",
    "# as well as for damping.\n",
    "#\n",
    "# Carl Tape, Amanda McPherson"
   ]
  },
  {
   "cell_type": "code",
   "execution_count": null,
   "metadata": {},
   "outputs": [],
   "source": [
    "# Set up constants, and create sample data\n",
    "\n",
    "deg = 180/np.pi\n",
    "\n",
    "# create sample data\n",
    "numx = 200\n",
    "ax1 = [-122, -114, 32, 37]\n",
    "lonmin = ax1[0] \n",
    "lonmax = ax1[1]\n",
    "latmin = ax1[2]\n",
    "latmax = ax1[3]\n",
    "lon, lat, numy, X, Y = gridvec(lonmin,lonmax,numx,latmin,latmax)\n",
    "\n",
    "# select sample spline (DEFAULT: pick one at random)\n",
    "q = 6      # KEY: determines the scalelength of the spline (q = 0-10)\n",
    "clon = (lonmax - lonmin)*random_sample() + lonmin\n",
    "clat = (latmax - latmin)*random_sample() + latmin\n",
    "\n",
    "print('example spherical spline function defined by:')\n",
    "print('(clon,clat) = (',clon,',',clat,')')\n",
    "print('q = ',q)"
   ]
  },
  {
   "cell_type": "code",
   "execution_count": null,
   "metadata": {},
   "outputs": [],
   "source": [
    "# evaluate spline function\n",
    "ff = Bkspline(clon, clat, q, lon, lat)"
   ]
  },
  {
   "cell_type": "code",
   "execution_count": null,
   "metadata": {},
   "outputs": [],
   "source": [
    "# Plot spline function on the grid\n",
    "\n",
    "#X, Y, Z = griddataXB(lon,lat,ff[:,0],100,'cubic')\n",
    "Z = np.reshape(ff[:,0],(numy,numx))\n",
    "\n",
    "plt.figure()\n",
    "plt.pcolor(X,Y,Z,shading='nearest',vmin=0,vmax=1)\n",
    "plt.axis(ax1)\n",
    "plt.colorbar()\n",
    "plt.xlabel('Longitude (deg)')\n",
    "plt.ylabel('Latitude (deg)')\n",
    "plt.title('Spherical spline basis function, order q=%i, centered at lon=%.2f, lat=%.2f'% (q,clon,clat))\n",
    "plt.show()"
   ]
  },
  {
   "cell_type": "code",
   "execution_count": null,
   "metadata": {},
   "outputs": [],
   "source": [
    "# plot other scalar fields related to the spline function\n",
    "\n",
    "ncol = 5\n",
    "ff = Bkspline(clon, clat, q, lon, lat, ncol=ncol)\n",
    "\n",
    "dfdp = ff[:,1]\n",
    "dfdt = ff[:,2]\n",
    "th   = (90-lat)/deg\n",
    "\n",
    "# check the computation return Bkspline\n",
    "dfmag = np.sqrt( dfdt**2 + ((1/np.sin(th).flatten()) * dfdp)**2 )\n",
    "print('checking the mag:',np.linalg.norm( dfmag - ff[:,4] ))\n",
    "\n",
    "d1max = np.amax([ np.amax(abs(dfdp)), np.amax(abs(dfdt)) ])\n",
    "\n",
    "# plotting\n",
    "stitd = ['f','d f / d φ','d f / d θ','∇^2 f','| ∇ f | ']\n",
    "plt.figure(figsize=(10,10))\n",
    "\n",
    "for ii in range(len(stitd)):\n",
    "    #X, Y, Z = griddataXB(lon,lat,ff[:,ii],100,'cubic')\n",
    "    Z = np.reshape(ff[:,ii],(numy,numx))\n",
    "    plt.subplot(3,2,ii+1)\n",
    "    if ii == 1 or ii == 2:\n",
    "        plt.pcolor(X,Y,Z,shading='nearest',vmin=-d1max,vmax=d1max)\n",
    "    else:\n",
    "        plt.pcolor(X,Y,Z,shading='nearest')\n",
    "        \n",
    "    plt.title(stitd[ii])\n",
    "    plt.axis(ax1)\n",
    "    plt.colorbar()\n",
    "    \n",
    "plt.subplots_adjust(hspace=0.3)    \n",
    "plt.show()"
   ]
  },
  {
   "cell_type": "code",
   "execution_count": null,
   "metadata": {},
   "outputs": [],
   "source": [
    "# plot the surface gradient\n",
    "\n",
    "# create sample data\n",
    "numx2 = 20\n",
    "lon2, lat2, numy2, X2, Y2 = gridvec(lonmin,lonmax,numx2,latmin,latmax)\n",
    "ff2 = Bkspline(clon, clat, q, lon2, lat2, ncol=ncol)\n",
    "Z2 = np.reshape(ff2[:,4],(numy2,numx2))\n",
    "#X, Y, Z = griddataXB(lon,lat,ff[:,4],100,'cubic')\n",
    "\n",
    "plt.figure()\n",
    "plt.pcolor(X2,Y2,Z2,shading='nearest')\n",
    "# minus sign converts from south component to north component\n",
    "plt.quiver(lon2,lat2,ff2[:,1],-ff2[:,2],color='k')\n",
    "plt.title('surface gradient vector field, along with the magnitude')\n",
    "plt.axis(ax1)\n",
    "plt.colorbar()\n",
    "plt.show()"
   ]
  },
  {
   "cell_type": "code",
   "execution_count": null,
   "metadata": {
    "scrolled": true
   },
   "outputs": [],
   "source": [
    "# WRITE CODE BELOW TO USE Bkspline (you do not need anything from above)\n"
   ]
  }
 ],
 "metadata": {
  "kernelspec": {
   "display_name": "seismo",
   "language": "python",
   "name": "conda-env-seismo-py"
  },
  "language_info": {
   "codemirror_mode": {
    "name": "ipython",
    "version": 3
   },
   "file_extension": ".py",
   "mimetype": "text/x-python",
   "name": "python",
   "nbconvert_exporter": "python",
   "pygments_lexer": "ipython3",
   "version": "3.11.0"
  }
 },
 "nbformat": 4,
 "nbformat_minor": 4
}
