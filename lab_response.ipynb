{
 "cells": [
  {
   "cell_type": "code",
   "execution_count": null,
   "metadata": {},
   "outputs": [],
   "source": [
    "%matplotlib inline\n",
    "\n",
    "# first time user needs obspy, it will be installed\n",
    "#try:\n",
    "#    import obspy\n",
    "#    from obspy.clients.fdsn import Client\n",
    "#except:\n",
    "#    !pip install obspy --user\n",
    "#    import obspy\n",
    "#    from obspy.clients.fdsn import Client\n",
    "\n",
    "import matplotlib.pyplot as plt\n",
    "import numpy as np\n",
    "import obspy\n",
    "import warnings\n",
    "\n",
    "from obspy.clients.fdsn import Client\n",
    "\n",
    "warnings.filterwarnings('ignore')\n",
    "\n",
    "plt.style.use('ggplot')\n",
    "plt.rcParams['figure.figsize'] = 10, 5\n",
    "\n",
    "# Carl Tape, Lion Krischer, Amanda McPherson\n",
    "# GEOS626, Applied Seismology, University of Alaska Fairbanks"
   ]
  },
  {
   "cell_type": "code",
   "execution_count": null,
   "metadata": {},
   "outputs": [],
   "source": [
    "# Point ObsPy at the desired client:\n",
    "# ObsPy knows which website to connect to for many data centers.\n",
    "# For others you can also pass the full URL.\n",
    "c = Client(\"IRIS\")\n",
    "\n",
    "# Define time period for which you want data:\n",
    "starttime = obspy.UTCDateTime(2004, 12, 26, 0, 58, 50)\n",
    "# Create a new time object by adding 5 days to the previous ones. Time\n",
    "# differences are in seconds.\n",
    "endtime = starttime + 86400 * 5\n",
    "\n",
    "# This will get all stations that satisfy all constraints simultaneosly.\n",
    "inv = c.get_stations(network=\"G\", station=\"CAN\", channel=\"BHZ\", \n",
    "                     level=\"response\", \n",
    "                     starttime=starttime, endtime=endtime)\n",
    "\n",
    "print(inv)\n",
    "print(inv[0])\n",
    "print(inv[0][0])\n",
    "print(inv[0][0][0])\n",
    "sps = 20.0     # change this to be accessed from in\n",
    "fNy = 1/(2*sps)"
   ]
  },
  {
   "cell_type": "code",
   "execution_count": null,
   "metadata": {},
   "outputs": [],
   "source": [
    "# Inspect the instrument response:\n",
    "inv.plot_response(min_freq=0.0001);"
   ]
  },
  {
   "cell_type": "code",
   "execution_count": null,
   "metadata": {},
   "outputs": [],
   "source": [
    "# See more details about the response:\n",
    "print(inv[0][0][0].response)"
   ]
  },
  {
   "cell_type": "code",
   "execution_count": null,
   "metadata": {},
   "outputs": [],
   "source": [
    "# Leave out the digitizer and FIR filters, and examine the \"simple\" pole-zero plot.\n",
    "# Compare it with the plot above.\n",
    "# TRY OUT: Replace VEL with ACC or DISP to see response for velocity or acceleration\n",
    "inv[0][0][0].plot(0.0001, start_stage=1, end_stage=1, output=\"VEL\");"
   ]
  },
  {
   "cell_type": "code",
   "execution_count": null,
   "metadata": {},
   "outputs": [],
   "source": [
    "# now plot everything together for comparison\n",
    "\n",
    "# define a set of frequencies to evaluate the response\n",
    "f = np.logspace(-4.0, 2.0, num=100)\n",
    "# get response functions\n",
    "Id = inv[0][0][0].response.get_evalresp_response_for_frequencies(f,output='DISP')\n",
    "Iv = inv[0][0][0].response.get_evalresp_response_for_frequencies(f,output='VEL')\n",
    "Ia = inv[0][0][0].response.get_evalresp_response_for_frequencies(f,output='ACC')\n",
    "\n",
    "fig, ax = plt.subplots(3,2,figsize=(14,16))\n",
    "ax[0,0].semilogx(f,np.angle(Id)*180/np.pi, color='b')\n",
    "ax[0,1].loglog(f,abs(Id), color='b')\n",
    "ax[1,0].semilogx(f,np.angle(Iv)*180/np.pi, color='b')\n",
    "ax[1,1].loglog(f,abs(Iv), color='b')\n",
    "ax[2,0].semilogx(f,np.angle(Ia)*180/np.pi, color='b')\n",
    "ax[2,1].loglog(f,abs(Ia), color='b')\n",
    "#plt.subplots_adjust(hspace=0.5)\n",
    "plt.show()"
   ]
  },
  {
   "cell_type": "code",
   "execution_count": null,
   "metadata": {},
   "outputs": [],
   "source": [
    "# same plot but with more annotation\n",
    "\n",
    "# max values\n",
    "max_Id = max(Id)\n",
    "f_id = f[np.nonzero(Id == max_Id)]\n",
    "max_Iv = max(Iv)\n",
    "f_iv = f[np.nonzero(Iv == max_Iv)]\n",
    "max_Ia = max(Ia)\n",
    "f_ia = f[np.nonzero(Ia == max_Ia)]\n",
    "\n",
    "fig, ax = plt.subplots(3,2,figsize=(14,16))\n",
    "\n",
    "ax[0,0].semilogx(f,np.angle(Id)*180/np.pi, color='b')\n",
    "ax[0,0].set(xlabel='Frequency (Hz)', ylabel='Phase (deg)')\n",
    "ax[0,0].axvline(fNy,c='r',lw=0.5,ls='--',dashes=[12,12])\n",
    "\n",
    "ax[0,1].loglog(f,abs(Id), color='b')\n",
    "ax[0,1].set(xlabel='Frequency (Hz)', ylabel='Amplitude')\n",
    "ax[0,1].axvline(fNy,c='r',lw=0.5,ls='--',dashes=[12,12])\n",
    "ax[0,1].set_title('(m to counts) max = %.2e at %.2e Hz'% (np.real(max_Id),f_id),fontsize=11)\n",
    "\n",
    "ax[1,0].semilogx(f,np.angle(Iv)*180/np.pi, color='b')\n",
    "ax[1,0].set(xlabel='Frequency (Hz)', ylabel='Phase (deg)')\n",
    "ax[1,0].axvline(fNy,c='r',lw=0.5,ls='--',dashes=[12,12])\n",
    "\n",
    "ax[1,1].loglog(f,abs(Iv), color='b')\n",
    "ax[1,1].set(xlabel='Frequency (Hz)', ylabel='Amplitude')\n",
    "ax[1,1].axvline(fNy,c='r',lw=0.5,ls='--',dashes=[12,12])\n",
    "ax[1,1].set_title('(m/s to counts) max = %.2e at %.2e Hz'% (np.real(max_Iv),f_iv),fontsize=11)\n",
    "\n",
    "ax[2,0].semilogx(f,np.angle(Ia)*180/np.pi, color='b')\n",
    "ax[2,0].set(xlabel='Frequency (Hz)', ylabel='Phase (deg)')\n",
    "ax[2,0].axvline(fNy,c='r',lw=0.5,ls='--',dashes=[12,12])\n",
    "\n",
    "ax[2,1].loglog(f,abs(Ia), color='b')\n",
    "ax[2,1].set(xlabel='Frequency (Hz)', ylabel='Amplitude')\n",
    "ax[2,1].set_title('(m/s2 to counts) max = %.2e at %.2e Hz'% (np.real(max_Ia),f_ia),fontsize=11)\n",
    "ax[2,1].axvline(fNy,c='r',lw=0.5,ls='--',dashes=[12,12])\n",
    "\n",
    "plt.subplots_adjust(hspace=0.25)\n",
    "plt.show()"
   ]
  },
  {
   "cell_type": "code",
   "execution_count": null,
   "metadata": {},
   "outputs": [],
   "source": []
  }
 ],
 "metadata": {
  "kernelspec": {
   "display_name": "seismo",
   "language": "python",
   "name": "conda-env-.local-seismo-py"
  },
  "language_info": {
   "codemirror_mode": {
    "name": "ipython",
    "version": 3
   },
   "file_extension": ".py",
   "mimetype": "text/x-python",
   "name": "python",
   "nbconvert_exporter": "python",
   "pygments_lexer": "ipython3",
   "version": "3.11.0"
  }
 },
 "nbformat": 4,
 "nbformat_minor": 4
}
