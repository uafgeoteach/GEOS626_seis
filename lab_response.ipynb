{
 "cells": [
  {
   "cell_type": "code",
   "execution_count": null,
   "metadata": {},
   "outputs": [],
   "source": [
    "# Carl Tape, Lion Krischer, Amanda McPherson\n",
    "# GEOS626, Applied Seismology, University of Alaska Fairbanks"
   ]
  },
  {
   "cell_type": "code",
   "execution_count": null,
   "metadata": {},
   "outputs": [],
   "source": [
    "%matplotlib inline\n",
    "\n",
    "import matplotlib.pyplot as plt\n",
    "import numpy as np\n",
    "import warnings\n",
    "\n",
    "from obspy.clients.fdsn import Client\n",
    "from obspy.core import UTCDateTime"
   ]
  },
  {
   "cell_type": "code",
   "execution_count": null,
   "metadata": {},
   "outputs": [],
   "source": [
    "# script settings\n",
    "\n",
    "warnings.filterwarnings('ignore')\n",
    "plt.style.use('ggplot')\n",
    "plt.rcParams['figure.figsize'] = 10, 5"
   ]
  },
  {
   "cell_type": "code",
   "execution_count": null,
   "metadata": {},
   "outputs": [],
   "source": [
    "# getting the inventory\n",
    "\n",
    "client = Client(\"IRIS\")\n",
    "\n",
    "starttime = UTCDateTime(2004, 12, 26, 0, 58, 50)\n",
    "endtime   = starttime + ( 5 * 24 * 60 * 60)                                # 5 days after the start time\n",
    "\n",
    "inv = client.get_stations(network=\"G\", station=\"CAN\", channel=\"LHZ\", starttime=starttime, endtime=endtime, level=\"response\")\n",
    "\n",
    "# check the page - https://docs.obspy.org/packages/obspy.core.inventory.html, \n",
    "# for detailed information on the inventory object\n",
    "\n",
    "print(inv)\n",
    "print(inv[0])\n",
    "print(inv[0][0])\n",
    "print(inv[0][0][0])\n",
    "\n",
    "samples_per_second = inv[0][0][0].sample_rate\n",
    "Nyquist_frequency  = ( 1 / samples_per_second ) / 2\n",
    "\n",
    "print('\\n')\n",
    "print(f'Nyquist frequency = {Nyquist_frequency} Hz \\n')"
   ]
  },
  {
   "cell_type": "code",
   "execution_count": null,
   "metadata": {},
   "outputs": [],
   "source": [
    "# inspect the instrument response\n",
    "\n",
    "# check the page - https://docs.obspy.org/packages/autogen/obspy.core.inventory.inventory.Inventory.plot_response.html,\n",
    "# for detailed information on plotting response using this method\n",
    "\n",
    "inv.plot_response(min_freq=0.0001);"
   ]
  },
  {
   "cell_type": "code",
   "execution_count": null,
   "metadata": {},
   "outputs": [],
   "source": [
    "# see more details about the response\n",
    "\n",
    "print(inv[0][0][0].response)"
   ]
  },
  {
   "cell_type": "code",
   "execution_count": null,
   "metadata": {},
   "outputs": [],
   "source": [
    "# leave out the digitizer and FIR filters, and examine the \"simple\" pole-zero plot.\n",
    "# compare it with the plot above.\n",
    "\n",
    "# TRY OUT: Replace VEL with ACC or DISP to see response for velocity or acceleration\n",
    "\n",
    "# check this page - https://docs.obspy.org/packages/autogen/obspy.core.inventory.channel.Channel.plot.html\n",
    "# for detailed information on plotting response using this method\n",
    "\n",
    "inv[0][0][0].plot(min_freq=0.0001, start_stage=1, end_stage=1, output=\"VEL\");"
   ]
  },
  {
   "cell_type": "code",
   "execution_count": null,
   "metadata": {},
   "outputs": [],
   "source": [
    "# plotting instrument responses together for comparison\n",
    "\n",
    "f = np.logspace(-4.0, 2.0, num=100)                  # set of frequencies to evaluate the response\n",
    "\n",
    "Id = inv[0][0][0].response.get_evalresp_response_for_frequencies(f, output='DISP')\n",
    "Iv = inv[0][0][0].response.get_evalresp_response_for_frequencies(f, output='VEL')\n",
    "Ia = inv[0][0][0].response.get_evalresp_response_for_frequencies(f, output='ACC')\n",
    "\n",
    "max_Id   = max(Id)\n",
    "f_Id_max = f[np.nonzero(Id == max_Id)]\n",
    "max_Iv   = max(Iv)\n",
    "f_Iv_max = f[np.nonzero(Iv == max_Iv)]\n",
    "max_Ia   = max(Ia)\n",
    "f_Ia_max = f[np.nonzero(Ia == max_Ia)]\n",
    "\n",
    "fig, ax = plt.subplots(3, 2, figsize=(14,16))\n",
    "\n",
    "ax[0,0].semilogx(f, np.angle(Id)*180/np.pi, color='b')\n",
    "ax[0,0].set(xlabel='Frequency (Hz)', ylabel='Phase (deg)')\n",
    "ax[0,0].axvline(Nyquist_frequency, c='r', lw=0.5, ls='--', dashes=[12,12])\n",
    "\n",
    "ax[0,1].loglog(f, abs(Id), color='b')\n",
    "ax[0,1].set(xlabel='Frequency (Hz)', ylabel='Amplitude')\n",
    "ax[0,1].axvline(Nyquist_frequency, c='r', lw=0.5, ls='--', dashes=[12,12])\n",
    "ax[0,1].set_title('(m to counts) max = %.2e at %.2e Hz'% (np.real(max_Id), f_Id_max), fontsize=11)\n",
    "\n",
    "ax[1,0].semilogx(f, np.angle(Iv)*180/np.pi, color='b')\n",
    "ax[1,0].set(xlabel='Frequency (Hz)', ylabel='Phase (deg)')\n",
    "ax[1,0].axvline(Nyquist_frequency, c='r', lw=0.5, ls='--', dashes=[12,12])\n",
    "\n",
    "ax[1,1].loglog(f, abs(Iv), color='b')\n",
    "ax[1,1].set(xlabel='Frequency (Hz)', ylabel='Amplitude')\n",
    "ax[1,1].axvline(Nyquist_frequency, c='r', lw=0.5, ls='--', dashes=[12,12])\n",
    "ax[1,1].set_title('(m/s to counts) max = %.2e at %.2e Hz'% (np.real(max_Iv), f_Iv_max), fontsize=11)\n",
    "\n",
    "ax[2,0].semilogx(f, np.angle(Ia)*180/np.pi, color='b')\n",
    "ax[2,0].set(xlabel='Frequency (Hz)', ylabel='Phase (deg)')\n",
    "ax[2,0].axvline(Nyquist_frequency, c='r', lw=0.5, ls='--', dashes=[12,12])\n",
    "\n",
    "ax[2,1].loglog(f, abs(Ia), color='b')\n",
    "ax[2,1].set(xlabel='Frequency (Hz)', ylabel='Amplitude')\n",
    "ax[2,1].set_title('(m/s2 to counts) max = %.2e at %.2e Hz'% (np.real(max_Ia), f_Ia_max), fontsize=11)\n",
    "ax[2,1].axvline(Nyquist_frequency, c='r', lw=0.5, ls='--', dashes=[12,12])\n",
    "\n",
    "plt.subplots_adjust(hspace=0.25)"
   ]
  },
  {
   "cell_type": "code",
   "execution_count": null,
   "metadata": {},
   "outputs": [],
   "source": []
  }
 ],
 "metadata": {
  "kernelspec": {
   "display_name": "seismo",
   "language": "python",
   "name": "conda-env-.local-seismo-py"
  },
  "language_info": {
   "codemirror_mode": {
    "name": "ipython",
    "version": 3
   },
   "file_extension": ".py",
   "mimetype": "text/x-python",
   "name": "python",
   "nbconvert_exporter": "python",
   "pygments_lexer": "ipython3",
   "version": "3.11.0"
  }
 },
 "nbformat": 4,
 "nbformat_minor": 4
}
