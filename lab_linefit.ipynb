{
 "cells": [
  {
   "cell_type": "markdown",
   "source": [
    "# Applied Seismology, GEOS 626, University of Alaska Fairbanks\n",
    "# Inverse Problems and Parameter Estimation, GEOS 627, University of Alaska Fairbanks\n",
    "\n",
    "- this program introduces the least squares method for the example of fitting a line (i.e., a model with two\n",
    " parameters) to a set of scattered data\n",
    "- three options for solving the problem are shown, each of which gives the same result\n",
    "- no regularization is needed (or used) in this example"
   ],
   "metadata": {
    "collapsed": false
   }
  },
  {
   "cell_type": "code",
   "execution_count": null,
   "metadata": {},
   "outputs": [],
   "source": [
    "%matplotlib inline\n",
    "\n",
    "import matplotlib.gridspec as gridspec\n",
    "import matplotlib.pyplot as plt\n",
    "import numpy as np\n",
    "import scipy.linalg as la\n",
    "import warnings\n",
    "\n",
    "from mpl_toolkits import mplot3d\n",
    "from sympy.matrices import Matrix"
   ]
  },
  {
   "cell_type": "code",
   "execution_count": null,
   "outputs": [],
   "source": [
    "# script settings\n",
    "\n",
    "warnings.filterwarnings('ignore')\n",
    "plt.rcParams['figure.figsize'] = 8, 10"
   ],
   "metadata": {
    "collapsed": false,
    "pycharm": {
     "name": "#%%\n"
    }
   }
  },
  {
   "cell_type": "code",
   "execution_count": null,
   "metadata": {
    "tags": []
   },
   "outputs": [],
   "source": [
    "# Variable initialization and user flags\n",
    "\n",
    "# USER PARAMETERS (CHANGE THESE)\n",
    "ndata = 50                             # number of observations\n",
    "sigma = 0.3                            # standard deviations of added errors\n",
    "\n",
    "# TARGET model vector (m1=y-intercept, m2=slope)\n",
    "mtar = np.array([[2.1], [-0.5]])\n",
    "nparm = len(mtar)                      # number of model parameters\n",
    "\n",
    "Matrix(mtar)"
   ]
  },
  {
   "cell_type": "code",
   "execution_count": null,
   "metadata": {},
   "outputs": [],
   "source": [
    "# compute design matrix\n",
    "# x is a vector of x_i locations where your measurements y_i will be made\n",
    "xmin = -2\n",
    "xmax = 2\n",
    "x = np.linspace(xmin,xmax,ndata)       # input x-values\n",
    "x = np.reshape(x,(ndata,1))\n",
    "G = np.hstack((np.ones((ndata,1)),x))  # ndata by nparm design matrix\n",
    "#Matrix(G)"
   ]
  },
  {
   "cell_type": "code",
   "execution_count": null,
   "metadata": {
    "tags": []
   },
   "outputs": [],
   "source": [
    "%whos int ndarray"
   ]
  },
  {
   "cell_type": "code",
   "execution_count": null,
   "metadata": {},
   "outputs": [],
   "source": [
    "# generate errors\n",
    "e = sigma * np.random.randn(ndata,1)   # normally distributed random numbers\n",
    "\n",
    "# generate target 'data' with errors added\n",
    "dtar = G@mtar\n",
    "dobs = dtar + e\n",
    "\n",
    "# optional: add one big anomaly\n",
    "#dobs[0] = dobs[0] + 1000*sigma"
   ]
  },
  {
   "cell_type": "code",
   "execution_count": null,
   "metadata": {
    "tags": []
   },
   "outputs": [],
   "source": [
    "# SOLVE: compute least squares solution, estimates, and estimated variance.\n",
    "# (We show three options for mest, each with the same result.)\n",
    "x_temp = x.flatten()                    # polyfit does not accomodate an (ndata,1) array, so we flatten it to (ndata,)\n",
    "temp = np.polyfit(x_temp,dobs,1)        # temp has shape (2,1)\n",
    "mest = np.flipud(temp)                  # polyfit returns [slope,intercept] but we want the order to be [intercept,slope]\n",
    "Matrix(mest)"
   ]
  },
  {
   "cell_type": "code",
   "execution_count": null,
   "metadata": {},
   "outputs": [],
   "source": [
    "mest = la.inv(G.T@G)@G.T@dobs\n",
    "Matrix(mest)"
   ]
  },
  {
   "cell_type": "code",
   "execution_count": null,
   "metadata": {
    "tags": []
   },
   "outputs": [],
   "source": [
    "mest = la.pinv(G)@dobs\n",
    "Matrix(mest)"
   ]
  },
  {
   "cell_type": "code",
   "execution_count": null,
   "metadata": {},
   "outputs": [],
   "source": [
    "d = G@mest             # estimated predictions\n",
    "res = d - dobs         # residuals\n",
    "\n",
    "stres = 'std(res) = %.3f'% (np.std(res))\n",
    "\n",
    "gs = gridspec.GridSpec(2, 2)\n",
    "fig = plt.figure(num=1)\n",
    "ax = fig.add_subplot(gs[0, :]) # row 0, span both columns\n",
    "ymx = 4*sigma  # variable for axis limits\n",
    "\n",
    "title = 'Estimated model : m = (%.2f, %.2f)'% (mest[0],mest[1]) + ', ' + stres\n",
    "#ax.plot(x,G*mtar,'k--',lw=2)\n",
    "ax.plot(x,dobs,'.',ms=10,label='data')\n",
    "ax.plot(x,dtar,'c--',lw=3,label='mtar')\n",
    "ax.plot(x,d,'r--',lw=3,label='mest')\n",
    "ax.legend(loc='lower left')\n",
    "ax.set(xlabel='x', ylabel='d', title=title)\n",
    "ax.axis([min(x), max(x), min(G@mtar)-ymx, max(G@mtar)+ymx])\n",
    "ax.grid()\n",
    "\n",
    "ax = fig.add_subplot(gs[1, 0]) # row 1, col 0\n",
    "ax.plot(res,'.',ms=10)\n",
    "ax.set(xlabel='Observation index', ylabel='Residual, d - dobs', title=stres)\n",
    "ax.set(ylim=(-ymx,ymx))\n",
    "ax.grid()\n",
    "\n",
    "ax = fig.add_subplot(gs[1, 1]) # row 1, col 1\n",
    "edges = np.arange(-ymx,ymx,ymx/10)\n",
    "Nh, bins = np.histogram(res,edges)\n",
    "    \n",
    "title = 'ndata = %i'% (ndata)\n",
    "ax.hist(edges[:-1],edges,weights=Nh)\n",
    "ax.set(xlabel='Residual', ylabel='Number', title=title, xlim=[min(edges), max(edges)])\n",
    "\n",
    "plt.show()"
   ]
  },
  {
   "cell_type": "code",
   "execution_count": null,
   "metadata": {},
   "outputs": [],
   "source": [
    "# generate a plot showing the residual sum of squares (RSS) as a function of model space\n",
    "\n",
    "# search range, measured by the distance from the target model\n",
    "m1_ran = 1\n",
    "m2_ran = 1\n",
    "\n",
    "# number controlling the number of gridpoints in model space\n",
    "nx = 100   # for the misfit function plot\n",
    "#nx = 10   # for the gradient plot (fewer arrows)\n",
    "\n",
    "# generate grid for the model space\n",
    "m1_vec = np.linspace(mtar[0]-m1_ran, mtar[0]+m1_ran, nx)\n",
    "m2_vec = np.linspace(mtar[1]-m2_ran, mtar[1]+m2_ran, nx)\n",
    "    \n",
    "M1, M2 = np.meshgrid(m1_vec, m2_vec)\n",
    "a, b = M1.shape\n",
    "    \n",
    "ngrid = a*b   # number of gridpoints in model space\n",
    "    \n",
    "m1 = np.reshape(M1,(1,ngrid))\n",
    "m2 = np.reshape(M2,(1,ngrid))\n",
    "\n",
    "# compute misfit function (and gradient)\n",
    "RSSm = np.zeros((ngrid,1))                 # initialize misfit function\n",
    "# INITIALIZE GRADIENT HERE\n",
    "gammam = np.zeros((2,ngrid))\n",
    "\n",
    "for pp in range(ngrid):\n",
    "    mtry = np.array([m1[0,pp], m2[0,pp]])  # a sample from model space\n",
    "    mtry = np.reshape(mtry,(2,1))\n",
    "    dtry = G@mtry                          # predictions from the model\n",
    "    res = dtry - dobs                      # residuals between predictions and data\n",
    "    RSS = np.sum(res*res)                  # residual sum of squares\n",
    "    RSSm[pp,0] = RSS                       # pp entry of ngrid x 1 vector RSSm\n",
    "    \n",
    "    # COMPUTE GRADIENT HERE [DO NOT USE NUMPY'S gradient FUNCTION]\n",
    "    G.T@res\n",
    "    gammam\n",
    "    \n",
    "    \n",
    "Z = np.reshape(RSSm,(a,b))           # reshape for plotting\n",
    "    \n",
    "# plot the misfit function\n",
    "levels = np.arange(-1e-6, 0.5*max(RSSm),step=5)\n",
    "\n",
    "plt.figure(figsize=(8.7,8))\n",
    "plt.contourf(M1,M2,Z,levels,extend='max')\n",
    "#plt.pcolor(M1,M2,np.reshape(RSSm,(a,b)))\n",
    "#plt.scatter(m1,m2,s=6^2,c=RSSm)\n",
    "plt.plot(mtar[0],mtar[1],'ws',ms=10,mfc='k',label='target model')\n",
    "plt.plot(mest[0],mest[1],'wo',ms=10,mfc='r',label='estimated model')\n",
    "plt.legend(loc='upper right')\n",
    "plt.colorbar()\n",
    "plt.xlabel('m0, y-intercept')\n",
    "plt.ylabel('m1, slope')\n",
    "plt.title('Residual sum of squares')\n",
    "plt.axis('equal')\n",
    "plt.axis('tight')\n",
    "plt.show()"
   ]
  },
  {
   "cell_type": "code",
   "execution_count": null,
   "metadata": {
    "tags": []
   },
   "outputs": [],
   "source": [
    "#  PLOT GRADIENT HERE WITH matplotlib quiver COMMAND \n",
    "\n"
   ]
  }
 ],
 "metadata": {
  "kernelspec": {
   "name": "python3",
   "language": "python",
   "display_name": "Python 3 (ipykernel)"
  },
  "language_info": {
   "codemirror_mode": {
    "name": "ipython",
    "version": 3
   },
   "file_extension": ".py",
   "mimetype": "text/x-python",
   "name": "python",
   "nbconvert_exporter": "python",
   "pygments_lexer": "ipython3",
   "version": "3.11.0"
  }
 },
 "nbformat": 4,
 "nbformat_minor": 4
}