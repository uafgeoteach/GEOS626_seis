{
 "cells": [
  {
   "cell_type": "markdown",
   "metadata": {},
   "source": [
    "# Applied Seismology, GEOS 626, University of Alaska Fairbanks\n",
    "\n",
    "- script hw_sumatraB_hf.ipynb\n",
    "- template script for analyzing the direct arrival waveforms from Sumatra:\n",
    "- channel BHZ, duration of up to 5 hours"
   ]
  },
  {
   "cell_type": "code",
   "execution_count": null,
   "metadata": {},
   "outputs": [],
   "source": [
    "%matplotlib inline\n",
    "\n",
    "import matplotlib.pyplot as plt\n",
    "import numpy as np\n",
    "import os\n",
    "import sys\n",
    "import warnings\n",
    "\n",
    "from obspy import Stream\n",
    "from obspy.core import read\n",
    "from obspy.core import UTCDateTime\n",
    "from obspy.geodetics import kilometers2degrees, gps2dist_azimuth, degrees2kilometers\n",
    "\n",
    "from scipy.signal import hilbert\n",
    "\n",
    "from pysep import Pysep\n",
    "from pysep.recsec import plotw_rs\n",
    "\n",
    "from lib_seis import smooth\n",
    "from lib_seis import station_map_and_table"
   ]
  },
  {
   "cell_type": "code",
   "execution_count": null,
   "metadata": {},
   "outputs": [],
   "source": [
    "# script settings\n",
    "\n",
    "warnings.filterwarnings('ignore')\n",
    "plt.rcParams['figure.figsize'] = 10, 5\n",
    "plt.rcParams['lines.linewidth'] = 1"
   ]
  },
  {
   "cell_type": "code",
   "execution_count": null,
   "metadata": {
    "scrolled": true
   },
   "outputs": [],
   "source": [
    "# download BHZ data - response removed to displacement\n",
    "\n",
    "download  = dict( client                       = 'IRIS',\n",
    "                  origin_time                  = UTCDateTime(\"2004,12,26,00,58,53\"),\n",
    "                  event_latitude               = 3.09,\n",
    "                  event_longitude              = 94.26,\n",
    "                  event_depth_km               = 30,\n",
    "                  event_magnitude              = 9.1,\n",
    "                  networks                     = 'G,II,IU',\n",
    "                  stations                     = '*',\n",
    "                  locations                    = '*',\n",
    "                  channels                     = 'BHZ',\n",
    "                  remove_clipped               = True,\n",
    "                  remove_insufficient_length   = True,\n",
    "                  remove_response              = True,\n",
    "                  output_unit                  = 'DISP',\n",
    "                  detrend                      = True,\n",
    "                  demean                       = True,\n",
    "                  pre_filt                     = None,\n",
    "                  water_level                  = None,\n",
    "                  mindistance                  = 0.0 * np.pi/180 * 6371,\n",
    "                  maxdistance                  = 40.0 * np.pi/180 * 6371,\n",
    "                  fill_data_gaps               = 0,\n",
    "                  gap_fraction                 = 0.03,\n",
    "                  resample_freq                = 20,\n",
    "                  seconds_before_ref           = 1 * 60 * 60,\n",
    "                  seconds_after_ref            = 4 * 60 * 60,\n",
    "                  taup_model                   = 'ak135',\n",
    "                  log_level                    = 'DEBUG',\n",
    "                  write_files                  = 'sac',\n",
    "                  plot_files                   = 'map',\n",
    "                  output_dir                   = 'datawf',\n",
    "                  overwrite                    = False,\n",
    "                  overwrite_event_tag          = 'sumatra_BHZ_disp')"
   ]
  },
  {
   "cell_type": "code",
   "execution_count": null,
   "metadata": {
    "tags": []
   },
   "outputs": [],
   "source": [
    "# download data\n",
    "\n",
    "data_dir  = f'{download[\"output_dir\"]}/{download[\"overwrite_event_tag\"]}'\n",
    "sac_dir   = f'{data_dir}/SAC'\n",
    "overwrite = f'{download[\"overwrite\"]}'\n",
    "\n",
    "if (not os.path.isdir(data_dir)) or (overwrite == 'True'):\n",
    "    ps = Pysep(**download)\n",
    "    ps.run()\n",
    "else:\n",
    "    if os.path.isdir(sac_dir):\n",
    "        print('SAC directory already exists, proceeding to the next code cell')\n",
    "    else:\n",
    "        sys.exit('Data directory exists but with no SAC directory.\\n\\\n",
    "            Remove data directory and rerun download.')"
   ]
  },
  {
   "cell_type": "code",
   "execution_count": null,
   "metadata": {
    "scrolled": true
   },
   "outputs": [],
   "source": [
    "# read downloaded raw BHZ data\n",
    "\n",
    "st       = read(f'{sac_dir}/*.sac', header=None)\n",
    "\n",
    "print('Details of downloaded waveforms - \\n')\n",
    "print(st.__str__(extended=True))\n",
    "print()"
   ]
  },
  {
   "cell_type": "code",
   "execution_count": null,
   "metadata": {},
   "outputs": [],
   "source": [
    "station_map_and_table(st,event_lat=download['event_latitude'],event_lon=download['event_longitude'])"
   ]
  },
  {
   "cell_type": "code",
   "execution_count": null,
   "metadata": {},
   "outputs": [],
   "source": [
    "# OPTION A: PLOT ALL WAVEFORMS DOWNLOADED BY PYSEP\n",
    "# plot a record section using Pyseps's record section plotting tool\n",
    "# change the following parameters as needed\n",
    "\n",
    "plot_info = dict( pysep_path                   = sac_dir,\n",
    "                  sort_by                      = 'distance',\n",
    "                  scale_by                     = 'normalize',\n",
    "                  time_shift_s                 = None,\n",
    "                  min_period_s                 = 1,\n",
    "                  max_period_s                 = 10,\n",
    "                  xlim_s                       = [-50, 7200],\n",
    "                  preprocess                   = 'st',\n",
    "                  max_traces_per_rs            = 40,\n",
    "                  distance_units               = 'deg',\n",
    "                  tmarks                       = [0],\n",
    "                  save                         = '',\n",
    "                  log_level                    = 'CRITICAL')\n",
    "\n",
    "plotw_rs(**plot_info)"
   ]
  },
  {
   "cell_type": "code",
   "execution_count": null,
   "metadata": {},
   "outputs": [],
   "source": [
    "# choose subset of waveforms\n",
    "\n",
    "picked_waveforms = ['IU.TATO.00.BHZ',\n",
    "                    'II.PALK.00.BHZ',\n",
    "                    'II.COCO.00.BHZ']\n",
    "\n",
    "stsub = Stream()\n",
    "\n",
    "for i, waveform_id in enumerate(picked_waveforms):\n",
    "    stsub = stsub + st.select(id=waveform_id)"
   ]
  },
  {
   "cell_type": "code",
   "execution_count": null,
   "metadata": {},
   "outputs": [],
   "source": [
    "station_map_and_table(stsub,event_lat=download['event_latitude'],event_lon=download['event_longitude'])"
   ]
  },
  {
   "cell_type": "code",
   "execution_count": null,
   "metadata": {
    "tags": []
   },
   "outputs": [],
   "source": [
    "# OPTION B: PLOT SUBSET OF WAVEFORMS\n",
    "\n",
    "plot_info = dict( st                           = stsub,\n",
    "                  sort_by                      = 'distance',\n",
    "                  scale_by                     = 'normalize',\n",
    "                  time_shift_s                 = None,\n",
    "                  min_period_s                 = 1,\n",
    "                  max_period_s                 = 10,\n",
    "                  xlim_s                       = [-50, 7200],\n",
    "                  preprocess                   = 'st',\n",
    "                  max_traces_per_rs            = 40,\n",
    "                  distance_units               = 'deg',\n",
    "                  tmarks                       = [0],\n",
    "                  save                         = '',\n",
    "                  log_level                    = 'CRITICAL')\n",
    "\n",
    "plotw_rs(**plot_info)"
   ]
  },
  {
   "cell_type": "code",
   "execution_count": null,
   "metadata": {},
   "outputs": [],
   "source": []
  }
 ],
 "metadata": {
  "kernelspec": {
   "display_name": "seismo",
   "language": "python",
   "name": "conda-env-seismo-py"
  },
  "language_info": {
   "codemirror_mode": {
    "name": "ipython",
    "version": 3
   },
   "file_extension": ".py",
   "mimetype": "text/x-python",
   "name": "python",
   "nbconvert_exporter": "python",
   "pygments_lexer": "ipython3",
   "version": "3.11.0"
  }
 },
 "nbformat": 4,
 "nbformat_minor": 4
}
