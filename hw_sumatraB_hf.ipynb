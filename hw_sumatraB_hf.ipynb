{
 "cells": [
  {
   "cell_type": "markdown",
   "metadata": {},
   "source": [
    "# Applied Seismology, GEOS 626, University of Alaska Fairbanks\n",
    "\n",
    "- script hw_sumatraB_hf.ipynb\n",
    "- template script for analyzing the direct arrival waveforms from Sumatra:\n",
    "- channel BHZ, duration of up to 2.5 hours"
   ]
  },
  {
   "cell_type": "code",
   "execution_count": 1,
   "metadata": {},
   "outputs": [],
   "source": [
    "%matplotlib inline\n",
    "\n",
    "import matplotlib.pyplot as plt\n",
    "import numpy as np\n",
    "import warnings\n",
    "\n",
    "from obspy.core import read\n",
    "from obspy.core import UTCDateTime\n",
    "from obspy.geodetics import kilometers2degrees, gps2dist_azimuth, degrees2kilometers\n",
    "\n",
    "from pysep.recsec import plotw_rs\n",
    "\n",
    "from lib_seis import get_JB_Ptime\n",
    "from lib_seis import get_dist_az\n",
    "from lib_seis import station_info_list\n",
    "from plot_event_station import plot_event_station"
   ]
  },
  {
   "cell_type": "code",
   "execution_count": null,
   "metadata": {},
   "outputs": [],
   "source": [
    "# script settings\n",
    "\n",
    "warnings.filterwarnings('ignore')\n",
    "plt.rcParams['figure.figsize'] = 10, 5\n",
    "plt.rcParams['lines.linewidth'] = 1"
   ]
  },
  {
   "cell_type": "code",
   "execution_count": null,
   "metadata": {},
   "outputs": [],
   "source": [
    "# setting event and data parameters\n",
    "\n",
    "origin_time        = UTCDateTime('2004,12,26,00,58,53')\n",
    "event_latitude     = 3.09\n",
    "event_longitude    = 94.26\n",
    "event_depth_km     = 30\n",
    "event_magnitude    = 9.1\n",
    "resample_freq      = 1\n",
    "data_dir           = 'datawf/sumatra_BHZ_disp/SAC'"
   ]
  },
  {
   "cell_type": "code",
   "execution_count": null,
   "metadata": {
    "scrolled": true
   },
   "outputs": [],
   "source": [
    "# read downloaded raw BHZ data\n",
    "\n",
    "sac_file = f'{data_dir}/*.sac'\n",
    "st       = read(sac_file, header=None)\n",
    "\n",
    "print('Details of downloaded waveforms - \\n')\n",
    "print(st.__str__(extended=True))\n",
    "print()"
   ]
  },
  {
   "cell_type": "code",
   "execution_count": null,
   "metadata": {},
   "outputs": [],
   "source": [
    "print('\\nSource receiver map')\n",
    "station_lats, station_lons, station_tags, station_tags_full = station_info_list(st)\n",
    "plot_event_station(event_latitude,event_longitude,slat=station_lats,slon=station_lons,stas=station_tags)"
   ]
  },
  {
   "cell_type": "code",
   "execution_count": null,
   "metadata": {},
   "outputs": [],
   "source": [
    "print('Table of station azimuths and distances\\n')\n",
    "distance_deg, azimuth_deg, distance_km = get_dist_az(event_latitude,event_longitude,station_lats,station_lons,station_tags_full)"
   ]
  },
  {
   "cell_type": "code",
   "execution_count": null,
   "metadata": {},
   "outputs": [],
   "source": [
    "# plot the record section using Pyseps's record section plotting tool\n",
    "# https://adjtomo.github.io/pysep/autoapi/pysep/recsec/index.html#pysep.recsec.RecordSection\n",
    "\n",
    "# change the following parameters as needed\n",
    "\n",
    "plot_info = dict( pysep_path                   = data_dir,\n",
    "                  sort_by                      = 'distance',\n",
    "                  scale_by                     = 'normalize',\n",
    "                  move_out                     = None,\n",
    "                  time_shift_s                 = None,\n",
    "                  min_period_s                 = 1,\n",
    "                  max_period_s                 = 10,\n",
    "                  xlim_s                       = [-50, 7200],\n",
    "                  preprocess                   = 'st',\n",
    "                  max_traces_per_rs            = 40,\n",
    "                  distance_units               = 'deg',\n",
    "                  tmarks                       = [0],\n",
    "                  save                         = '',\n",
    "                  log_level                    = 'CRITICAL')\n",
    "\n",
    "plotw_rs(**plot_info)"
   ]
  },
  {
   "cell_type": "code",
   "execution_count": 4,
   "metadata": {},
   "outputs": [
    {
     "name": "stdout",
     "output_type": "stream",
     "text": [
      "[array([455.13030303])]\n"
     ]
    }
   ],
   "source": [
    "# getting P wave arrival estimates from the JB table\n",
    "\n",
    "P_arrival_time = get_JB_Ptime(source_depth_km=[20], dist_deg=[40])\n",
    "print(P_arrival_time)"
   ]
  },
  {
   "cell_type": "code",
   "execution_count": null,
   "metadata": {},
   "outputs": [],
   "source": []
  }
 ],
 "metadata": {
  "kernelspec": {
   "display_name": "seismo [conda env:.local-seismo]",
   "language": "python",
   "name": "conda-env-.local-seismo-py"
  },
  "language_info": {
   "codemirror_mode": {
    "name": "ipython",
    "version": 3
   },
   "file_extension": ".py",
   "mimetype": "text/x-python",
   "name": "python",
   "nbconvert_exporter": "python",
   "pygments_lexer": "ipython3",
   "version": "3.11.0"
  }
 },
 "nbformat": 4,
 "nbformat_minor": 4
}
