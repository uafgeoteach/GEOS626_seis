{
 "cells": [
  {
   "cell_type": "markdown",
   "metadata": {
    "tags": []
   },
   "source": [
    "# Applied Seismology, GEOS 626, University of Alaska Fairbanks\n",
    "\n",
    "- template script for analyzing modes spectra for sumatra\n",
    "- downloads BHZ and LHZ data needed for hw_sumatraB"
   ]
  },
  {
   "cell_type": "code",
   "execution_count": null,
   "metadata": {
    "tags": []
   },
   "outputs": [],
   "source": [
    "%matplotlib inline\n",
    "\n",
    "import matplotlib.pyplot as plt\n",
    "import numpy as np\n",
    "import warnings\n",
    "\n",
    "from obspy import read\n",
    "from obspy.core import UTCDateTime\n",
    "\n",
    "from pysep import Pysep\n",
    "\n",
    "from lib_seis import get_dist_az\n",
    "from lib_seis import plot_event_station\n",
    "from lib_seis import station_info_list\n",
    "from lib_seis import wf_fft"
   ]
  },
  {
   "cell_type": "code",
   "execution_count": null,
   "metadata": {
    "tags": []
   },
   "outputs": [],
   "source": [
    "# script settings\n",
    "\n",
    "warnings.filterwarnings('ignore')\n",
    "plt.rcParams['figure.figsize'] = 10, 5\n",
    "plt.rcParams['lines.linewidth'] = 1"
   ]
  },
  {
   "cell_type": "markdown",
   "metadata": {},
   "source": [
    "### Event details\n",
    "Mw 9.1 2004 Sumatra - Andaman Islands Earthquake \\\n",
    "https://earthquake.usgs.gov/earthquakes/eventpage/official20041226005853450_30\n",
    "\n",
    "origin time = 2004-12-26 00:58:53 \\\n",
    "latitude    = 3.09 N \\\n",
    "longitude   = 94.26 E \\\n",
    "depth       = 30 km \\\n",
    "magnitude   = 9.1"
   ]
  },
  {
   "cell_type": "code",
   "execution_count": null,
   "metadata": {
    "tags": []
   },
   "outputs": [],
   "source": [
    "# download raw LHZ data\n",
    "\n",
    "download  = dict( client                       = 'IRIS',\n",
    "                  origin_time                  = UTCDateTime('2004,12,26,00,58,53'),\n",
    "                  event_latitude               = 3.09,\n",
    "                  event_longitude              = 94.26,\n",
    "                  event_depth_km               = 30,\n",
    "                  event_magnitude              = 9.1,\n",
    "                  networks                     = 'G,II,IU',\n",
    "                  stations                     = '*',\n",
    "                  locations                    = '*',\n",
    "                  channels                     = 'LHZ',\n",
    "                  remove_response              = False,\n",
    "                  remove_clipped               = False,\n",
    "                  remove_insufficient_length   = False,\n",
    "                  detrend                      = False,\n",
    "                  demean                       = False,\n",
    "                  pre_filt                     = None,\n",
    "                  fill_data_gaps               = 0,\n",
    "                  gap_fraction                 = 1,\n",
    "                  resample_freq                = 1,\n",
    "                  seconds_before_ref           =  0.5 * 24 * 60 * 60,\n",
    "                  seconds_after_ref            = 10.0 * 24 * 60 * 60,\n",
    "                  taup_model                   = None,\n",
    "                  log_level                    = 'CRITICAL',\n",
    "                  write_files                  = 'sac',\n",
    "                  plot_files                   = 'map',\n",
    "                  output_dir                   = 'datawf',\n",
    "                  overwrite_event_tag          = 'sumatra_LHZ_raw')\n",
    "\n",
    "try:\n",
    "    ps = Pysep(**download)\n",
    "    ps.run()\n",
    "except :\n",
    "    print('data directory already exists')"
   ]
  },
  {
   "cell_type": "code",
   "execution_count": null,
   "metadata": {
    "scrolled": true,
    "tags": []
   },
   "outputs": [],
   "source": [
    "# read downloaded raw LHZ data\n",
    "\n",
    "sac_file = f'./datawf/sumatra_LHZ_raw/SAC/*.sac'\n",
    "st       = read(sac_file, header=None)\n",
    "\n",
    "print('Details of downloaded waveforms - \\n')\n",
    "print(st.__str__(extended=True))\n",
    "print()"
   ]
  },
  {
   "cell_type": "code",
   "execution_count": null,
   "metadata": {
    "tags": []
   },
   "outputs": [],
   "source": [
    "# waveforms to reject because of poor data quality\n",
    "\n",
    "waveforms_to_reject  = ['G.PEL..LHZ',\n",
    "                        'II.DGAR.00.LHZ',\n",
    "                        'II.HOPE.00.LHZ',\n",
    "                        'II.PALK.00.LHZ',\n",
    "                        'II.SHEL.00.LHZ',\n",
    "                        'IU.ADK.00.LHZ',\n",
    "                        'IU.DAV.00.LHZ',\n",
    "                        'IU.FUNA.00.LHZ',                  \n",
    "                        'IU.FUNA.10.LHZ',\n",
    "                        'IU.GRFO..LHZ',\n",
    "                        'IU.LCO..LHZ',\n",
    "                        'IU.OTAV.00.LHZ',\n",
    "                        'IU.OTAV.10.LHZ',\n",
    "                        'IU.PMG.00.LHZ',\n",
    "                        'IU.PMG.10.LHZ',\n",
    "                        'IU.POHA.00.LHZ',\n",
    "                        'IU.PTCN.00.LHZ',\n",
    "                        'IU.MBWA.00.LHZ',\n",
    "                        'IU.RAO.00.LHZ',\n",
    "                        'IU.RSSD.00.LHZ',\n",
    "                        'IU.SAML.00.LHZ',\n",
    "                        'IU.SAML.10.LHZ',\n",
    "                        'IU.SDV.00.LHZ',\n",
    "                        'IU.SDV.10.LHZ',\n",
    "                        'IU.TRIS.00.LHZ',\n",
    "                        'IU.TRIS.10.LHZ',\n",
    "                        'IU.WAKE.00.LHZ',\n",
    "                        'IU.XMAS.00.LHZ']"
   ]
  },
  {
   "cell_type": "code",
   "execution_count": null,
   "metadata": {
    "scrolled": true,
    "tags": []
   },
   "outputs": [],
   "source": [
    "# plot rejected waveforms\n",
    "\n",
    "for i, waveform_id in enumerate(waveforms_to_reject):\n",
    "    \n",
    "    tr = st.select(id=waveform_id)\n",
    "    plt.figure()\n",
    "    plt.plot(np.where(tr[0].data==0.00000000, np.nan, tr[0].data))                                         # replacing filled gaps (0's) with gaps (Nan's)\n",
    "    plt.xlim(0,907200)\n",
    "    plt.title(f'{tr[0].id} − starting {tr[0].stats[\"starttime\"]}')"
   ]
  },
  {
   "cell_type": "code",
   "execution_count": null,
   "metadata": {
    "scrolled": true,
    "tags": []
   },
   "outputs": [],
   "source": [
    "# special trimming of waveforms which need it\n",
    "# ID | starttime | endtime\n",
    "\n",
    "trim_details = [['IU.QSPA.20.LHZ', 0       , 4.4800e5],\n",
    "                ['II.ABKT.00.LHZ', 0       , 6.7410e5],\n",
    "                ['G.ATD.20.LHZ'  , 0       , 2.8400e5],\n",
    "                ['IU.BILL.20.LHZ', 0       , 4.3050e5],\n",
    "                ['II.BORG.20.LHZ', 0       , 3.1700e5],\n",
    "                ['IU.CHTO.20.LHZ', 0       , 3.6270e5],\n",
    "                ['II.EFI.20.LHZ' , 0       , 2.7500e5],\n",
    "                ['IU.GUMO.20.LHZ', 0       , 1.7980e5],\n",
    "                ['IU.HRV.20.LHZ' , 0       , 4.5800e5],\n",
    "                ['IU.MIDW.20.LHZ', 0.7500e4, 9.0720e5],\n",
    "                ['II.PFO.20.LHZ' , 0       , 3.3205e5],\n",
    "                ['G.SCZ.20.LHZ'  , 0       , 1.9300e5],\n",
    "                ['G.TAM.20.LHZ'  , 0       , 5.5800e5],\n",
    "                ['IU.TIXI.20.LHZ', 0       , 6.6150e5],\n",
    "                ['G.WUS.20.LHZ'  , 0       , 5.8200e5]]"
   ]
  },
  {
   "cell_type": "code",
   "execution_count": null,
   "metadata": {
    "scrolled": true,
    "tags": []
   },
   "outputs": [],
   "source": [
    "# computing and plotting the discrete Fourier transforms of the non-removed waveforms\n",
    "\n",
    "# resample_freq is provided as input into pysep (see above)\n",
    "Nyquist_frequency = download['resample_freq']/2\n",
    "\n",
    "for i in range(len(st)):\n",
    "    \n",
    "    if st[i].id in waveforms_to_reject:\n",
    "        continue\n",
    "    \n",
    "    else:\n",
    "        tr = st[i].copy()\n",
    "        \n",
    "        # cut out specific sections of specific seismograms\n",
    "        if tr.id in trim_details[:][0]:\n",
    "            start_time = tr.stats.starttime + trim_details[trim_details[:][0].index(tr.id)][1] \n",
    "            end_time   = tr.stats.starttime + trim_details[trim_details[:][0].index(tr.id)][2]\n",
    "            tr.trim(start_time,end_time)\n",
    "          \n",
    "        tr.detrend('constant')\n",
    "        tr.detrend('linear')\n",
    "        tr.taper(max_percentage=0.2, type=\"cosine\")\n",
    "        \n",
    "        fft_amp, fft_phase, fft_freq = wf_fft(tr.data, Nyquist_frequency)\n",
    "        \n",
    "        plt.figure()\n",
    "        plt.plot(fft_freq*1E3,fft_amp)\n",
    "        plt.xlim(0.2,1)\n",
    "        #plt.ylim(0,40)\n",
    "        xmask = np.logical_and(fft_freq*1e3 > .2, fft_freq*1e3 < 1)\n",
    "        plt.ylim(0,np.max(fft_amp[xmask])*1.1)\n",
    "        plt.title(f'{tr.id}')\n",
    "        plt.xlabel(f'Frequency (mHz)')\n",
    "        plt.ylabel(f'Amplitude (counts s)')\n",
    "        plt.show()        "
   ]
  },
  {
   "cell_type": "code",
   "execution_count": null,
   "metadata": {},
   "outputs": [],
   "source": [
    "# pick at least 20 waveforms having a useful and clean amplitude spectrum\n",
    "# pick only one location for a given station\n",
    "\n",
    "# list of stations with sensors at multiple locations\n",
    "# network = G  - KIP\n",
    "# network = II - ALE, ASCN, BORG, DGAR, KDAK, PFO, RPN, WRAB\n",
    "# network = IU - AFI, ANMO, CASY, COLA, FURI, GUMO, HNR, INCN, KIP, QSPA\n",
    "#                RAO, RAR, RCBR, SAML, SDV, SNZO, TATO, TEIG, TRIS, TRQA, WAKE\n",
    "\n",
    "# network | station | location | channel\n",
    "\n",
    "picked_waveforms = [['G' ,'CAN' ,''  ,'LHZ'],\n",
    "                    ['G' ,'CAN' ,''  ,'LHZ'],\n",
    "                    ['G' ,'CAN' ,''  ,'LHZ']]"
   ]
  },
  {
   "cell_type": "code",
   "execution_count": null,
   "metadata": {},
   "outputs": [],
   "source": [
    "# storing station information for selected stations\n",
    "station_lats, station_lons, station_tags = station_info_list(st, picked_waveforms)"
   ]
  },
  {
   "cell_type": "code",
   "execution_count": null,
   "metadata": {},
   "outputs": [],
   "source": [
    "print('\\nSource receiver map')   \n",
    "\n",
    "event_lon = download['event_longitude']\n",
    "event_lat = download['event_latitude']\n",
    "\n",
    "plot_event_station(event_lat,event_lon,slat=station_lats,slon=station_lons,stas=station_tags)"
   ]
  },
  {
   "cell_type": "code",
   "execution_count": null,
   "metadata": {},
   "outputs": [],
   "source": [
    "print('Table of station azimuths and distances\\n')\n",
    "\n",
    "distance_deg, azimuth_deg, distance_km = get_dist_az(event_lon,event_lat,station_lons,station_lats,station_tags)"
   ]
  },
  {
   "cell_type": "code",
   "execution_count": null,
   "metadata": {},
   "outputs": [],
   "source": [
    "# download LHZ data for selected waveforms - response removed to acceleration\n",
    "\n",
    "for i, waveform_id in enumerate(picked_waveforms):\n",
    "\n",
    "    download  = dict( client                       = 'IRIS',\n",
    "                      origin_time                  = UTCDateTime(\"2004,12,26,00,58,53\"),\n",
    "                      event_latitude               = 3.09,\n",
    "                      event_longitude              = 94.26,\n",
    "                      event_depth_km               = 30,\n",
    "                      event_magnitude              = 9.1,\n",
    "                      networks                     = waveform_id[0],\n",
    "                      stations                     = waveform_id[1],\n",
    "                      locations                    = waveform_id[2],\n",
    "                      channels                     = waveform_id[3],\n",
    "                      remove_response              = True,\n",
    "                      output_unit                  = 'ACC',\n",
    "                      remove_clipped               = True,\n",
    "                      remove_insufficient_length   = True,\n",
    "                      detrend                      = True,\n",
    "                      demean                       = True,\n",
    "                      pre_filt                     = None,\n",
    "                      fill_data_gaps               = 0,\n",
    "                      gap_fraction                 = 0.03,\n",
    "                      resample_freq                = 1,\n",
    "                      seconds_before_ref           =  0.5 * 24 * 60 * 60,\n",
    "                      seconds_after_ref            = 10.0 * 24 * 60 * 60,\n",
    "                      taup_model                   = None,\n",
    "                      log_level                    = 'DEBUG',\n",
    "                      write_files                  = 'sac',\n",
    "                      plot_files                   = None,\n",
    "                      output_dir                   = 'datawf',\n",
    "                      overwrite                    = True,\n",
    "                      overwrite_event_tag          = 'sumatra_LHZ_acc')\n",
    "    \n",
    "    try:\n",
    "        ps = Pysep(**download)\n",
    "        ps.run()\n",
    "    except:\n",
    "        print(\"Check the correctness of picked waveforms' list definition. If that is not a solution, check PySEP's debug messages.\")    "
   ]
  },
  {
   "cell_type": "code",
   "execution_count": null,
   "metadata": {},
   "outputs": [],
   "source": [
    "# download BHZ data - response removed to displacement\n",
    "\n",
    "download  = dict( client                       = 'IRIS',\n",
    "                  origin_time                  = UTCDateTime(\"2004,12,26,00,58,53\"),\n",
    "                  event_latitude               = 3.09,\n",
    "                  event_longitude              = 94.26,\n",
    "                  event_depth_km               = 30,\n",
    "                  event_magnitude              = 9.1,\n",
    "                  networks                     = 'G,II,IU',\n",
    "                  stations                     = '*',\n",
    "                  locations                    = '*',\n",
    "                  channels                     = 'BHZ',\n",
    "                  remove_response              = True,\n",
    "                  output_unit                  = 'DISP',\n",
    "                  remove_clipped               = True,\n",
    "                  remove_insufficient_length   = True,\n",
    "                  detrend                      = True,\n",
    "                  demean                       = True,\n",
    "                  pre_filt                     = None,\n",
    "                  fill_data_gaps               = 0,\n",
    "                  gap_fraction                 = 0.03,\n",
    "                  resample_freq                = 20,\n",
    "                  seconds_before_ref           = 1 * 60 * 60,\n",
    "                  seconds_after_ref            = 4 * 60 * 60,\n",
    "                  taup_model                   = None,\n",
    "                  log_level                    = 'CRITICAL',\n",
    "                  write_files                  = 'sac',\n",
    "                  plot_files                   = 'map',\n",
    "                  output_dir                   = 'datawf', \n",
    "                  overwrite_event_tag          = 'sumatra_BHZ_disp')\n",
    "\n",
    "ps = Pysep(**download)\n",
    "ps.run()"
   ]
  },
  {
   "cell_type": "code",
   "execution_count": null,
   "metadata": {},
   "outputs": [],
   "source": []
  }
 ],
 "metadata": {
  "kernelspec": {
   "display_name": "seismo [conda env:.local-seismo]",
   "language": "python",
   "name": "conda-env-.local-seismo-py"
  },
  "language_info": {
   "codemirror_mode": {
    "name": "ipython",
    "version": 3
   },
   "file_extension": ".py",
   "mimetype": "text/x-python",
   "name": "python",
   "nbconvert_exporter": "python",
   "pygments_lexer": "ipython3",
   "version": "3.11.0"
  }
 },
 "nbformat": 4,
 "nbformat_minor": 4
}
