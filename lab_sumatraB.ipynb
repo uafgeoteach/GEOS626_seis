{
 "cells": [
  {
   "cell_type": "markdown",
   "metadata": {
    "tags": []
   },
   "source": [
    "# Applied Seismology, GEOS 626, University of Alaska Fairbanks\n",
    "\n",
    "- template script for analyzing modes spectra for sumatra\n",
    "- downloads LHZ data needed for hw_sumatraB"
   ]
  },
  {
   "cell_type": "code",
   "execution_count": null,
   "metadata": {
    "tags": []
   },
   "outputs": [],
   "source": [
    "%matplotlib inline\n",
    "\n",
    "import matplotlib.pyplot as plt\n",
    "import numpy as np\n",
    "import os\n",
    "import warnings\n",
    "\n",
    "from obspy import read\n",
    "from obspy import Stream\n",
    "from obspy.clients.fdsn import Client\n",
    "from pysep import Pysep\n",
    "\n",
    "from lib_seis import station_map_and_table\n",
    "from lib_seis import sumatra_event\n",
    "from lib_seis import wf_fft"
   ]
  },
  {
   "cell_type": "code",
   "execution_count": null,
   "metadata": {
    "tags": []
   },
   "outputs": [],
   "source": [
    "# script settings\n",
    "\n",
    "warnings.filterwarnings('ignore')\n",
    "plt.rcParams['figure.figsize'] = 16, 8\n",
    "plt.rcParams['lines.linewidth'] = 1\n",
    "\n",
    "class SEED_ID_Error(Exception):\n",
    "    pass"
   ]
  },
  {
   "cell_type": "markdown",
   "metadata": {},
   "source": [
    "### Event details\n",
    "Mw 9.1 2004 Sumatra - Andaman Islands Earthquake <br/>\n",
    "https://earthquake.usgs.gov/earthquakes/eventpage/official20041226005853450_30"
   ]
  },
  {
   "cell_type": "code",
   "execution_count": null,
   "metadata": {
    "tags": []
   },
   "outputs": [],
   "source": [
    "# fetch and display event details\n",
    "\n",
    "event = sumatra_event()\n",
    "\n",
    "print()\n",
    "for item in event:\n",
    "    print(f'{item} = {event[item]}')\n",
    "print()    "
   ]
  },
  {
   "cell_type": "markdown",
   "metadata": {},
   "source": [
    "### PySEP - Python Seismogram Extraction and Processing\n",
    "\n",
    "- We will gather data for this event using the [PySEP](https://pysep.readthedocs.io/en/devel/index.html)\n",
    "package.\n",
    "- The PySEP package uses [ObsPy](https://docs.obspy.org/) internally to collect and handle seismic data.\n",
    "- Check the webpages for details on\n",
    "[data gathering](https://pysep.readthedocs.io/en/devel/autoapi/pysep/pysep/index.html#pysep.pysep.Pysep) and\n",
    "[record section plotting](https://pysep.readthedocs.io/en/devel/autoapi/pysep/recsec/index.html#pysep.recsec.RecordSection)\n",
    "- Check the (IRIS)[https://ds.iris.edu/ds/nodes/dmc/data/formats/seed-channel-naming] webpage for the SEED\n",
    "format seismic channel naming"
   ]
  },
  {
   "cell_type": "code",
   "execution_count": null,
   "metadata": {
    "tags": []
   },
   "outputs": [],
   "source": [
    "# raw LHZ data download specifications\n",
    "\n",
    "stations   = dict( networks                     = 'G,II,IU',\n",
    "                   stations                     = '*',\n",
    "                   locations                    = '*',\n",
    "                   channels                     = 'LHZ' )\n",
    "\n",
    "screening  = dict( seconds_before_ref           =  0.5 * 24 * 60 * 60,\n",
    "                   seconds_after_ref            = 10.0 * 24 * 60 * 60,\n",
    "                   remove_clipped               = False,\n",
    "                   remove_insufficient_length   = False,\n",
    "                   fill_data_gaps               = 0,\n",
    "                   gap_fraction                 = 1,\n",
    "                   resample_freq                = 1     )\n",
    "\n",
    "processing = dict( remove_response              = False ) \n",
    "                   \n",
    "output     = dict( log_level                    = 'INFO',\n",
    "                   plot_files                   = 'map',\n",
    "                   output_dir                   = 'datawf',\n",
    "                   sac_subdir                   = '', \n",
    "                   overwrite_event_tag          = 'sumatra_LHZ_raw',\n",
    "                   overwrite                    = False )"
   ]
  },
  {
   "cell_type": "code",
   "execution_count": null,
   "metadata": {
    "tags": []
   },
   "outputs": [],
   "source": [
    "# download data\n",
    "\n",
    "data_dir  = f'{output[\"output_dir\"]}/{output[\"overwrite_event_tag\"]}'\n",
    "overwrite = f'{output[\"overwrite\"]}'\n",
    "\n",
    "if (not os.path.isdir(data_dir)) or (overwrite == 'True'):\n",
    "    ps = Pysep(**event,**stations,**screening,**processing,**output)\n",
    "    ps.run()\n",
    "else:\n",
    "    print('\\nData directory already exists, no data will be downloaded\\n')"
   ]
  },
  {
   "cell_type": "code",
   "execution_count": null,
   "metadata": {
    "tags": []
   },
   "outputs": [],
   "source": [
    "# read downloaded raw LHZ data\n",
    "\n",
    "st = read(f'{data_dir}/*.sac', header=None)\n",
    "\n",
    "print('Details of downloaded waveforms - \\n')\n",
    "print(st.__str__(extended=True))\n",
    "print()"
   ]
  },
  {
   "cell_type": "code",
   "execution_count": null,
   "outputs": [],
   "source": [
    "# source station map for all downloaded data\n",
    "\n",
    "event_path = f'{data_dir}/event.xml'\n",
    "station_map_and_table(st, event_path)"
   ],
   "metadata": {
    "collapsed": false,
    "pycharm": {
     "name": "#%%\n"
    }
   }
  },
  {
   "cell_type": "code",
   "execution_count": null,
   "metadata": {
    "scrolled": true,
    "tags": []
   },
   "outputs": [],
   "source": [
    "# plotting all waveforms and their spectra\n",
    "\n",
    "plot_seismogram = True\n",
    "plot_spectra    = True\n",
    "\n",
    "# resample_freq is provided as input into pysep (see above)\n",
    "Nyquist_frequency = screening['resample_freq']/2\n",
    "\n",
    "f1 = 0.20 #mHz\n",
    "f2 = 1.00 #mHz\n",
    "\n",
    "color = ['r', 'g', 'b']\n",
    "\n",
    "for i, tr in enumerate(st):\n",
    "\n",
    "    if plot_seismogram:\n",
    "        plt.figure()\n",
    "        # replacing filled gaps (0's) with gaps (Nan's)\n",
    "        plt.plot(np.where(tr.data==0.00000000, np.nan, tr.data),color=color[i%3])\n",
    "        plt.xlim(0,907200)\n",
    "        plt.title(f'{i+1}. {tr.id} − starting {tr.stats[\"starttime\"]}')\n",
    "        plt.show()\n",
    "\n",
    "    if plot_spectra:\n",
    "        tr1 = tr.copy()\n",
    "        tr1.detrend('constant')\n",
    "        tr1.detrend('linear')\n",
    "        tr1.taper(max_percentage=0.2, type=\"cosine\")\n",
    "        fft_amp, fft_phase, fft_freq = wf_fft(tr1.data, Nyquist_frequency)\n",
    "\n",
    "        plt.figure()\n",
    "        plt.plot(fft_freq*1E3,fft_amp,color=color[i%3])\n",
    "        plt.xlim(f1,f2)\n",
    "        #plt.ylim(0,40)\n",
    "        xmask = np.logical_and(fft_freq*1e3 > f1, fft_freq*1e3 < f2)\n",
    "        plt.ylim(0,np.max(fft_amp[xmask])*1.1)\n",
    "        plt.title(f'{i+1}. {tr1.id}')\n",
    "        plt.xlabel(f'Frequency (mHz)')\n",
    "        plt.ylabel(f'Amplitude (counts s)')\n",
    "        plt.show()\n",
    "\n",
    "    print('\\n \\n \\n \\n')"
   ]
  },
  {
   "cell_type": "code",
   "execution_count": null,
   "metadata": {},
   "outputs": [],
   "source": [
    "# pick at least 20 waveforms having a useful and clean amplitude spectrum\n",
    "# pick only one location for a given station\n",
    "\n",
    "# list of stations with sensors at multiple locations\n",
    "# network = G  - KIP\n",
    "# network = II - ALE, ASCN, BORG, DGAR, KDAK, PFO, RPN, WRAB\n",
    "# network = IU - AFI, ANMO, CASY, COLA, FURI, GUMO, HNR, INCN, KIP, QSPA\n",
    "#                RAO, RAR, RCBR, SAML, SDV, SNZO, TATO, TEIG, TRIS, TRQA, WAKE\n",
    "\n",
    "# waveform = 'network.station.location.channel'\n",
    "\n",
    "picked_waveforms = ['G.CAN..LHZ'    ,\n",
    "                    'II.NNA.00.LHZ' ,\n",
    "                    'II.SUR.00.LHZ' ,\n",
    "                    'IU.BBSR.00.LHZ']"
   ]
  },
  {
   "cell_type": "code",
   "execution_count": null,
   "metadata": {},
   "outputs": [],
   "source": [
    "# plotting and listing station information corresponding to selected waveforms\n",
    "\n",
    "st_select = Stream()\n",
    "\n",
    "for seed_id in picked_waveforms:\n",
    "    st_pick = st.select(id=seed_id)\n",
    "    if not st_pick:\n",
    "        raise SEED_ID_Error(f'{seed_id} not in inventory')\n",
    "    st_select += st_pick\n",
    "\n",
    "station_map_and_table(st_select, event_path)"
   ]
  },
  {
   "cell_type": "code",
   "execution_count": null,
   "metadata": {
    "pycharm": {
     "name": "#%%\n"
    }
   },
   "outputs": [],
   "source": [
    "# computing and plotting the amplitude spectra of the response removed LHZ waveforms for the selected station\n",
    "# locations\n",
    "\n",
    "remove_response = True\n",
    "\n",
    "# NOTE: you might have to rerun this cell if the execution fails\n",
    "\n",
    "if remove_response:\n",
    "    client    = Client(\"IRIS\")\n",
    "    starttime = event['origin_time'] + screening['seconds_before_ref']\n",
    "    endtime   = event['origin_time'] + screening['seconds_after_ref']\n",
    "\n",
    "    # resample_freq is provided as input into pysep (see above)\n",
    "    Nyquist_frequency = screening['resample_freq']/2\n",
    "\n",
    "    for tr_select in st_select:\n",
    "\n",
    "        tr = tr_select.copy()\n",
    "        \n",
    "        tr.detrend('constant')\n",
    "        tr.detrend('linear')\n",
    "        tr.taper(max_percentage=0.2, type=\"cosine\")\n",
    "\n",
    "        fft_amp, fft_phase, fft_freq = wf_fft(tr.data, Nyquist_frequency)\n",
    "\n",
    "        if remove_response:\n",
    "            network, station, location, channel = tr.id.split('.')\n",
    "            inv = client.get_stations(network=network, station=station, location=location, channel=channel,\n",
    "                                      level=\"response\", starttime=starttime, endtime=endtime)\n",
    "            Ia  = inv[0][0][0].response.get_evalresp_response_for_frequencies(fft_freq, output='ACC',\n",
    "                                                                              start_stage=1, end_stage=3)\n",
    "            C   = fft_amp * np.exp( 1j * fft_phase )\n",
    "            Xa  = np.divide(C,Ia)\n",
    "            [fft_amp , fft_phase , fft_freq ] = [abs(Xa), np.angle(Xa), fft_freq]\n",
    "\n",
    "        f1 = 0.20\n",
    "        f2 = 1.00\n",
    "\n",
    "        plt.figure()\n",
    "        plt.plot(fft_freq*1E3,fft_amp)\n",
    "        plt.xlim(f1,f2)\n",
    "        #plt.ylim(0,40)\n",
    "        xmask = np.logical_and(fft_freq*1e3 > f1, fft_freq*1e3 < f2)\n",
    "        plt.ylim(0,np.max(fft_amp[xmask])*1.1)\n",
    "        plt.title(f'{tr.id}')\n",
    "        plt.xlabel(f'Frequency (mHz)')\n",
    "        plt.ylabel(f'Amplitude (ms^-2 s)')\n",
    "        plt.show()"
   ]
  },
  {
   "cell_type": "code",
   "execution_count": null,
   "outputs": [],
   "source": [
    "'''\n",
    "from libsol_seis import sumatra_modes_waveforms\n",
    "seeds_clean, seeds_cleanish, seeds_trim_clean, _ = sumatra_modes_waveforms()\n",
    "\n",
    "for seed in seeds_trim_clean:\n",
    "    seeds_trim.append(seed[0])\n",
    "\n",
    "picked_waveforms = seeds_clean + seeds_cleanish + seeds_trim\n",
    "\n",
    "    if tr.id in seeds_trim:\n",
    "        ix = seeds_trim.index(tr.id)\n",
    "        t0 = tr.stats.starttime\n",
    "        t1 = seeds_trim_clean[ix][1]\n",
    "        t2 = seeds_trim_clean[ix][2]\n",
    "        tr.trim(t0+t1,t0+t2)\n",
    "\n",
    "'''"
   ],
   "metadata": {
    "collapsed": false,
    "pycharm": {
     "name": "#%%\n"
    }
   }
  }
 ],
 "metadata": {
  "kernelspec": {
   "display_name": "Python 3 (ipykernel)",
   "language": "python",
   "name": "python3"
  },
  "language_info": {
   "codemirror_mode": {
    "name": "ipython",
    "version": 3
   },
   "file_extension": ".py",
   "mimetype": "text/x-python",
   "name": "python",
   "nbconvert_exporter": "python",
   "pygments_lexer": "ipython3",
   "version": "3.11.3"
  }
 },
 "nbformat": 4,
 "nbformat_minor": 4
}