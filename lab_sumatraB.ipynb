{
 "cells": [
  {
   "cell_type": "markdown",
   "metadata": {
    "tags": []
   },
   "source": [
    "# Applied Seismology, GEOS 626, University of Alaska Fairbanks\n",
    "\n",
    "- template script for analyzing modes spectra for sumatra\n",
    "- downloads BHZ and LHZ data needed for hw_sumatraB"
   ]
  },
  {
   "cell_type": "code",
   "execution_count": null,
   "metadata": {
    "tags": []
   },
   "outputs": [],
   "source": [
    "%matplotlib inline\n",
    "\n",
    "import matplotlib.pyplot as plt\n",
    "import numpy as np\n",
    "import os\n",
    "import warnings\n",
    "\n",
    "from obspy import read\n",
    "from obspy.core import UTCDateTime\n",
    "\n",
    "from pysep import Pysep\n",
    "\n",
    "from lib_seis import station_map_and_table\n",
    "from lib_seis import sumatra_waveform_screening\n",
    "from lib_seis import wf_fft"
   ]
  },
  {
   "cell_type": "code",
   "execution_count": null,
   "metadata": {
    "tags": []
   },
   "outputs": [],
   "source": [
    "# script settings\n",
    "\n",
    "warnings.filterwarnings('ignore')\n",
    "plt.rcParams['figure.figsize'] = 10, 5\n",
    "plt.rcParams['lines.linewidth'] = 1"
   ]
  },
  {
   "cell_type": "markdown",
   "metadata": {},
   "source": [
    "### Event details\n",
    "Mw 9.1 2004 Sumatra - Andaman Islands Earthquake \\\n",
    "https://earthquake.usgs.gov/earthquakes/eventpage/official20041226005853450_30\n",
    "\n",
    "origin time = 2004-12-26 00:58:53 \\\n",
    "latitude    = 3.09 N \\\n",
    "longitude   = 94.26 E \\\n",
    "depth       = 30 km \\\n",
    "magnitude   = 9.1"
   ]
  },
  {
   "cell_type": "markdown",
   "metadata": {},
   "source": [
    "### PySEP - Python Seismogram Extraction and Processing\n",
    "\n",
    "We will gather data for this event using the PySEP (https://pysep.readthedocs.io/en/devel/index.html) package. \\\n",
    "This package uses ObsPy (https://docs.obspy.org/) internally to collect and handle seismic data. \\\n",
    "\\\n",
    "Check the following links for details on - \\\n",
    "Data gathering - https://pysep.readthedocs.io/en/devel/autoapi/pysep/pysep/index.html#pysep.pysep.Pysep \\\n",
    "Record section plotting - https://pysep.readthedocs.io/en/devel/autoapi/pysep/recsec/index.html#pysep.recsec.RecordSection \\\n",
    "\\\n",
    "Check the following IRIS webpage for the SEED format seismic channel naming \\\n",
    "https://ds.iris.edu/ds/nodes/dmc/data/formats/seed-channel-naming/"
   ]
  },
  {
   "cell_type": "code",
   "execution_count": null,
   "metadata": {
    "tags": []
   },
   "outputs": [],
   "source": [
    "# download raw LHZ data\n",
    "\n",
    "download  = dict( client                       = 'IRIS',\n",
    "                  origin_time                  = UTCDateTime('2004,12,26,00,58,53'),\n",
    "                  event_latitude               = 3.09,\n",
    "                  event_longitude              = 94.26,\n",
    "                  event_depth_km               = 30,\n",
    "                  event_magnitude              = 9.1,\n",
    "                  networks                     = 'G,II,IU',\n",
    "                  stations                     = '*',\n",
    "                  locations                    = '*',\n",
    "                  channels                     = 'LHZ',\n",
    "                  remove_clipped               = False,\n",
    "                  remove_insufficient_length   = False,\n",
    "                  remove_response              = False,\n",
    "                  detrend                      = False,\n",
    "                  demean                       = False,\n",
    "                  taper_percentage             = 0,\n",
    "                  pre_filt                     = None,\n",
    "                  fill_data_gaps               = 0,\n",
    "                  gap_fraction                 = 1,\n",
    "                  resample_freq                = 1,\n",
    "                  seconds_before_ref           =  0.5 * 24 * 60 * 60,\n",
    "                  seconds_after_ref            = 10.0 * 24 * 60 * 60,\n",
    "                  taup_model                   = None,\n",
    "                  log_level                    = 'CRITICAL',\n",
    "                  write_files                  = 'sac,inv,event',\n",
    "                  plot_files                   = 'map',\n",
    "                  output_dir                   = 'datawf',\n",
    "                  overwrite                    = False,\n",
    "                  overwrite_event_tag          = 'sumatra_LHZ_raw')\n"
   ]
  },
  {
   "cell_type": "code",
   "execution_count": null,
   "metadata": {
    "scrolled": true,
    "tags": []
   },
   "outputs": [],
   "source": [
    "# download data\n",
    "\n",
    "data_dir  = f'{download[\"output_dir\"]}/{download[\"overwrite_event_tag\"]}'\n",
    "sac_dir   = f'{data_dir}/SAC'\n",
    "overwrite = f'{download[\"overwrite\"]}'\n",
    "\n",
    "if (not os.path.isdir(data_dir)) or (overwrite == 'True'):\n",
    "    ps = Pysep(**download)\n",
    "    ps.run()\n",
    "else:\n",
    "    if os.path.isdir(sac_dir):\n",
    "        print('SAC directory already exists, proceeding to the next code cell')\n",
    "    else:\n",
    "        sys.exit('Data directory exists but with no SAC directory.\\n\\\n",
    "            Remove data directory and rerun download.')"
   ]
  },
  {
   "cell_type": "code",
   "execution_count": null,
   "metadata": {
    "scrolled": true,
    "tags": []
   },
   "outputs": [],
   "source": [
    "# read downloaded raw LHZ data\n",
    "\n",
    "st = read(f'{sac_dir}/*.sac', header=None)\n",
    "\n",
    "print('Details of downloaded waveforms - \\n')\n",
    "print(st.__str__(extended=True))\n",
    "print()"
   ]
  },
  {
   "cell_type": "code",
   "execution_count": null,
   "metadata": {
    "scrolled": true,
    "tags": []
   },
   "outputs": [],
   "source": [
    "# plot waveforms to be rejected\n",
    "\n",
    "waveforms_to_reject = sumatra_waveform_screening(channel='LHZ')\n",
    "\n",
    "for i, waveform_id in enumerate(waveforms_to_reject):\n",
    "    tr = st.select(id=waveform_id)\n",
    "    plt.figure()\n",
    "    plt.plot(np.where(tr[0].data==0.00000000, np.nan, tr[0].data))             # replacing filled gaps (0's) with gaps (Nan's)\n",
    "    plt.xlim(0,907200)\n",
    "    plt.title(f'{tr[0].id} − starting {tr[0].stats[\"starttime\"]}')"
   ]
  },
  {
   "cell_type": "code",
   "execution_count": null,
   "metadata": {
    "scrolled": true,
    "tags": []
   },
   "outputs": [],
   "source": [
    "# create a list of waveforms to retain\n",
    "\n",
    "retained_waveforms = []                           # stores IDs in the split format ['network','station','location','channel']\n",
    "\n",
    "for i, tr in enumerate(st):\n",
    "    if tr.id not in waveforms_to_reject:\n",
    "        retained_waveforms.append(tr.id.split('.'))"
   ]
  },
  {
   "cell_type": "code",
   "execution_count": null,
   "metadata": {
    "tags": []
   },
   "outputs": [],
   "source": [
    "# plotting and listing station information corresponding to retained waveforms\n",
    "station_map_and_table(st, st_subset_list=retained_waveforms, event_lat=download['event_latitude'], event_lon=download['event_longitude'])"
   ]
  },
  {
   "cell_type": "code",
   "execution_count": null,
   "metadata": {
    "scrolled": true,
    "tags": []
   },
   "outputs": [],
   "source": [
    "# computing and plotting the amplitude spectra of the retained waveforms\n",
    "\n",
    "if True:\n",
    "\n",
    "    Nyquist_frequency = download['resample_freq']/2               # resample_freq is provided as input into pysep (see above)\n",
    "\n",
    "    for i in range(len(st)):\n",
    "\n",
    "        if st[i].id not in waveforms_to_reject:\n",
    "\n",
    "            tr = st[i].copy()  \n",
    "            tr.detrend('constant')\n",
    "            tr.detrend('linear')\n",
    "            tr.taper(max_percentage=0.2, type=\"cosine\")\n",
    "\n",
    "            fft_amp, fft_phase, fft_freq = wf_fft(tr.data, Nyquist_frequency)\n",
    "\n",
    "            plt.figure()\n",
    "            plt.plot(fft_freq*1E3,fft_amp)\n",
    "            plt.xlim(0.2,1)\n",
    "            #plt.ylim(0,40)\n",
    "            xmask = np.logical_and(fft_freq*1e3 > .2, fft_freq*1e3 < 1)\n",
    "            plt.ylim(0,np.max(fft_amp[xmask])*1.1)\n",
    "            plt.title(f'{tr.id}')\n",
    "            plt.xlabel(f'Frequency (mHz)')\n",
    "            plt.ylabel(f'Amplitude (counts s)')\n",
    "            plt.show()        "
   ]
  },
  {
   "cell_type": "code",
   "execution_count": null,
   "metadata": {},
   "outputs": [],
   "source": [
    "# pick at least 20 waveforms having a useful and clean amplitude spectrum\n",
    "# pick only one location for a given station\n",
    "\n",
    "# list of stations with sensors at multiple locations\n",
    "# network = G  - KIP\n",
    "# network = II - ALE, ASCN, BORG, DGAR, KDAK, PFO, RPN, WRAB\n",
    "# network = IU - AFI, ANMO, CASY, COLA, FURI, GUMO, HNR, INCN, KIP, QSPA\n",
    "#                RAO, RAR, RCBR, SAML, SDV, SNZO, TATO, TEIG, TRIS, TRQA, WAKE\n",
    "\n",
    "# network | station | location | channel\n",
    "\n",
    "picked_waveforms = [['G' ,'CAN' ,''  ,'LHZ'],\n",
    "                    ['II','NNA' ,'00','LHZ'],\n",
    "                    ['IU','BBSR','00','LHZ'],\n",
    "                    ['II','SUR' ,'00','LHZ']]"
   ]
  },
  {
   "cell_type": "code",
   "execution_count": null,
   "metadata": {},
   "outputs": [],
   "source": [
    "# plotting and listing station information corresponding to selected waveforms\n",
    "station_map_and_table(st, st_subset_list=picked_waveforms, event_lat=download['event_latitude'], event_lon=download['event_longitude'])"
   ]
  },
  {
   "cell_type": "code",
   "execution_count": null,
   "metadata": {},
   "outputs": [],
   "source": [
    "# download LHZ data for selected station locations - response removed to acceleration\n",
    "\n",
    "for i, waveform_id in enumerate(picked_waveforms):\n",
    "\n",
    "    download  = dict( client                       = 'IRIS',\n",
    "                      origin_time                  = UTCDateTime(\"2004,12,26,00,58,53\"),\n",
    "                      event_latitude               = 3.09,\n",
    "                      event_longitude              = 94.26,\n",
    "                      event_depth_km               = 30,\n",
    "                      event_magnitude              = 9.1,\n",
    "                      networks                     = waveform_id[0],\n",
    "                      stations                     = waveform_id[1],\n",
    "                      locations                    = waveform_id[2],\n",
    "                      channels                     = waveform_id[3],\n",
    "                      remove_clipped               = False,\n",
    "                      remove_insufficient_length   = False,\n",
    "                      remove_response              = True,\n",
    "                      output_unit                  = 'ACC',\n",
    "                      detrend                      = True,\n",
    "                      demean                       = True,\n",
    "                      taper_percentage             = 0.5,                                       \n",
    "                      pre_filt                     = 'default',\n",
    "                      water_level                  = None,\n",
    "                      fill_data_gaps               = 0,\n",
    "                      gap_fraction                 = 0.03,\n",
    "                      resample_freq                = 1,\n",
    "                      seconds_before_ref           =  0.5 * 24 * 60 * 60,\n",
    "                      seconds_after_ref            = 10.0 * 24 * 60 * 60,\n",
    "                      taup_model                   = None,\n",
    "                      log_level                    = 'DEBUG',\n",
    "                      write_files                  = 'sac,inv,event',\n",
    "                      plot_files                   = None,\n",
    "                      output_dir                   = 'datawf',\n",
    "                      overwrite                    = True,\n",
    "                      overwrite_event_tag          = 'sumatra_LHZ_acc')\n",
    "    \n",
    "    # download data\n",
    "\n",
    "    data_dir  = f'{download[\"output_dir\"]}/{download[\"overwrite_event_tag\"]}'\n",
    "    sac_dir   = f'{data_dir}/SAC'\n",
    "    overwrite = f'{download[\"overwrite\"]}'\n",
    "\n",
    "    if (not os.path.isdir(data_dir)) or (overwrite == 'True'):\n",
    "        ps = Pysep(**download)\n",
    "        ps.run()\n",
    "    else:\n",
    "        if os.path.isdir(sac_dir):\n",
    "            print('SAC directory already exists, proceeding to the next code cell')\n",
    "        else:\n",
    "            sys.exit('Data directory exists but with no SAC directory.\\n\\\n",
    "                Remove data directory and rerun download.')"
   ]
  },
  {
   "cell_type": "code",
   "execution_count": null,
   "metadata": {},
   "outputs": [],
   "source": [
    "# read downloaded LHZ acceleration data for the selected station locations\n",
    "\n",
    "st_acc = read(f'{sac_dir}/*.sac', header=None)\n",
    "\n",
    "print('Details of downloaded LHZ waveforms with response removed to acceleration for the selected station locations - \\n')\n",
    "print(st_acc.__str__(extended=True))\n",
    "print()"
   ]
  },
  {
   "cell_type": "code",
   "execution_count": null,
   "metadata": {},
   "outputs": [],
   "source": [
    "# computing and plotting the amplitude spectra of the LHZ acceleration waveforms for the selected station locations\n",
    "\n",
    "if True:\n",
    "\n",
    "    Nyquist_frequency = download['resample_freq']/2                # resample_freq is provided as input into pysep (see above)\n",
    "\n",
    "    for i, tr in enumerate(st_acc):\n",
    "\n",
    "            tr.detrend('constant')\n",
    "            tr.detrend('linear')\n",
    "            tr.taper(max_percentage=0.2, type=\"cosine\")\n",
    "\n",
    "            fft_amp, fft_phase, fft_freq = wf_fft(tr.data, Nyquist_frequency)\n",
    "\n",
    "            plt.figure()\n",
    "            plt.plot(fft_freq*1E3,fft_amp)\n",
    "            plt.xlim(0.2,1)\n",
    "            #plt.ylim(0,40)\n",
    "            xmask = np.logical_and(fft_freq*1e3 > .2, fft_freq*1e3 < 1)\n",
    "            plt.ylim(0,np.max(fft_amp[xmask])*1.1)\n",
    "            plt.title(f'{tr.id}')\n",
    "            plt.xlabel(f'Frequency (mHz)')\n",
    "            plt.ylabel(f'Amplitude (ms^-2 s)')\n",
    "            plt.show()        "
   ]
  },
  {
   "cell_type": "code",
   "execution_count": null,
   "metadata": {},
   "outputs": [],
   "source": []
  }
 ],
 "metadata": {
  "kernelspec": {
   "display_name": "seismo",
   "language": "python",
   "name": "conda-env-seismo-py"
  },
  "language_info": {
   "codemirror_mode": {
    "name": "ipython",
    "version": 3
   },
   "file_extension": ".py",
   "mimetype": "text/x-python",
   "name": "python",
   "nbconvert_exporter": "python",
   "pygments_lexer": "ipython3",
   "version": "3.11.0"
  }
 },
 "nbformat": 4,
 "nbformat_minor": 4
}
