{
 "cells": [
  {
   "cell_type": "markdown",
   "metadata": {
    "tags": []
   },
   "source": [
    "# Applied Seismology, GEOS 626, University of Alaska Fairbanks\n",
    "\n",
    "- template script for analyzing modes spectra for sumatra\n",
    "- downloads LHZ data needed for hw_sumatraB"
   ]
  },
  {
   "cell_type": "code",
   "execution_count": null,
   "metadata": {
    "tags": []
   },
   "outputs": [],
   "source": [
    "%matplotlib inline\n",
    "\n",
    "import matplotlib.pyplot as plt\n",
    "import numpy as np\n",
    "import os\n",
    "import warnings\n",
    "\n",
    "from obspy import read\n",
    "from pysep import Pysep\n",
    "\n",
    "from lib_seis import station_map_and_table\n",
    "from lib_seis import sumatra_event\n",
    "from lib_seis import sumatra_waveform_screening\n",
    "from lib_seis import wf_fft"
   ]
  },
  {
   "cell_type": "code",
   "execution_count": null,
   "metadata": {
    "tags": []
   },
   "outputs": [],
   "source": [
    "# script settings\n",
    "\n",
    "warnings.filterwarnings('ignore')\n",
    "plt.rcParams['figure.figsize'] = 10, 5\n",
    "plt.rcParams['lines.linewidth'] = 1"
   ]
  },
  {
   "cell_type": "markdown",
   "metadata": {},
   "source": [
    "### Event details\n",
    "Mw 9.1 2004 Sumatra - Andaman Islands Earthquake <br/>\n",
    "https://earthquake.usgs.gov/earthquakes/eventpage/official20041226005853450_30"
   ]
  },
  {
   "cell_type": "code",
   "execution_count": null,
   "metadata": {
    "tags": []
   },
   "outputs": [],
   "source": [
    "# fetch and display event details\n",
    "\n",
    "event = sumatra_event()\n",
    "\n",
    "print()\n",
    "for item in event:\n",
    "    print(f'{item} = {event[item]}')\n",
    "print()    "
   ]
  },
  {
   "cell_type": "markdown",
   "metadata": {},
   "source": [
    "### PySEP - Python Seismogram Extraction and Processing\n",
    "\n",
    "- We will gather data for this event using the [PySEP](https://pysep.readthedocs.io/en/devel/index.html)\n",
    "package.\n",
    "- The PySEP package uses [ObsPy](https://docs.obspy.org/) internally to collect and handle seismic data.\n",
    "- Check the webpages for details on\n",
    "[data gathering](https://pysep.readthedocs.io/en/devel/autoapi/pysep/pysep/index.html#pysep.pysep.Pysep) and\n",
    "[record section plotting](https://pysep.readthedocs.io/en/devel/autoapi/pysep/recsec/index.html#pysep.recsec.RecordSection)\n",
    "- Check the (IRIS)[https://ds.iris.edu/ds/nodes/dmc/data/formats/seed-channel-naming] webpage for the SEED\n",
    "format seismic channel naming"
   ]
  },
  {
   "cell_type": "code",
   "execution_count": null,
   "metadata": {
    "tags": []
   },
   "outputs": [],
   "source": [
    "# raw LHZ data download specifications\n",
    "\n",
    "stations   = dict( networks                     = 'G,II,IU',\n",
    "                   stations                     = '*',\n",
    "                   locations                    = '*',\n",
    "                   channels                     = 'LHZ' )\n",
    "\n",
    "screening  = dict( seconds_before_ref           =  0.5 * 24 * 60 * 60,\n",
    "                   seconds_after_ref            = 10.0 * 24 * 60 * 60,\n",
    "                   remove_clipped               = False,\n",
    "                   remove_insufficient_length   = False,\n",
    "                   fill_data_gaps               = 0,\n",
    "                   gap_fraction                 = 1,\n",
    "                   resample_freq                = 1     )\n",
    "\n",
    "processing = dict( remove_response              = False ) \n",
    "                   \n",
    "output     = dict( log_level                    = 'INFO',\n",
    "                   plot_files                   = 'map',\n",
    "                   output_dir                   = 'datawf',\n",
    "                   sac_subdir                   = '', \n",
    "                   overwrite_event_tag          = 'sumatra_LHZ_raw',\n",
    "                   overwrite                    = False )"
   ]
  },
  {
   "cell_type": "code",
   "execution_count": null,
   "metadata": {
    "tags": []
   },
   "outputs": [],
   "source": [
    "# download data\n",
    "\n",
    "data_dir  = f'{output[\"output_dir\"]}/{output[\"overwrite_event_tag\"]}'\n",
    "overwrite = f'{output[\"overwrite\"]}'\n",
    "\n",
    "if (not os.path.isdir(data_dir)) or (overwrite == 'True'):\n",
    "    ps = Pysep(**event,**stations,**screening,**processing,**output)\n",
    "    ps.run()\n",
    "else:\n",
    "    print('\\nData directory already exists, no data will be downloaded\\n')"
   ]
  },
  {
   "cell_type": "code",
   "execution_count": null,
   "metadata": {
    "tags": []
   },
   "outputs": [],
   "source": [
    "# read downloaded raw LHZ data\n",
    "\n",
    "st = read(f'{data_dir}/*.sac', header=None)\n",
    "\n",
    "print('Details of downloaded waveforms - \\n')\n",
    "print(st.__str__(extended=True))\n",
    "print()"
   ]
  },
  {
   "cell_type": "code",
   "execution_count": null,
   "metadata": {
    "tags": []
   },
   "outputs": [],
   "source": [
    "# waveforms to be rejected outright\n",
    "\n",
    "waveforms_to_reject, waveforms_to_trim = sumatra_waveform_screening(channel='LHZ')\n",
    "\n",
    "# adding waveforms to trim to the list of waveforms to reject\n",
    "for item in waveforms_to_trim:\n",
    "    waveforms_to_reject.append(item[0])\n",
    "\n",
    "# sorting the list alphabetically\n",
    "waveforms_to_reject = sorted(waveforms_to_reject)    \n",
    "    \n",
    "# listing waveforms IDs to be rejected outright\n",
    "print('List of waveforms to reject outright - \\n')\n",
    "print(f'{len(waveforms_to_reject)} waveforms:')\n",
    "for waveform_id in waveforms_to_reject:\n",
    "    print(waveform_id)\n",
    "print()"
   ]
  },
  {
   "cell_type": "code",
   "execution_count": null,
   "metadata": {
    "scrolled": true,
    "tags": []
   },
   "outputs": [],
   "source": [
    "# plotting waveforms to be rejected outright   \n",
    "'''\n",
    "for waveform_id in waveforms_to_reject:\n",
    "    st_subset = st.select(id=waveform_id)\n",
    "    plt.figure()\n",
    "    # replacing filled gaps (0's) with gaps (Nan's)\n",
    "    plt.plot(np.where(st_subset[0].data==0.00000000, np.nan, st_subset[0].data))\n",
    "    plt.xlim(0,907200)\n",
    "    plt.title(f'{st_subset[0].id} − starting {st_subset[0].stats[\"starttime\"]}')\n",
    "'''"
   ]
  },
  {
   "cell_type": "code",
   "execution_count": null,
   "metadata": {
    "scrolled": true,
    "tags": []
   },
   "outputs": [],
   "source": [
    "# waveforms retained\n",
    "\n",
    "retained_waveforms = []\n",
    "for tr in st:\n",
    "    if tr.id not in waveforms_to_reject:\n",
    "        retained_waveforms.append(tr.id)"
   ]
  },
  {
   "cell_type": "code",
   "execution_count": null,
   "metadata": {
    "tags": []
   },
   "outputs": [],
   "source": [
    "# plotting and listing station information corresponding to retained waveforms\n",
    "\n",
    "event_path = f'{data_dir}/event.xml'\n",
    "inv_path = f'{data_dir}/inv.xml'\n",
    "station_map_and_table(event_path, inv_path, subset_ids=retained_waveforms)"
   ]
  },
  {
   "cell_type": "code",
   "execution_count": null,
   "metadata": {
    "scrolled": true,
    "tags": []
   },
   "outputs": [],
   "source": [
    "# computing and plotting the amplitude spectra of the retained waveforms\n",
    "'''\n",
    "if True:\n",
    "\n",
    "    # resample_freq is provided as input into pysep (see above)\n",
    "    Nyquist_frequency = screening['resample_freq']/2\n",
    "\n",
    "    for waveform_id in retained_waveforms:\n",
    "\n",
    "        st_subset = st.select(id=waveform_id).copy()\n",
    "\n",
    "        st_subset.detrend('constant')\n",
    "        st_subset.detrend('linear')\n",
    "        st_subset.taper(max_percentage=0.2, type=\"cosine\")\n",
    "\n",
    "        fft_amp, fft_phase, fft_freq = wf_fft(st_subset[0].data, Nyquist_frequency)\n",
    "\n",
    "        plt.figure()\n",
    "        plt.plot(fft_freq*1E3,fft_amp)\n",
    "        plt.xlim(0.2,1)\n",
    "        #plt.ylim(0,40)\n",
    "        xmask = np.logical_and(fft_freq*1e3 > .2, fft_freq*1e3 < 1)\n",
    "        plt.ylim(0,np.max(fft_amp[xmask])*1.1)\n",
    "        plt.title(st_subset[0].id)\n",
    "        plt.xlabel(f'Frequency (mHz)')\n",
    "        plt.ylabel(f'Amplitude (counts s)')\n",
    "        plt.show()        \n",
    "'''"
   ]
  },
  {
   "cell_type": "code",
   "execution_count": null,
   "metadata": {},
   "outputs": [],
   "source": [
    "# pick at least 20 waveforms having a useful and clean amplitude spectrum\n",
    "# pick only one location for a given station\n",
    "\n",
    "# list of stations with sensors at multiple locations\n",
    "# network = G  - KIP\n",
    "# network = II - ALE, ASCN, BORG, DGAR, KDAK, PFO, RPN, WRAB\n",
    "# network = IU - AFI, ANMO, CASY, COLA, FURI, GUMO, HNR, INCN, KIP, QSPA\n",
    "#                RAO, RAR, RCBR, SAML, SDV, SNZO, TATO, TEIG, TRIS, TRQA, WAKE\n",
    "\n",
    "# waveform = 'network.station.location.channel'\n",
    "\n",
    "picked_waveforms = ['G.CAN..LHZ'    ,\n",
    "                    'II.NNA.00.LHZ' ,\n",
    "                    'II.SUR.00.LHZ' ,\n",
    "                    'IU.BBSR.00.LHZ']"
   ]
  },
  {
   "cell_type": "code",
   "execution_count": null,
   "metadata": {},
   "outputs": [],
   "source": [
    "# plotting and listing station information corresponding to selected waveforms\n",
    "\n",
    "event_path = f'{data_dir}/event.xml'\n",
    "inv_path = f'{data_dir}/inv.xml'\n",
    "station_map_and_table(event_path, inv_path, subset_ids=picked_waveforms)"
   ]
  },
  {
   "cell_type": "code",
   "execution_count": null,
   "metadata": {},
   "outputs": [],
   "source": [
    "# response removed LHZ data download for selected station locations\n",
    "# response removed to acceleration\n",
    "    \n",
    "stations   = dict( station_ids                  = picked_waveforms )\n",
    "\n",
    "screening  = dict( seconds_before_ref           =  0.5 * 24 * 60 * 60,\n",
    "                   seconds_after_ref            = 10.0 * 24 * 60 * 60,\n",
    "                   remove_clipped               = False,\n",
    "                   remove_insufficient_length   = False,\n",
    "                   fill_data_gaps               = 0,\n",
    "                   gap_fraction                 = 0.03,\n",
    "                   resample_freq                = 1           )\n",
    "\n",
    "processing = dict( remove_response              = True,\n",
    "                   output_unit                  = 'ACC',                                   \n",
    "                   water_level                  = None,\n",
    "                   pre_filt                     = 'default',\n",
    "                   detrend                      = True,\n",
    "                   demean                       = True,\n",
    "                   taper_percentage             = 0.2         ) \n",
    "\n",
    "output     = dict( log_level                    = 'DEBUG',\n",
    "                   plot_files                   = 'map',\n",
    "                   output_dir                   = 'datawf',\n",
    "                   sac_subdir                   = '',\n",
    "                   overwrite_event_tag          = 'sumatra_LHZ_acc',\n",
    "                   overwrite                    = True )"
   ]
  },
  {
   "cell_type": "code",
   "execution_count": null,
   "metadata": {},
   "outputs": [],
   "source": [
    "# download data\n",
    "\n",
    "data_dir  = f'{output[\"output_dir\"]}/{output[\"overwrite_event_tag\"]}'\n",
    "overwrite = f'{output[\"overwrite\"]}'\n",
    "\n",
    "if (not os.path.isdir(data_dir)) or (overwrite == 'True'):\n",
    "    ps = Pysep(**event,**stations,**screening,**processing,**output)\n",
    "    ps.run()\n",
    "else:\n",
    "    print('Data directory already exists, no data will be downloaded')"
   ]
  },
  {
   "cell_type": "code",
   "execution_count": null,
   "metadata": {},
   "outputs": [],
   "source": [
    "# read downloaded LHZ acceleration data for the selected station locations\n",
    "\n",
    "st_acc = read(f'{data_dir}/*.sac', header=None)\n",
    "\n",
    "print('Details of downloaded LHZ waveforms with response removed to acceleration for the selected station '\n",
    "      'locations - \\n')\n",
    "print(st_acc.__str__(extended=True))\n",
    "print()"
   ]
  },
  {
   "cell_type": "code",
   "execution_count": null,
   "metadata": {
    "pycharm": {
     "name": "#%%\n"
    }
   },
   "outputs": [],
   "source": [
    "# computing and plotting the amplitude spectra of the LHZ acceleration waveforms for the selected station\n",
    "# locations\n",
    "\n",
    "if True:\n",
    "\n",
    "    # resample_freq is provided as input into pysep (see above)\n",
    "    Nyquist_frequency = screening['resample_freq']/2\n",
    "\n",
    "    for tr_acc in st_acc:\n",
    "\n",
    "        tr = tr_acc.copy()\n",
    "        \n",
    "        tr.detrend('constant')\n",
    "        tr.detrend('linear')\n",
    "        tr.taper(max_percentage=0.2, type=\"cosine\")\n",
    "\n",
    "        fft_amp, fft_phase, fft_freq = wf_fft(tr.data, Nyquist_frequency)\n",
    "\n",
    "        plt.figure()\n",
    "        plt.plot(fft_freq*1E3,fft_amp)\n",
    "        plt.xlim(0.2,1)\n",
    "        #plt.ylim(0,40)\n",
    "        xmask = np.logical_and(fft_freq*1e3 > .2, fft_freq*1e3 < 1)\n",
    "        plt.ylim(0,np.max(fft_amp[xmask])*1.1)\n",
    "        plt.title(f'{tr.id}')\n",
    "        plt.xlabel(f'Frequency (mHz)')\n",
    "        plt.ylabel(f'Amplitude (ms^-2 s)')\n",
    "        plt.show()\n",
    "\n"
   ]
  }
 ],
 "metadata": {
  "kernelspec": {
   "display_name": "Python 3 (ipykernel)",
   "language": "python",
   "name": "python3"
  },
  "language_info": {
   "codemirror_mode": {
    "name": "ipython",
    "version": 3
   },
   "file_extension": ".py",
   "mimetype": "text/x-python",
   "name": "python",
   "nbconvert_exporter": "python",
   "pygments_lexer": "ipython3",
   "version": "3.11.3"
  }
 },
 "nbformat": 4,
 "nbformat_minor": 4
}