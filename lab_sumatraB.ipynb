{
 "cells": [
  {
   "cell_type": "markdown",
   "metadata": {
    "tags": []
   },
   "source": [
    "# Applied Seismology, GEOS 626, University of Alaska Fairbanks\n",
    "\n",
    "- template script for analyzing modes spectra for sumatra\n",
    "- downloads BHZ and LHZ data needed for hw_sumatraB"
   ]
  },
  {
   "cell_type": "code",
   "execution_count": null,
   "metadata": {
    "tags": []
   },
   "outputs": [],
   "source": [
    "%matplotlib inline\n",
    "\n",
    "import matplotlib.pyplot as plt\n",
    "import numpy as np\n",
    "import warnings\n",
    "\n",
    "from obspy import read\n",
    "from obspy.core import UTCDateTime\n",
    "\n",
    "from pysep import Pysep\n",
    "\n",
    "from lib_seis import station_map_and_table\n",
    "from lib_seis import sumatra_waveform_screening\n",
    "from lib_seis import wf_fft"
   ]
  },
  {
   "cell_type": "code",
   "execution_count": null,
   "metadata": {
    "tags": []
   },
   "outputs": [],
   "source": [
    "# script settings\n",
    "\n",
    "warnings.filterwarnings('ignore')\n",
    "plt.rcParams['figure.figsize'] = 10, 5\n",
    "plt.rcParams['lines.linewidth'] = 1"
   ]
  },
  {
   "cell_type": "markdown",
   "metadata": {},
   "source": [
    "### Event details\n",
    "Mw 9.1 2004 Sumatra - Andaman Islands Earthquake \\\n",
    "https://earthquake.usgs.gov/earthquakes/eventpage/official20041226005853450_30\n",
    "\n",
    "origin time = 2004-12-26 00:58:53 \\\n",
    "latitude    = 3.09 N \\\n",
    "longitude   = 94.26 E \\\n",
    "depth       = 30 km \\\n",
    "magnitude   = 9.1"
   ]
  },
  {
   "cell_type": "code",
   "execution_count": null,
   "metadata": {
    "tags": []
   },
   "outputs": [],
   "source": [
    "# download raw LHZ data\n",
    "\n",
    "download  = dict( client                       = 'IRIS',\n",
    "                  origin_time                  = UTCDateTime('2004,12,26,00,58,53'),\n",
    "                  event_latitude               = 3.09,\n",
    "                  event_longitude              = 94.26,\n",
    "                  event_depth_km               = 30,\n",
    "                  event_magnitude              = 9.1,\n",
    "                  networks                     = 'G,II,IU',\n",
    "                  stations                     = '*',\n",
    "                  locations                    = '*',\n",
    "                  channels                     = 'LHZ',\n",
    "                  remove_clipped               = False,\n",
    "                  remove_insufficient_length   = False,\n",
    "                  remove_response              = False,\n",
    "                  detrend                      = False,\n",
    "                  demean                       = False,\n",
    "                  taper_percentage             = 0,\n",
    "                  pre_filt                     = None,\n",
    "                  fill_data_gaps               = 0,\n",
    "                  gap_fraction                 = 1,\n",
    "                  resample_freq                = 1,\n",
    "                  seconds_before_ref           =  0.5 * 24 * 60 * 60,\n",
    "                  seconds_after_ref            = 10.0 * 24 * 60 * 60,\n",
    "                  taup_model                   = None,\n",
    "                  log_level                    = 'CRITICAL',\n",
    "                  write_files                  = 'sac,inv,event',\n",
    "                  plot_files                   = 'map',\n",
    "                  output_dir                   = 'datawf',\n",
    "                  overwrite_event_tag          = 'sumatra_LHZ_raw')\n",
    "\n",
    "try:\n",
    "    ps = Pysep(**download)\n",
    "    ps.run()\n",
    "except :\n",
    "    print('data directory already exists')"
   ]
  },
  {
   "cell_type": "code",
   "execution_count": null,
   "metadata": {
    "scrolled": true,
    "tags": []
   },
   "outputs": [],
   "source": [
    "# read downloaded raw LHZ data\n",
    "\n",
    "sac_file = f'./datawf/sumatra_LHZ_raw/SAC/*.sac'\n",
    "st       = read(sac_file, header=None)\n",
    "\n",
    "print('Details of downloaded waveforms - \\n')\n",
    "print(st.__str__(extended=True))\n",
    "print()"
   ]
  },
  {
   "cell_type": "code",
   "execution_count": null,
   "metadata": {
    "tags": []
   },
   "outputs": [],
   "source": [
    "# waveform screening information\n",
    "# - reject waveforms with poor data quality\n",
    "# - trim waveforms which can be used after trimming\n",
    "\n",
    "waveforms_to_reject, waveforms_to_trim = sumatra_waveform_screening(channel='LHZ')"
   ]
  },
  {
   "cell_type": "code",
   "execution_count": null,
   "metadata": {
    "scrolled": true,
    "tags": []
   },
   "outputs": [],
   "source": [
    "# plot waveforms to be rejected\n",
    "\n",
    "for i, waveform_id in enumerate(waveforms_to_reject):\n",
    "    tr = st.select(id=waveform_id)\n",
    "    plt.figure()\n",
    "    plt.plot(np.where(tr[0].data==0.00000000, np.nan, tr[0].data))             # replacing filled gaps (0's) with gaps (Nan's)\n",
    "    plt.xlim(0,907200)\n",
    "    plt.title(f'{tr[0].id} − starting {tr[0].stats[\"starttime\"]}')"
   ]
  },
  {
   "cell_type": "code",
   "execution_count": null,
   "metadata": {
    "scrolled": true,
    "tags": []
   },
   "outputs": [],
   "source": [
    "# plot waveforms to be trimmed\n",
    "# dotted black trim lines indicate the retained portion\n",
    "\n",
    "for i, trim_details in enumerate(waveforms_to_trim):\n",
    "    ID = trim_details[0]\n",
    "    tr = st.select(id=ID)\n",
    "    plt.figure()\n",
    "    plt.plot(np.where(tr[0].data==0.00000000, np.nan, tr[0].data))            # replacing filled gaps (0's) with gaps (Nan's)\n",
    "    plt.axvline(trim_details[1],linestyle='--',color='k')\n",
    "    plt.axvline(trim_details[2],linestyle='--',color='k')\n",
    "    plt.xlim(-50000,957200)\n",
    "    plt.title(f'{tr[0].id} − starting {tr[0].stats[\"starttime\"]}')"
   ]
  },
  {
   "cell_type": "code",
   "execution_count": null,
   "metadata": {
    "scrolled": true,
    "tags": []
   },
   "outputs": [],
   "source": [
    "# create a list of waveforms to retain\n",
    "\n",
    "retained_waveforms = []                           # stores IDs in the split format ['network','station','location','channel']\n",
    "\n",
    "for i, tr in enumerate(st):\n",
    "    if tr.id not in waveforms_to_reject:\n",
    "        retained_waveforms.append(tr.id.split('.'))"
   ]
  },
  {
   "cell_type": "code",
   "execution_count": null,
   "metadata": {
    "tags": []
   },
   "outputs": [],
   "source": [
    "# plotting and listing station information corresponding to retained waveforms\n",
    "station_map_and_table(st, st_subset_list=retained_waveforms, event_lat=download['event_latitude'], event_lon=download['event_longitude'])"
   ]
  },
  {
   "cell_type": "code",
   "execution_count": null,
   "metadata": {
    "scrolled": true,
    "tags": []
   },
   "outputs": [],
   "source": [
    "# trimming of waveforms which can be used after trimming\n",
    "\n",
    "for i, trim_details in enumerate(waveforms_to_trim):\n",
    "    ID = trim_details[0]\n",
    "    tr = st.select(id=ID)\n",
    "    \n",
    "    start_time = tr[0].stats.starttime + trim_details[1] \n",
    "    end_time   = tr[0].stats.starttime + trim_details[2]\n",
    "    tr.trim(start_time,end_time)"
   ]
  },
  {
   "cell_type": "code",
   "execution_count": null,
   "metadata": {
    "scrolled": true,
    "tags": []
   },
   "outputs": [],
   "source": [
    "# computing and plotting the amplitude spectra of the retained waveforms\n",
    "\n",
    "if True:\n",
    "\n",
    "    Nyquist_frequency = download['resample_freq']/2               # resample_freq is provided as input into pysep (see above)\n",
    "\n",
    "    for i in range(len(st)):\n",
    "\n",
    "        if st[i].id not in waveforms_to_reject:\n",
    "\n",
    "            tr = st[i].copy()  \n",
    "            tr.detrend('constant')\n",
    "            tr.detrend('linear')\n",
    "            tr.taper(max_percentage=0.2, type=\"cosine\")\n",
    "\n",
    "            fft_amp, fft_phase, fft_freq = wf_fft(tr.data, Nyquist_frequency)\n",
    "\n",
    "            plt.figure()\n",
    "            plt.plot(fft_freq*1E3,fft_amp)\n",
    "            plt.xlim(0.2,1)\n",
    "            #plt.ylim(0,40)\n",
    "            xmask = np.logical_and(fft_freq*1e3 > .2, fft_freq*1e3 < 1)\n",
    "            plt.ylim(0,np.max(fft_amp[xmask])*1.1)\n",
    "            plt.title(f'{tr.id}')\n",
    "            plt.xlabel(f'Frequency (mHz)')\n",
    "            plt.ylabel(f'Amplitude (counts s)')\n",
    "            plt.show()        "
   ]
  },
  {
   "cell_type": "code",
   "execution_count": null,
   "metadata": {},
   "outputs": [],
   "source": [
    "# pick at least 20 waveforms having a useful and clean amplitude spectrum\n",
    "# pick only one location for a given station\n",
    "\n",
    "# list of stations with sensors at multiple locations\n",
    "# network = G  - KIP\n",
    "# network = II - ALE, ASCN, BORG, DGAR, KDAK, PFO, RPN, WRAB\n",
    "# network = IU - AFI, ANMO, CASY, COLA, FURI, GUMO, HNR, INCN, KIP, QSPA\n",
    "#                RAO, RAR, RCBR, SAML, SDV, SNZO, TATO, TEIG, TRIS, TRQA, WAKE\n",
    "\n",
    "# network | station | location | channel\n",
    "\n",
    "picked_waveforms = [['G' ,'CAN' ,''  ,'LHZ'],\n",
    "                    ['II','NNA' ,'00','LHZ'],\n",
    "                    ['IU','BBSR','00','LHZ'],\n",
    "                    ['II','SUR' ,'00','LHZ']]"
   ]
  },
  {
   "cell_type": "code",
   "execution_count": null,
   "metadata": {},
   "outputs": [],
   "source": [
    "# plotting and listing station information corresponding to selected waveforms\n",
    "station_map_and_table(st, st_subset_list=picked_waveforms, event_lat=download['event_latitude'], event_lon=download['event_longitude'])"
   ]
  },
  {
   "cell_type": "code",
   "execution_count": null,
   "metadata": {},
   "outputs": [],
   "source": [
    "# download LHZ data for selected station locations - response removed to acceleration\n",
    "\n",
    "for i, waveform_id in enumerate(picked_waveforms):\n",
    "\n",
    "    download  = dict( client                       = 'IRIS',\n",
    "                      origin_time                  = UTCDateTime(\"2004,12,26,00,58,53\"),\n",
    "                      event_latitude               = 3.09,\n",
    "                      event_longitude              = 94.26,\n",
    "                      event_depth_km               = 30,\n",
    "                      event_magnitude              = 9.1,\n",
    "                      networks                     = waveform_id[0],\n",
    "                      stations                     = waveform_id[1],\n",
    "                      locations                    = waveform_id[2],\n",
    "                      channels                     = waveform_id[3],\n",
    "                      remove_clipped               = False,\n",
    "                      remove_insufficient_length   = False,\n",
    "                      remove_response              = True,\n",
    "                      output_unit                  = 'ACC',\n",
    "                      detrend                      = True,\n",
    "                      demean                       = True,\n",
    "                      taper_percentage             = 0.5,                                       \n",
    "                      pre_filt                     = 'default',\n",
    "                      fill_data_gaps               = 0,\n",
    "                      gap_fraction                 = 0.03,\n",
    "                      resample_freq                = 1,\n",
    "                      seconds_before_ref           =  0.5 * 24 * 60 * 60,\n",
    "                      seconds_after_ref            = 10.0 * 24 * 60 * 60,\n",
    "                      taup_model                   = None,\n",
    "                      log_level                    = 'DEBUG',\n",
    "                      write_files                  = 'sac,inv,event',\n",
    "                      plot_files                   = None,\n",
    "                      output_dir                   = 'datawf',\n",
    "                      overwrite                    = True,\n",
    "                      overwrite_event_tag          = 'sumatra_LHZ_acc')\n",
    "    \n",
    "    try:\n",
    "        ps = Pysep(**download)\n",
    "        ps.run()\n",
    "    except:\n",
    "        print(\"Check the correctness of picked waveforms' list definition. If that is not a solution, check PySEP's debug messages.\")"
   ]
  },
  {
   "cell_type": "code",
   "execution_count": null,
   "metadata": {},
   "outputs": [],
   "source": [
    "# read downloaded LHZ acceleration data for the selected station locations\n",
    "\n",
    "sac_file = f'./datawf/sumatra_LHZ_acc/SAC/*.sac'\n",
    "st_acc   = read(sac_file, header=None)\n",
    "\n",
    "print('Details of downloaded LHZ waveforms with response removed to acceleration for the selected station locations - \\n')\n",
    "print(st_acc.__str__(extended=True))\n",
    "print()"
   ]
  },
  {
   "cell_type": "code",
   "execution_count": null,
   "metadata": {},
   "outputs": [],
   "source": [
    "# trimming of waveforms which can be used after trimming\n",
    "\n",
    "for i, trim_details in enumerate(waveforms_to_trim):\n",
    "    ID = trim_details[0]\n",
    "    \n",
    "    try:\n",
    "        tr = st_acc.select(id=ID)\n",
    "        start_time = tr[0].stats.starttime + trim_details[1] \n",
    "        end_time   = tr[0].stats.starttime + trim_details[2]\n",
    "        tr.trim(start_time,end_time)\n",
    "    except:\n",
    "        pass"
   ]
  },
  {
   "cell_type": "code",
   "execution_count": null,
   "metadata": {},
   "outputs": [],
   "source": [
    "# computing and plotting the amplitude spectra of the LHZ acceleration waveforms for the selected station locations\n",
    "\n",
    "if True:\n",
    "\n",
    "    Nyquist_frequency = download['resample_freq']/2                # resample_freq is provided as input into pysep (see above)\n",
    "\n",
    "    for i, tr in enumerate(st_acc):\n",
    "\n",
    "            tr.detrend('constant')\n",
    "            tr.detrend('linear')\n",
    "            tr.taper(max_percentage=0.2, type=\"cosine\")\n",
    "\n",
    "            fft_amp, fft_phase, fft_freq = wf_fft(tr.data, Nyquist_frequency)\n",
    "\n",
    "            plt.figure()\n",
    "            plt.plot(fft_freq*1E3,fft_amp)\n",
    "            plt.xlim(0.2,1)\n",
    "            #plt.ylim(0,40)\n",
    "            xmask = np.logical_and(fft_freq*1e3 > .2, fft_freq*1e3 < 1)\n",
    "            plt.ylim(0,np.max(fft_amp[xmask])*1.1)\n",
    "            plt.title(f'{tr.id}')\n",
    "            plt.xlabel(f'Frequency (mHz)')\n",
    "            plt.ylabel(f'Amplitude (ms^-2 s)')\n",
    "            plt.show()        "
   ]
  },
  {
   "cell_type": "code",
   "execution_count": null,
   "metadata": {},
   "outputs": [],
   "source": []
  }
 ],
 "metadata": {
  "kernelspec": {
   "display_name": "seismo [conda env:.local-seismo]",
   "language": "python",
   "name": "conda-env-.local-seismo-py"
  },
  "language_info": {
   "codemirror_mode": {
    "name": "ipython",
    "version": 3
   },
   "file_extension": ".py",
   "mimetype": "text/x-python",
   "name": "python",
   "nbconvert_exporter": "python",
   "pygments_lexer": "ipython3",
   "version": "3.11.0"
  }
 },
 "nbformat": 4,
 "nbformat_minor": 4
}
