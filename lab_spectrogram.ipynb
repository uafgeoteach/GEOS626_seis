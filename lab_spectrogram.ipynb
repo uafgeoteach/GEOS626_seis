{
 "cells": [
  {
   "cell_type": "markdown",
   "metadata": {
    "pycharm": {
     "name": "#%% md\n"
    }
   },
   "source": [
    "# Applied Seismology, GEOS 626, University of Alaska Fairbanks\n",
    "\n",
    "- template script for plotting the spectrogram for a selected seismogram <br/>"
   ]
  },
  {
   "cell_type": "markdown",
   "metadata": {
    "pycharm": {
     "name": "#%% md\n"
    }
   },
   "source": [
    "- details regarding the spectrogram plotter are\n",
    "[here](https://matplotlib.org/stable/api/_as_gen/matplotlib.pyplot.specgram.html)"
   ]
  },
  {
   "cell_type": "code",
   "execution_count": null,
   "metadata": {
    "collapsed": false,
    "jupyter": {
     "outputs_hidden": false
    },
    "pycharm": {
     "name": "#%%\n"
    }
   },
   "outputs": [],
   "source": [
    "%matplotlib widget\n",
    "\n",
    "import matplotlib.pyplot as plt\n",
    "import numpy as np\n",
    "import warnings\n",
    "\n",
    "from obspy import read\n",
    "\n",
    "from lib_seis import station_map_and_table"
   ]
  },
  {
   "cell_type": "code",
   "execution_count": null,
   "metadata": {
    "collapsed": false,
    "jupyter": {
     "outputs_hidden": false
    },
    "pycharm": {
     "name": "#%%\n"
    }
   },
   "outputs": [],
   "source": [
    "# script settings\n",
    "\n",
    "warnings.filterwarnings(\"ignore\")\n",
    "plt.rcParams['figure.figsize'] = 9, 6"
   ]
  },
  {
   "cell_type": "markdown",
   "metadata": {
    "pycharm": {
     "name": "#%% md\n"
    }
   },
   "source": [
    "In the subsequent code cell, select the *example_index* from the following list for the example you want to\n",
    "view seismograms and spectrograms for -\n",
    "\n",
    "    1   - Yahtse glacier calving event\n",
    "    2   - Mw 7.5 earthquake in southeastern Alaska\n",
    "    3   - explosion in Fairbanks\n",
    "    4   - very low frequency (VLF) event near Kantishna\n",
    "    5   - landslide near Lituya Bay\n",
    "    6   - Mw 8.6 Indian Ocean (offshore Sumatra) recorded in Alaska, plus triggered earthquakes\n",
    "    6.1 - triggered earthquake (Andreanof)\n",
    "    6.2 - triggered earthquake (Nenana crustal)\n",
    "    6.3 - triggered earthquake (Iliamna intraslab)\n",
    "    7   - your own example\n",
    "\n",
    "Also select a network, station, location and channel code to pick a particular seismogram.\n",
    "\n",
    ">__NOTE:__ The notebook requires that the user has already run lab_record_section.ipynb and downloaded the\n",
    "> necessary data corresponding to each example."
   ]
  },
  {
   "cell_type": "code",
   "execution_count": null,
   "metadata": {
    "collapsed": false,
    "jupyter": {
     "outputs_hidden": false
    },
    "pycharm": {
     "name": "#%%\n"
    }
   },
   "outputs": [],
   "source": [
    "example_index = 1                                                                # select example\n",
    "\n",
    "# by default, this will load ALL saved files for your example\n",
    "# alternatively, you can either specify a specific subset here -- or use ipick (see below)\n",
    "network  = '*'                                                                   # select network\n",
    "station  = '*'                                                                   # select station\n",
    "location = '*'                                                                   # select location\n",
    "channel  = '*'                                                                   # select channel"
   ]
  },
  {
   "cell_type": "code",
   "execution_count": null,
   "metadata": {},
   "outputs": [],
   "source": [
    "# load sac files and list them\n",
    "\n",
    "data_dir = f'datawf/Example_{example_index}'\n",
    "sac_file = f'./{data_dir}/Example_{example_index}.{network}.{station}.{location}.{channel}.sac'\n",
    "\n",
    "st = read(sac_file, 'SAC')"
   ]
  },
  {
   "cell_type": "code",
   "execution_count": null,
   "metadata": {},
   "outputs": [],
   "source": [
    "# plotting and listing station information corresponding to retained waveforms\n",
    "\n",
    "evlo = st[0].stats.sac.evlo\n",
    "evla = st[0].stats.sac.evla\n",
    "station_map_and_table(st, st_subset_list=[], event_lat=evla, event_lon=evlo)\n",
    "#plot_event_station(elat,elon,w=[],slat=[],slon=[],stas=[])"
   ]
  },
  {
   "cell_type": "code",
   "execution_count": null,
   "metadata": {},
   "outputs": [],
   "source": [
    "# pick an index\n",
    "\n",
    "ipick = 0"
   ]
  },
  {
   "cell_type": "code",
   "execution_count": null,
   "metadata": {
    "collapsed": false,
    "jupyter": {
     "outputs_hidden": false
    },
    "pycharm": {
     "name": "#%%\n"
    }
   },
   "outputs": [],
   "source": [
    "t                  = st[ipick].times()\n",
    "data               = st[ipick].data\n",
    "sampling_frequency = st[ipick].stats.sampling_rate\n",
    "\n",
    "fig, (ax1, ax2) = plt.subplots(2, 1, sharex=True, figsize=(8,6))\n",
    "ax1.plot(t, data, 'k', linewidth=0.5)\n",
    "\n",
    "image = ax2.specgram(st[ipick], Fs=sampling_frequency, noverlap=int(0.8*256), cmap=\"jet\")\n",
    "ax2.set_xlabel('Time - Seconds')\n",
    "ax2.set_ylabel('Frequency (Hz)')\n",
    "\n",
    "ax3 = fig.add_axes([0.9, 0.1, 0.03, 0.37])\n",
    "plt.colorbar(mappable=image[3], cax=ax3)\n",
    "plt.ylabel('Relative Amplitude (dB)')\n",
    "plt.show()\n",
    "\n",
    "title    = f'{st[ipick].stats.network}.{st[ipick].stats.station}.{st[ipick].stats.location}.{st[ipick].stats.channel} ' \\\n",
    "           f'− starting {st[ipick].stats[\"starttime\"]}'\n",
    "fig.suptitle(title)\n",
    "\n",
    "# note: the time axis of the spectrogram may not correspond to the time axis of the record sections\n",
    "# this is because the spectrogram plotter assigns a default value of time = 0 to the first sample of the input\n",
    "# data\n",
    "\n",
    "if example_index == 1:\n",
    "    fig.canvas.draw()\n",
    "    labels = np.arange(-40,100,20)\n",
    "    ax2.set_xticklabels(labels)\n"
   ]
  }
 ],
 "metadata": {
  "kernelspec": {
   "display_name": "seismo [conda env:.local-seismo]",
   "language": "python",
   "name": "conda-env-.local-seismo-py"
  },
  "language_info": {
   "codemirror_mode": {
    "name": "ipython",
    "version": 3
   },
   "file_extension": ".py",
   "mimetype": "text/x-python",
   "name": "python",
   "nbconvert_exporter": "python",
   "pygments_lexer": "ipython3",
   "version": "3.11.3"
  }
 },
 "nbformat": 4,
 "nbformat_minor": 4
}
