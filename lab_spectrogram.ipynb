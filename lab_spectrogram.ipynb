{
 "cells": [
  {
   "cell_type": "markdown",
   "metadata": {
    "pycharm": {
     "name": "#%% md\n"
    }
   },
   "source": [
    "# Applied Seismology, GEOS 626, University of Alaska Fairbanks\n",
    "\n",
    "- template script for plotting the spectrogram for a selected seismogram <br/>"
   ]
  },
  {
   "cell_type": "markdown",
   "metadata": {
    "pycharm": {
     "name": "#%% md\n"
    }
   },
   "source": [
    "- details regarding the spectrogram plotter are\n",
    "[here](https://matplotlib.org/stable/api/_as_gen/matplotlib.pyplot.specgram.html)"
   ]
  },
  {
   "cell_type": "code",
   "execution_count": null,
   "metadata": {
    "collapsed": false,
    "jupyter": {
     "outputs_hidden": false
    },
    "pycharm": {
     "name": "#%%\n"
    }
   },
   "outputs": [],
   "source": [
    "%matplotlib widget\n",
    "\n",
    "import matplotlib.pyplot as plt\n",
    "import matplotlib.image as img\n",
    "import numpy as np\n",
    "import os\n",
    "import sys\n",
    "import warnings\n",
    "\n",
    "from obspy import read\n",
    "from lib_seis import station_map_and_table"
   ]
  },
  {
   "cell_type": "code",
   "execution_count": null,
   "metadata": {
    "collapsed": false,
    "jupyter": {
     "outputs_hidden": false
    },
    "pycharm": {
     "name": "#%%\n"
    }
   },
   "outputs": [],
   "source": [
    "# script settings\n",
    "\n",
    "warnings.filterwarnings(\"ignore\")\n",
    "plt.rcParams['figure.figsize'] = 9, 6"
   ]
  },
  {
   "cell_type": "markdown",
   "metadata": {
    "pycharm": {
     "name": "#%% md\n"
    }
   },
   "source": [
    "In the subsequent code cell, select the *example_index* from the following list for the example you want to\n",
    "view seismograms and spectrograms for -\n",
    "\n",
    "    1   - Yahtse glacier calving event\n",
    "    2   - Mw 7.5 earthquake in southeastern Alaska\n",
    "    3   - explosion in Fairbanks\n",
    "    4   - very low frequency (VLF) event near Kantishna\n",
    "    5   - landslide near Lituya Bay\n",
    "    6   - Mw 8.6 Indian Ocean (offshore Sumatra) recorded in Alaska, plus triggered earthquakes\n",
    "    6.1 - triggered earthquake (Andreanof)\n",
    "    6.2 - triggered earthquake (Nenana crustal)\n",
    "    6.3 - triggered earthquake (Iliamna intraslab)\n",
    "    7   - your own example\n",
    "\n",
    ">__NOTE:__ The notebook requires that the user has already run lab_record_section.ipynb and downloaded the\n",
    "> necessary data corresponding to each example."
   ]
  },
  {
   "cell_type": "code",
   "execution_count": null,
   "metadata": {
    "collapsed": false,
    "jupyter": {
     "outputs_hidden": false
    },
    "pycharm": {
     "name": "#%%\n"
    }
   },
   "outputs": [],
   "source": [
    "example_index = 1                                                                # select example"
   ]
  },
  {
   "cell_type": "code",
   "execution_count": null,
   "outputs": [],
   "source": [
    "# plot source station map for the selected example\n",
    "\n",
    "print('\\nplotting source station map ....\\n')\n",
    "plt.figure()\n",
    "data_dir = f'datawf/Example_{example_index}'\n",
    "source_station_map = img.imread(f'{data_dir}/station_map.png')\n",
    "plt.imshow(source_station_map)\n",
    "plt.show()"
   ],
   "metadata": {
    "collapsed": false,
    "pycharm": {
     "name": "#%%\n"
    }
   }
  },
  {
   "cell_type": "code",
   "source": [
    "# station distances and azimuth table\n",
    "\n",
    "event_path = f'{data_dir}/event.xml'\n",
    "inv_path = f'{data_dir}/inv.xml'\n",
    "station_map_and_table(event_path, inv_path, print_map=False)"
   ],
   "metadata": {
    "collapsed": false,
    "pycharm": {
     "name": "#%%\n"
    }
   },
   "execution_count": null,
   "outputs": []
  },
  {
   "cell_type": "markdown",
   "source": [
    "Examine the map and table and select a network, station, location and channel code to pick a particular\n",
    "seismogram."
   ],
   "metadata": {
    "collapsed": false,
    "pycharm": {
     "name": "#%% md\n"
    }
   }
  },
  {
   "cell_type": "code",
   "execution_count": null,
   "outputs": [],
   "source": [
    "# by default, this will load ALL saved files for your example\n",
    "# alternatively, you can either specify a specific subset here -- or use ipick (see below)\n",
    "network  = 'XF'                                                                  # select network\n",
    "station  = 'BOOM'                                                                # select station\n",
    "location = ''                                                                    # select location\n",
    "channel  = 'HHZ'                                                                 # select channel"
   ],
   "metadata": {
    "collapsed": false,
    "pycharm": {
     "name": "#%%\n"
    }
   }
  },
  {
   "cell_type": "code",
   "execution_count": null,
   "metadata": {
    "pycharm": {
     "name": "#%%\n"
    }
   },
   "outputs": [],
   "source": [
    "# load sac files and list them\n",
    "sac_file = f'Example_{example_index}.{network}.{station}.{location}.{channel}.sac'\n",
    "\n",
    "if not os.path.exists(f'{data_dir}/{sac_file}'):\n",
    "    sys.exit(f'check the network, station, location and channel inputs; sac file {sac_file} does not exist.')\n",
    "else:\n",
    "    st = read(f'{data_dir}/{sac_file}', 'SAC')\n",
    "\n",
    "tr = st[0]\n",
    "\n",
    "t                  = tr.times()\n",
    "data               = tr.data\n",
    "sampling_frequency = tr.stats.sampling_rate\n",
    "\n",
    "fig, (ax1, ax2) = plt.subplots(2, 1, sharex=True, figsize=(8,6))\n",
    "ax1.plot(t, data, 'k', linewidth=0.5)\n",
    "\n",
    "image = ax2.specgram(tr, Fs=sampling_frequency, noverlap=int(0.8*256), cmap=\"jet\")\n",
    "ax2.set_xlabel('Time - Seconds')\n",
    "ax2.set_ylabel('Frequency (Hz)')\n",
    "\n",
    "ax3 = fig.add_axes([0.9, 0.1, 0.03, 0.37])\n",
    "plt.colorbar(mappable=image[3], cax=ax3)\n",
    "plt.ylabel('Relative Amplitude (dB)')\n",
    "\n",
    "fig.suptitle(f'{tr.id} − starting {tr.stats[\"starttime\"]}')\n",
    "plt.show()\n",
    "\n",
    "# note: the time axis of the spectrogram may not correspond to the time axis of the record sections\n",
    "# this is because the spectrogram plotter assigns a default value of time = 0 to the first sample of the input\n",
    "# data\n",
    "\n",
    "if example_index == 1:\n",
    "    fig.canvas.draw()\n",
    "    labels = np.arange(-40,100,20)\n",
    "    ax2.set_xticklabels(labels)"
   ]
  }
 ],
 "metadata": {
  "kernelspec": {
   "name": "pycharm-1000d7c",
   "language": "python",
   "display_name": "PyCharm (GEOS626_seis)"
  },
  "language_info": {
   "codemirror_mode": {
    "name": "ipython",
    "version": 3
   },
   "file_extension": ".py",
   "mimetype": "text/x-python",
   "name": "python",
   "nbconvert_exporter": "python",
   "pygments_lexer": "ipython3",
   "version": "3.11.3"
  }
 },
 "nbformat": 4,
 "nbformat_minor": 4
}