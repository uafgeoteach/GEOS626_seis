{
 "cells": [
  {
   "cell_type": "markdown",
   "source": [
    "# Applied Seismology, GEOS 626, University of Alaska Fairbanks"
   ],
   "metadata": {
    "collapsed": false
   }
  },
  {
   "cell_type": "code",
   "execution_count": null,
   "metadata": {},
   "outputs": [],
   "source": [
    "%matplotlib inline\n",
    "\n",
    "from matplotlib.colors import ListedColormap as LCm\n",
    "import matplotlib.pyplot as plt\n",
    "import numpy as np\n",
    "import warnings\n",
    "\n",
    "from lib_geos import gridvec\n",
    "from lib_seis import Bkspline"
   ]
  },
  {
   "cell_type": "code",
   "execution_count": null,
   "outputs": [],
   "source": [
    "# script settings\n",
    "\n",
    "warnings.filterwarnings('ignore')\n",
    "plt.rcParams['figure.figsize'] = 6, 6"
   ],
   "metadata": {
    "collapsed": false,
    "pycharm": {
     "name": "#%%\n"
    }
   }
  },
  {
   "cell_type": "code",
   "execution_count": null,
   "metadata": {},
   "outputs": [],
   "source": [
    "# Load files needed for G\n",
    "\n",
    "# sources\n",
    "slon, slat, sind = np.loadtxt('./data/events_lonlat.dat',unpack=True,skiprows=1)\n",
    "nsrc = len(slat)\n",
    "\n",
    "# receivers\n",
    "rlon, rlat, rind = np.loadtxt('./data/recs_lonlat.dat',unpack=True,skiprows=1)\n",
    "nrec = len(rlat)\n",
    "\n",
    "# spline centers\n",
    "q = 8\n",
    "qlon, qlat = np.loadtxt('./data/con_lonlat_q08.dat',unpack=True)\n",
    "nspline = len(qlat)"
   ]
  },
  {
   "cell_type": "code",
   "execution_count": null,
   "metadata": {},
   "outputs": [],
   "source": [
    "# lon-lat gridpoints for plotting\n",
    "\n",
    "ax1 = [-121, -114, 31, 37]        # lon-lat plotting dimensions\n",
    "\n",
    "numx = 100\n",
    "lonplot, latplot, numy, X, Y = gridvec(ax1[0],ax1[1],numx,ax1[2],ax1[3])\n",
    "nplot = len(lonplot)"
   ]
  },
  {
   "cell_type": "code",
   "execution_count": null,
   "metadata": {},
   "outputs": [],
   "source": [
    "# Compute design matrix for expanding a function in terms of splines;\n",
    "# this is needed to view the tomographic models that we generate at the end.\n",
    "\n",
    "B = np.zeros((nplot,nspline))\n",
    "\n",
    "for ii in range(nspline):\n",
    "    ff = Bkspline(qlon[ii],qlat[ii],q,lonplot,latplot)\n",
    "    B[:,ii] = ff.flatten()"
   ]
  },
  {
   "cell_type": "code",
   "execution_count": null,
   "metadata": {},
   "outputs": [],
   "source": [
    "# choose an example spline for plotting\n",
    "ispl = 96\n",
    "mex = np.zeros((nspline,1))\n",
    "mex[ispl-1] = 1\n",
    "cex = B@mex          # dimension nplot x 1\n",
    "#cex = B[:,ispl-1]   # or just grab the ispl column of B\n",
    "\n",
    "Cex = np.reshape(cex,(numy,numx))\n",
    "print('cex :',cex.shape)\n",
    "print('Cex :',Cex.shape)\n",
    "print('numx = ',numx,', numy = ',numy)"
   ]
  },
  {
   "cell_type": "code",
   "execution_count": null,
   "metadata": {},
   "outputs": [],
   "source": [
    "# plotting example 1: no reshaping needed\n",
    "plt.figure\n",
    "plt.scatter(lonplot.flatten(),latplot.flatten(),s=4,c=cex)\n",
    "plt.show()"
   ]
  },
  {
   "cell_type": "code",
   "execution_count": null,
   "metadata": {},
   "outputs": [],
   "source": [
    "# plotting example 2 (preferred): reshaping needed\n",
    "plt.figure()\n",
    "plt.pcolor(X,Y,Cex,shading='nearest')\n",
    "plt.show()"
   ]
  },
  {
   "cell_type": "code",
   "execution_count": null,
   "metadata": {},
   "outputs": [],
   "source": [
    "# INVERSE PROBLEM\n"
   ]
  },
  {
   "cell_type": "code",
   "execution_count": null,
   "metadata": {},
   "outputs": [],
   "source": [
    "# PLOTTING THE SOLUTION(S)\n",
    "\n",
    "# values from GMT 'seis' color palette \n",
    "\n",
    "seis = np.array([[170,0,0],\n",
    "                 [206,0,0],\n",
    "                 [243,0,0],\n",
    "                 [255,24,0],\n",
    "                 [255,60,0],\n",
    "                 [255,97,0],\n",
    "                 [255,133,0],\n",
    "                 [255,170,0],\n",
    "                 [255,206,0],\n",
    "                 [255,243,0],\n",
    "                 [255,255,0],\n",
    "                 [255,255,0],\n",
    "                 [231,255,4],\n",
    "                 [161,255,17],\n",
    "                 [90,255,30],\n",
    "                 [51,249,64],\n",
    "                 [13,242,99],\n",
    "                 [0,194,152],\n",
    "                 [0,125,214],\n",
    "                 [0,68,248],\n",
    "                 [0,34,226]])/255\n",
    "\n",
    "# Make a new cmap\n",
    "seis_cmap = LCm(seis)"
   ]
  },
  {
   "cell_type": "code",
   "execution_count": null,
   "metadata": {},
   "outputs": [],
   "source": [
    "# same plot but shown using the new color palette\n",
    "plt.figure()\n",
    "plt.pcolor(X,Y,Cex,shading='nearest',cmap=seis_cmap,vmin=-1,vmax=1)\n",
    "plt.show()"
   ]
  }
 ],
 "metadata": {
  "kernelspec": {
   "name": "python3",
   "language": "python",
   "display_name": "Python 3 (ipykernel)"
  },
  "language_info": {
   "codemirror_mode": {
    "name": "ipython",
    "version": 3
   },
   "file_extension": ".py",
   "mimetype": "text/x-python",
   "name": "python",
   "nbconvert_exporter": "python",
   "pygments_lexer": "ipython3",
   "version": "3.11.0"
  }
 },
 "nbformat": 4,
 "nbformat_minor": 4
}