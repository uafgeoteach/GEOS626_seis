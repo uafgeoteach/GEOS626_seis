{
 "cells": [
  {
   "cell_type": "code",
   "execution_count": null,
   "metadata": {},
   "outputs": [],
   "source": [
    "%matplotlib inline  \n",
    "#%matplotlib notebook -- allows for user to rotate the sphere (with ipython)ib notebook\n",
    "\n",
    "import math as m\n",
    "import matplotlib.pyplot as plt\n",
    "import numpy as np\n",
    "\n",
    "from numpy import linalg as LA\n",
    "\n",
    "from lib_seis import globefun3\n",
    "\n",
    "# Python adaptation of hw_mt_carl.m written by Carl Tape for Applied Seismology\n",
    "# Python coding done by Nealey Sims\n",
    "# calls globefun3.py"
   ]
  },
  {
   "cell_type": "code",
   "execution_count": null,
   "metadata": {},
   "outputs": [],
   "source": [
    "# define functions needed for homework\n",
    "def myrotmat(a,b):\n",
    "    \n",
    "    c=a+b\n",
    "    \n",
    "    return c\n",
    "\n",
    "def myrotmat_gen(a,b):\n",
    "    \n",
    "    c=a+b\n",
    "    \n",
    "    return c"
   ]
  },
  {
   "cell_type": "code",
   "execution_count": null,
   "metadata": {},
   "outputs": [],
   "source": [
    "# example call to function\n",
    "test=myrotmat(2,4)\n",
    "print(\"test rotmat = \", test)"
   ]
  },
  {
   "cell_type": "code",
   "execution_count": null,
   "metadata": {},
   "outputs": [],
   "source": [
    "fig = plt.figure(figsize=plt.figaspect(1)*(2))\n",
    "ax=fig.add_subplot(111,projection='3d')\n",
    "globefun3(1,60,40,1,'r',fig,ax)\n",
    "\n",
    "# Plot showing 2 points\n",
    "fig2 = plt.figure(figsize=plt.figaspect(1)*(2))\n",
    "ax2=fig2.add_subplot(111,projection='3d')\n",
    "globefun3(1,60,40,1,'r',fig2,ax2)\n",
    "globefun3(1,30,50,1,'c',fig2,ax2)"
   ]
  },
  {
   "cell_type": "code",
   "execution_count": null,
   "metadata": {},
   "outputs": [],
   "source": [
    "# example command to normalize a matrix\n",
    "M = np.array([[1, 2, 4], [5, 3, 2], [1, 0, 1]])\n",
    "print('M = ')\n",
    "print(M)\n",
    "# reshape to vector, then take norm\n",
    "Mvec = M.reshape(9,1)    \n",
    "mnorm = LA.norm(Mvec,2)   # note: this is NOT equal to LA.norm(M,2)\n",
    "print('||M|| = ')\n",
    "print(mnorm)\n",
    "Mnorm = M / mnorm\n",
    "print('Mnorm = ')\n",
    "print(Mnorm)\n",
    "# check\n",
    "mnormcheck = LA.norm(Mnorm.reshape(9,1) ,2) \n",
    "print('check: ',mnormcheck)"
   ]
  }
 ],
 "metadata": {
  "kernelspec": {
   "display_name": "seismo",
   "language": "python",
   "name": "conda-env-.local-seismo-py"
  },
  "language_info": {
   "codemirror_mode": {
    "name": "ipython",
    "version": 3
   },
   "file_extension": ".py",
   "mimetype": "text/x-python",
   "name": "python",
   "nbconvert_exporter": "python",
   "pygments_lexer": "ipython3",
   "version": "3.8.15"
  }
 },
 "nbformat": 4,
 "nbformat_minor": 4
}
