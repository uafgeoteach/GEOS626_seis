{
 "cells": [
  {
   "cell_type": "markdown",
   "source": [
    "# Applied Seismology, GEOS 626, University of Alaska Fairbanks"
   ],
   "metadata": {
    "collapsed": false
   }
  },
  {
   "cell_type": "code",
   "execution_count": null,
   "metadata": {},
   "outputs": [],
   "source": [
    "%matplotlib widget\n",
    "\n",
    "import math as m\n",
    "import matplotlib.pyplot as plt\n",
    "import numpy as np\n",
    "import warnings\n",
    "\n",
    "from lib_seis import globefun3\n",
    "from numpy import linalg as LA\n",
    "from sympy.matrices import Matrix                                               # symbolic math package"
   ]
  },
  {
   "cell_type": "code",
   "execution_count": null,
   "outputs": [],
   "source": [
    "# script settings\n",
    "\n",
    "warnings.filterwarnings('ignore')"
   ],
   "metadata": {
    "collapsed": false,
    "pycharm": {
     "name": "#%%\n"
    }
   }
  },
  {
   "cell_type": "code",
   "execution_count": null,
   "metadata": {},
   "outputs": [],
   "source": [
    "# define functions needed for homework\n",
    "def myrotmat(a,b):\n",
    "    \n",
    "    c=a+b\n",
    "    \n",
    "    return c\n",
    "\n",
    "def myrotmat_gen(a,b):\n",
    "    \n",
    "    c=a+b\n",
    "    \n",
    "    return c"
   ]
  },
  {
   "cell_type": "code",
   "execution_count": null,
   "metadata": {},
   "outputs": [],
   "source": [
    "# example call to function\n",
    "test = myrotmat(2,4)\n",
    "print(f'test myrotmat = {test}')"
   ]
  },
  {
   "cell_type": "code",
   "execution_count": null,
   "metadata": {},
   "outputs": [],
   "source": [
    "# plot showing 1 point\n",
    "fig = plt.figure(figsize=plt.figaspect(1)*(2))\n",
    "ax = fig.add_subplot(111,projection='3d')\n",
    "globefun3(1,60,40,1,'r',fig,ax)"
   ]
  },
  {
   "cell_type": "code",
   "execution_count": null,
   "metadata": {},
   "outputs": [],
   "source": [
    "# plot showing 2 points\n",
    "fig2 = plt.figure(figsize=plt.figaspect(1)*(2))\n",
    "ax2 = fig2.add_subplot(111,projection='3d')\n",
    "globefun3(1,60,40,1,'r',fig2,ax2)\n",
    "globefun3(1,30,50,1,'c',fig2,ax2)"
   ]
  },
  {
   "cell_type": "code",
   "execution_count": null,
   "metadata": {},
   "outputs": [],
   "source": [
    "# example command to normalize a matrix\n",
    "M = np.array([[1, 2, 4], [5, 3, 2], [1, 0, 1]])\n",
    "#print(f'M = \\n {M} \\n')\n",
    "Matrix(M)"
   ]
  },
  {
   "cell_type": "code",
   "execution_count": null,
   "metadata": {},
   "outputs": [],
   "source": [
    "# reshape to vector, then take norm\n",
    "Mvec = M.reshape(9,1)    \n",
    "mnorm = LA.norm(Mvec,2)   # note: this is NOT equal to LA.norm(M,2)\n",
    "print(f'||M|| = {mnorm} \\n')\n",
    "\n",
    "Mnorm = M / mnorm\n",
    "#print(f'Mnorm = \\n {Mnorm} \\n')\n",
    "Matrix(Mnorm)"
   ]
  },
  {
   "cell_type": "code",
   "execution_count": null,
   "metadata": {},
   "outputs": [],
   "source": [
    "# check\n",
    "mnormcheck = LA.norm(Mnorm.reshape(9,1),2) \n",
    "print(f'check: {mnormcheck} \\n')"
   ]
  }
 ],
 "metadata": {
  "kernelspec": {
   "name": "python3",
   "language": "python",
   "display_name": "Python 3 (ipykernel)"
  },
  "language_info": {
   "codemirror_mode": {
    "name": "ipython",
    "version": 3
   },
   "file_extension": ".py",
   "mimetype": "text/x-python",
   "name": "python",
   "nbconvert_exporter": "python",
   "pygments_lexer": "ipython3",
   "version": "3.11.0"
  }
 },
 "nbformat": 4,
 "nbformat_minor": 4
}