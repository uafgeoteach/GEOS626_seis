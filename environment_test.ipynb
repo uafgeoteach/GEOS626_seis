{
 "cells": [
  {
   "cell_type": "markdown",
   "metadata": {
    "tags": []
   },
   "source": [
    "# Applied Seismology, GEOS 626, University of Alaska Fairbanks\n",
    "\n",
    "- script to test the conda environment for the GEOS626 course"
   ]
  },
  {
   "cell_type": "code",
   "execution_count": null,
   "metadata": {
    "tags": []
   },
   "outputs": [],
   "source": [
    "%matplotlib widget\n",
    "\n",
    "import matplotlib.pyplot as plt\n",
    "import numpy as np\n",
    "import warnings\n",
    "\n",
    "from obspy import read\n",
    "from obspy.core import UTCDateTime\n",
    "\n",
    "from pysep import Pysep\n",
    "\n",
    "from lib_seis import globefun3\n",
    "from lib_seis import markp\n",
    "from lib_seis import station_map_and_table\n",
    "from lib_seis import wf_fft"
   ]
  },
  {
   "cell_type": "code",
   "execution_count": null,
   "metadata": {
    "tags": []
   },
   "outputs": [],
   "source": [
    "# script settings\n",
    "\n",
    "warnings.filterwarnings('ignore')\n",
    "plt.rcParams['figure.figsize'] = 10, 5\n",
    "plt.rcParams['lines.linewidth'] = 1"
   ]
  },
  {
   "cell_type": "markdown",
   "metadata": {
    "tags": []
   },
   "source": [
    "### test pysep"
   ]
  },
  {
   "cell_type": "code",
   "execution_count": null,
   "metadata": {
    "tags": []
   },
   "outputs": [],
   "source": [
    "# download LHZ data\n",
    "\n",
    "download  = dict( origin_time                  = UTCDateTime('2004,12,26,00,58,53'),\n",
    "                  event_latitude               = 3.09,\n",
    "                  event_longitude              = 94.26,\n",
    "                  event_depth_km               = 30,\n",
    "                  event_magnitude              = 9.1,\n",
    "                  networks                     = 'G',\n",
    "                  stations                     = 'ATD,CAN',\n",
    "                  channels                     = 'LHZ',\n",
    "                  remove_response              = False,\n",
    "                  seconds_before_ref           = 0.5 * 24 * 60 * 60,\n",
    "                  seconds_after_ref            = 0.5 * 24 * 60 * 60,\n",
    "                  output_dir                   = 'datawf',\n",
    "                  overwrite                    = 'True',\n",
    "                  overwrite_event_tag          = 'test_environment' )\n",
    "\n",
    "ps = Pysep(**download)\n",
    "ps.run()"
   ]
  },
  {
   "cell_type": "code",
   "execution_count": null,
   "metadata": {
    "tags": []
   },
   "outputs": [],
   "source": [
    "# read downloaded data\n",
    "\n",
    "data_dir  = f'{download[\"output_dir\"]}/{download[\"overwrite_event_tag\"]}'\n",
    "sac_dir   = f'{data_dir}/SAC'\n",
    "\n",
    "st = read(f'{sac_dir}/*.sac', header=None)\n",
    "\n",
    "print('Details of downloaded waveforms - \\n')\n",
    "print(st.__str__(extended=True))\n",
    "print()"
   ]
  },
  {
   "cell_type": "code",
   "execution_count": null,
   "metadata": {
    "tags": []
   },
   "outputs": [],
   "source": [
    "# storing station information corresponding to retained waveforms\n",
    "station_map_and_table(st, event_lat=download['event_latitude'], event_lon=download['event_longitude'])"
   ]
  },
  {
   "cell_type": "code",
   "execution_count": null,
   "metadata": {},
   "outputs": [],
   "source": [
    "# plotting the seismogram\n",
    "for i, tr in enumerate(st):\n",
    "    plt.figure()\n",
    "    plt.plot(tr.data)\n",
    "    plt.title(tr.id)"
   ]
  },
  {
   "cell_type": "markdown",
   "metadata": {},
   "source": [
    "### test interactive tool - markp"
   ]
  },
  {
   "cell_type": "code",
   "execution_count": null,
   "metadata": {},
   "outputs": [],
   "source": [
    "# plotting the amplitude spectrum seismogram\n",
    "\n",
    "for i, tr in enumerate(st):\n",
    "    amp, phase, freq = wf_fft(tr, tr.stats.sampling_rate/2)\n",
    "    \n",
    "    fig = plt.figure()\n",
    "    plt.loglog(freq,amp)\n",
    "    plt.title(tr.id)\n",
    "    plt.xlabel('Frequency (Hz)')\n",
    "    plt.ylabel('Amplitude (counts s)')\n",
    "    cid = fig.canvas.mpl_connect('button_press_event', markp)                                      # displays the value 1/x for a selected point (x,y)"
   ]
  },
  {
   "cell_type": "markdown",
   "metadata": {
    "tags": []
   },
   "source": [
    "### test interactive tool - globefun3"
   ]
  },
  {
   "cell_type": "code",
   "execution_count": null,
   "metadata": {},
   "outputs": [],
   "source": [
    "fig = plt.figure(figsize=plt.figaspect(1)*(2))\n",
    "ax  = fig.add_subplot(111, projection='3d')\n",
    "\n",
    "globefun3(1,60,40,1,'r',fig,ax)"
   ]
  }
 ],
 "metadata": {
  "kernelspec": {
   "display_name": "seismo [conda env:.local-seismo]",
   "language": "python",
   "name": "conda-env-.local-seismo-py"
  },
  "language_info": {
   "codemirror_mode": {
    "name": "ipython",
    "version": 3
   },
   "file_extension": ".py",
   "mimetype": "text/x-python",
   "name": "python",
   "nbconvert_exporter": "python",
   "pygments_lexer": "ipython3",
   "version": "3.11.0"
  }
 },
 "nbformat": 4,
 "nbformat_minor": 4
}
