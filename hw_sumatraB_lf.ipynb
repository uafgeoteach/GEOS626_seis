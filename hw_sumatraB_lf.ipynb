{
 "cells": [
  {
   "cell_type": "markdown",
   "metadata": {},
   "source": [
    "# Applied Seismology, GEOS 626, University of Alaska Fairbanks\n",
    "\n",
    "- script hw_sumatraB_lf.ipynb\n",
    "- template script for analyzing direct arrival waveforms from Sumatra:\n",
    "- channel LHZ, duration up to 10.5 days"
   ]
  },
  {
   "cell_type": "code",
   "execution_count": null,
   "metadata": {},
   "outputs": [],
   "source": [
    "%matplotlib inline\n",
    "\n",
    "import matplotlib.pyplot as plt \n",
    "import numpy as np\n",
    "import os\n",
    "import warnings\n",
    "\n",
    "from obspy.core import read\n",
    "from obspy.core import UTCDateTime\n",
    "\n",
    "from pysep import Pysep\n",
    "from pysep.recsec import plotw_rs\n",
    "\n",
    "from lib_seis import station_map_and_table\n",
    "from lib_seis import sumatra_waveform_screening\n",
    "from lib_seis import wf_fft"
   ]
  },
  {
   "cell_type": "code",
   "execution_count": null,
   "metadata": {},
   "outputs": [],
   "source": [
    "warnings.filterwarnings('ignore')                  \n",
    "plt.rcParams['figure.figsize'] = 10, 5\n",
    "plt.rcParams['lines.linewidth'] = 1"
   ]
  },
  {
   "cell_type": "code",
   "execution_count": null,
   "metadata": {},
   "outputs": [],
   "source": [
    "# download LHZ data, with response removed to your chosen output_unit\n",
    "# choose your own inputs below\n",
    "\n",
    "download  = dict( client                       = 'IRIS',\n",
    "                  origin_time                  = UTCDateTime('2004,12,26,00,58,53'),\n",
    "                  event_latitude               = 3.09,\n",
    "                  event_longitude              = 94.26,\n",
    "                  event_depth_km               = 30,\n",
    "                  event_magnitude              = 9.1,\n",
    "                  networks                     = 'G,II,IU',\n",
    "                  stations                     = '*',\n",
    "                  locations                    = '*',\n",
    "                  channels                     = 'LHZ',\n",
    "                  mindistance                  = 0,\n",
    "                  maxdistance                  = 3000,\n",
    "                  remove_clipped               = True,\n",
    "                  remove_insufficient_length   = True,\n",
    "                  remove_response              = True,\n",
    "                  output_unit                  = 'VEL',\n",
    "                  detrend                      = True,\n",
    "                  demean                       = True,\n",
    "                  pre_filt                     = None,\n",
    "                  fill_data_gaps               = 0,\n",
    "                  gap_fraction                 = 0.03,\n",
    "                  resample_freq                = 1,\n",
    "                  seconds_before_ref           =  0.5 * 24 * 60 * 60,\n",
    "                  seconds_after_ref            = 10.0 * 24 * 60 * 60,\n",
    "                  taup_model                   = None,\n",
    "                  log_level                    = 'DEBUG',\n",
    "                  write_files                  = 'sac',\n",
    "                  plot_files                   = 'map',\n",
    "                  output_dir                   = 'datawf',\n",
    "                  overwrite                    = False,\n",
    "                  overwrite_event_tag          = 'sumatra_LHZ_vel')"
   ]
  },
  {
   "cell_type": "code",
   "execution_count": null,
   "metadata": {},
   "outputs": [],
   "source": [
    "# download data\n",
    "\n",
    "data_dir  = f'{download[\"output_dir\"]}/{download[\"overwrite_event_tag\"]}/SAC'\n",
    "overwrite = f'{download[\"overwrite\"]}'\n",
    "\n",
    "if (not os.path.isdir(data_dir)):\n",
    "    ps = Pysep(**download)\n",
    "    ps.run()\n",
    "elif overwrite:\n",
    "    ps = Pysep(**download)\n",
    "    ps.run()\n",
    "else:    \n",
    "    print('data directory already exists')"
   ]
  },
  {
   "cell_type": "code",
   "execution_count": null,
   "metadata": {},
   "outputs": [],
   "source": [
    "# read downloaded LHZ data\n",
    "\n",
    "st = read(f'{data_dir}/*.sac', header=None)\n",
    "\n",
    "print('Details of downloaded waveforms - \\n')\n",
    "print(st.__str__(extended=True))\n",
    "print()"
   ]
  },
  {
   "cell_type": "code",
   "execution_count": null,
   "metadata": {},
   "outputs": [],
   "source": [
    "# station map and distances table for the selected station locations\n",
    "station_map_and_table(st, event_lat=download['event_latitude'], event_lon=download['event_longitude'])"
   ]
  },
  {
   "cell_type": "code",
   "execution_count": null,
   "metadata": {},
   "outputs": [],
   "source": [
    "# plot the record section using Pyseps's record section plotting tool\n",
    "\n",
    "plot_info = dict( pysep_path                   = data_dir,\n",
    "                  sort_by                      = 'distance',\n",
    "                  scale_by                     = 'normalize',\n",
    "                  min_period_s                 = 100,\n",
    "                  max_period_s                 = 1000,\n",
    "                  preprocess                   = 'st',\n",
    "                  max_traces_per_rs            = None,\n",
    "                  distance_units               = 'deg',\n",
    "                  tmarks                       = [0],\n",
    "                  save                         = '',\n",
    "                  log_level                    = 'DEBUG')\n",
    "\n",
    "plotw_rs(**plot_info)"
   ]
  },
  {
   "cell_type": "code",
   "execution_count": null,
   "metadata": {},
   "outputs": [],
   "source": []
  }
 ],
 "metadata": {
  "kernelspec": {
   "display_name": "seismo [conda env:.local-seismo]",
   "language": "python",
   "name": "conda-env-.local-seismo-py"
  },
  "language_info": {
   "codemirror_mode": {
    "name": "ipython",
    "version": 3
   },
   "file_extension": ".py",
   "mimetype": "text/x-python",
   "name": "python",
   "nbconvert_exporter": "python",
   "pygments_lexer": "ipython3",
   "version": "3.11.0"
  }
 },
 "nbformat": 4,
 "nbformat_minor": 4
}
