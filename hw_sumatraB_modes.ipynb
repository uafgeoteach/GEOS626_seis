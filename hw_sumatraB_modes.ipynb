{
 "cells": [
  {
   "cell_type": "markdown",
   "metadata": {},
   "source": [
    "# Applied Seismology, GEOS 626, University of Alaska Fairbanks\n",
    "\n",
    "- script hw_sumatraB_modes.ipynb\n",
    "- template script for analyzing modes spectra for sumatra"
   ]
  },
  {
   "cell_type": "code",
   "execution_count": null,
   "metadata": {},
   "outputs": [],
   "source": [
    "%matplotlib inline\n",
    "\n",
    "import matplotlib.pyplot as plt\n",
    "import numpy as np\n",
    "import warnings\n",
    "\n",
    "from obspy import read\n",
    "from lib_seis import locations_and_tags\n",
    "from lib_seis import get_dist_az\n",
    "from lib_seis import station_map_and_table\n",
    "from lib_seis import sumatra_event\n",
    "from lib_seis import wf_fft\n",
    "from lib_seis import w2fstack"
   ]
  },
  {
   "cell_type": "code",
   "execution_count": null,
   "metadata": {},
   "outputs": [],
   "source": [
    "# script settings\n",
    "\n",
    "warnings.filterwarnings('ignore')\n",
    "plt.rcParams['figure.figsize'] = 10, 5\n",
    "plt.rcParams['lines.linewidth'] = 1"
   ]
  },
  {
   "cell_type": "markdown",
   "metadata": {},
   "source": [
    "### Event details\n",
    "Mw 9.1 2004 Sumatra - Andaman Islands Earthquake \\\n",
    "https://earthquake.usgs.gov/earthquakes/eventpage/official20041226005853450_30"
   ]
  },
  {
   "cell_type": "code",
   "execution_count": null,
   "metadata": {},
   "outputs": [],
   "source": [
    "# fetch and display event details\n",
    "\n",
    "event_sumatra = sumatra_event()\n",
    "\n",
    "print()\n",
    "for i, item in enumerate(event_sumatra):\n",
    "    print(f'{item} = {event_sumatra[item]}')\n",
    "print()    "
   ]
  },
  {
   "cell_type": "code",
   "execution_count": null,
   "metadata": {},
   "outputs": [],
   "source": [
    "# setting other data parameters\n",
    "\n",
    "resample_freq = 1\n",
    "data_dir      = 'datawf/sumatra_LHZ_acc'"
   ]
  },
  {
   "cell_type": "code",
   "execution_count": null,
   "metadata": {},
   "outputs": [],
   "source": [
    "# read downloaded LHZ acceleration data for selected station locations\n",
    "\n",
    "st = read(f'{data_dir}/*.sac', header=None)\n",
    "\n",
    "print('Details of downloaded waveforms - \\n')\n",
    "print(st.__str__(extended=True))\n",
    "print()"
   ]
  },
  {
   "cell_type": "code",
   "execution_count": null,
   "metadata": {},
   "outputs": [],
   "source": [
    "# station map and distances table for the selected station locations\n",
    "event_path = f'{data_dir}/event.xml'\n",
    "inv_path = f'{data_dir}/inv.xml'\n",
    "station_map_and_table(event_path, inv_path)"
   ]
  },
  {
   "cell_type": "code",
   "execution_count": null,
   "metadata": {},
   "outputs": [],
   "source": [
    "# computing and creating a list of the amplitude spectra of the seismograms for the selected station locations\n",
    "\n",
    "amps  = []\n",
    "freqs = []\n",
    "\n",
    "Nyquist_frequency = resample_freq/2\n",
    "\n",
    "for tr in st:\n",
    "    \n",
    "    tr.detrend('constant')\n",
    "    tr.detrend('linear')\n",
    "    tr.taper(max_percentage=0.2, type=\"cosine\")\n",
    "    \n",
    "    fft_amp, fft_phase, fft_freq = wf_fft(tr.data, Nyquist_frequency)\n",
    "    \n",
    "    freqs.append(fft_freq)\n",
    "    amps.append(fft_amp)"
   ]
  },
  {
   "cell_type": "code",
   "execution_count": null,
   "metadata": {},
   "outputs": [],
   "source": [
    "# example of stacking spectra\n",
    "\n",
    "f1 = 0.2 * 1E-3\n",
    "f2 = 10  * 1E-3\n",
    "n  = 100000\n",
    "\n",
    "amp_stack, freq, amplitudes = w2fstack(freqs,amps,f1,f2,n,stack='median')                                                     \n",
    "\n",
    "plt.figure()\n",
    "plt.plot(freq*1E3, amp_stack, 'b') \n",
    "plt.title('Amplitude spectra stack')\n",
    "plt.xlabel('Frequency [mHz]')\n",
    "plt.ylabel('Amplitude [ms^-2 s]')\n",
    "plt.show()"
   ]
  },
  {
   "cell_type": "code",
   "execution_count": null,
   "metadata": {},
   "outputs": [],
   "source": []
  }
 ],
 "metadata": {
  "kernelspec": {
   "name": "pycharm-1000d7c",
   "language": "python",
   "display_name": "PyCharm (GEOS626_seis)"
  },
  "language_info": {
   "codemirror_mode": {
    "name": "ipython",
    "version": 3
   },
   "file_extension": ".py",
   "mimetype": "text/x-python",
   "name": "python",
   "nbconvert_exporter": "python",
   "pygments_lexer": "ipython3",
   "version": "3.11.0"
  }
 },
 "nbformat": 4,
 "nbformat_minor": 4
}