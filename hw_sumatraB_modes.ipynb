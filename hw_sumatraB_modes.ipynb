{
 "cells": [
  {
   "cell_type": "markdown",
   "metadata": {},
   "source": [
    "# Applied Seismology, GEOS 626, University of Alaska Fairbanks\n",
    "\n",
    "- script hw_sumatraB_modes.ipynb\n",
    "- template script for analyzing modes spectra for sumatra"
   ]
  },
  {
   "cell_type": "code",
   "execution_count": null,
   "metadata": {},
   "outputs": [],
   "source": [
    "%matplotlib inline\n",
    "\n",
    "import matplotlib.pyplot as plt\n",
    "import numpy as np\n",
    "import warnings\n",
    "\n",
    "from obspy import read\n",
    "from obspy.core import UTCDateTime\n",
    "from obspy.geodetics import gps2dist_azimuth\n",
    "from obspy.geodetics import kilometers2degrees\n",
    "\n",
    "from pysep import Pysep\n",
    "\n",
    "from lib_seis import station_map_and_table\n",
    "from lib_seis import sumatra_waveform_screening\n",
    "from lib_seis import wf_fft\n",
    "from lib_seis import w2fstack"
   ]
  },
  {
   "cell_type": "code",
   "execution_count": null,
   "metadata": {},
   "outputs": [],
   "source": [
    "# script settings\n",
    "\n",
    "warnings.filterwarnings('ignore')\n",
    "plt.rcParams['figure.figsize'] = 10, 5\n",
    "plt.rcParams['lines.linewidth'] = 1"
   ]
  },
  {
   "cell_type": "markdown",
   "metadata": {},
   "source": [
    "### Event details\n",
    "Mw 9.1 2004 Sumatra - Andaman Islands Earthquake \\\n",
    "https://earthquake.usgs.gov/earthquakes/eventpage/official20041226005853450_30\n",
    "\n",
    "origin time = 2004-12-26 00:58:53 \\\n",
    "latitude    = 3.09 N \\\n",
    "longitude   = 94.26 E \\\n",
    "depth       = 30 km \\\n",
    "magnitude   = 9.1"
   ]
  },
  {
   "cell_type": "code",
   "execution_count": null,
   "metadata": {},
   "outputs": [],
   "source": [
    "# setting event and data parameters\n",
    "\n",
    "origin_time        = UTCDateTime('2004,12,26,00,58,53')\n",
    "event_latitude     = 3.09\n",
    "event_longitude    = 94.26\n",
    "event_depth_km     = 30\n",
    "event_magnitude    = 9.1\n",
    "resample_freq      = 1\n",
    "data_dir           = 'datawf/sumatra_LHZ_acc/SAC'"
   ]
  },
  {
   "cell_type": "code",
   "execution_count": null,
   "metadata": {},
   "outputs": [],
   "source": [
    "# read downloaded LHZ acceleration data for selected station locations\n",
    "\n",
    "st = read(f'{data_dir}/*.sac', header=None)\n",
    "\n",
    "print('Details of downloaded waveforms - \\n')\n",
    "print(st.__str__(extended=True))\n",
    "print()"
   ]
  },
  {
   "cell_type": "code",
   "execution_count": null,
   "metadata": {},
   "outputs": [],
   "source": [
    "# listing selected waveforms\n",
    "\n",
    "picked_waveforms = [['G' ,'CAN' ,''  ,'LHZ'],\n",
    "                    ['II','NNA' ,'00','LHZ'],\n",
    "                    ['IU','BBSR','00','LHZ'],\n",
    "                    ['II','SUR' ,'00','LHZ']]\n",
    "\n",
    "##############################################\n",
    "####### PASTE COMPLETE LIST ABOVE ############\n",
    "##############################################"
   ]
  },
  {
   "cell_type": "code",
   "execution_count": null,
   "metadata": {},
   "outputs": [],
   "source": [
    "# station map and distances table for the selected station locations\n",
    "station_map_and_table(st, st_subset_list=picked_waveforms, event_lat=event_latitude, event_lon=event_longitude)"
   ]
  },
  {
   "cell_type": "code",
   "execution_count": null,
   "metadata": {},
   "outputs": [],
   "source": [
    "# trimming of waveforms which can be used after trimming\n",
    "\n",
    "waveforms_to_reject, waveforms_to_trim = sumatra_waveform_screening(channel='LHZ')\n",
    "\n",
    "for i, trim_details in enumerate(waveforms_to_trim):\n",
    "    ID = trim_details[0]\n",
    "    \n",
    "    try:\n",
    "        tr = st.select(id=ID)\n",
    "        start_time = tr[0].stats.starttime + trim_details[1] \n",
    "        end_time   = tr[0].stats.starttime + trim_details[2]\n",
    "        tr.trim(start_time,end_time)\n",
    "    except:\n",
    "        pass"
   ]
  },
  {
   "cell_type": "code",
   "execution_count": null,
   "metadata": {},
   "outputs": [],
   "source": [
    "# computing and creating a list of the amplitude spectra of the seismograms for the selected station locations\n",
    "\n",
    "amps  = []\n",
    "freqs = []\n",
    "\n",
    "Nyquist_frequency = resample_freq/2\n",
    "\n",
    "for i, waveform_id in enumerate(picked_waveforms):\n",
    "    \n",
    "    ID = f'{waveform_id[0]}.{waveform_id[1]}.{waveform_id[2]}.{waveform_id[3]}'\n",
    "    tr = st.select(id=ID)\n",
    "\n",
    "    tr.detrend('constant')\n",
    "    tr.detrend('linear')\n",
    "    tr.taper(max_percentage=0.2, type=\"cosine\")\n",
    "    \n",
    "    fft_amp, fft_phase, fft_freq = wf_fft(tr[0].data, Nyquist_frequency)\n",
    "    \n",
    "    freqs.append(fft_freq)\n",
    "    amps.append(fft_amp)"
   ]
  },
  {
   "cell_type": "code",
   "execution_count": null,
   "metadata": {},
   "outputs": [],
   "source": [
    "# example of stacking spectra\n",
    "\n",
    "f1 = 0.2 * 1E-3\n",
    "f2 = 10  * 1E-3\n",
    "n  = 100000\n",
    "\n",
    "amp_stack, freq, amplitudes = w2fstack(freqs,amps,f1,f2,n)                                                     \n",
    "\n",
    "plt.figure()\n",
    "plt.plot(freq*1E3, amp_stack, 'b') \n",
    "plt.title('Stacked of amplitude spectra of selected waveforms')\n",
    "plt.xlabel('Frequency [mHz]')\n",
    "plt.ylabel('Amplitude ')\n",
    "plt.show()"
   ]
  },
  {
   "cell_type": "code",
   "execution_count": null,
   "metadata": {},
   "outputs": [],
   "source": []
  }
 ],
 "metadata": {
  "kernelspec": {
   "display_name": "seismo [conda env:.local-seismo]",
   "language": "python",
   "name": "conda-env-.local-seismo-py"
  },
  "language_info": {
   "codemirror_mode": {
    "name": "ipython",
    "version": 3
   },
   "file_extension": ".py",
   "mimetype": "text/x-python",
   "name": "python",
   "nbconvert_exporter": "python",
   "pygments_lexer": "ipython3",
   "version": "3.11.0"
  }
 },
 "nbformat": 4,
 "nbformat_minor": 4
}
