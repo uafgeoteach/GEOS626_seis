{
 "cells": [
  {
   "cell_type": "markdown",
   "metadata": {},
   "source": [
    "# Applied Seismology, GEOS 626, University of Alaska Fairbanks\n",
    "\n",
    "- template script for analyzing modes spectra for sumatra"
   ]
  },
  {
   "cell_type": "code",
   "execution_count": null,
   "metadata": {},
   "outputs": [],
   "source": [
    "%matplotlib inline\n",
    "\n",
    "import matplotlib.pyplot as plt\n",
    "import numpy as np\n",
    "import warnings\n",
    "\n",
    "from obspy import read\n",
    "from obspy.core import UTCDateTime\n",
    "from obspy.geodetics import gps2dist_azimuth\n",
    "from obspy.geodetics import kilometers2degrees\n",
    "\n",
    "from pysep import Pysep\n",
    "\n",
    "from lib_seis import get_dist_az\n",
    "from lib_seis import plot_event_station\n",
    "from lib_seis import station_info_list\n",
    "from lib_seis import wf_fft\n",
    "from lib_seis import w2fstack"
   ]
  },
  {
   "cell_type": "code",
   "execution_count": null,
   "metadata": {},
   "outputs": [],
   "source": [
    "# script settings\n",
    "\n",
    "warnings.filterwarnings('ignore')\n",
    "plt.rcParams['figure.figsize'] = 10, 5\n",
    "plt.rcParams['lines.linewidth'] = 1"
   ]
  },
  {
   "cell_type": "markdown",
   "metadata": {},
   "source": [
    "### Event details\n",
    "Mw 9.1 2004 Sumatra - Andaman Islands Earthquake \\\n",
    "https://earthquake.usgs.gov/earthquakes/eventpage/official20041226005853450_30\n",
    "\n",
    "origin time = 2004-12-26 00:58:53 \\\n",
    "latitude    = 3.09 N \\\n",
    "longitude   = 94.26 E \\\n",
    "depth       = 30 km \\\n",
    "magnitude   = 9.1"
   ]
  },
  {
   "cell_type": "code",
   "execution_count": null,
   "metadata": {},
   "outputs": [],
   "source": [
    "# setting event and data parameters\n",
    "\n",
    "origin_time                  = UTCDateTime('2004,12,26,00,58,53')\n",
    "event_latitude               = 3.09\n",
    "event_longitude              = 94.26\n",
    "event_depth_km               = 30\n",
    "event_magnitude              = 9.1\n",
    "resample_freq                = 1\n",
    "data_dir                     = 'datawf/sumatra_LHZ_acc/SAC'"
   ]
  },
  {
   "cell_type": "code",
   "execution_count": null,
   "metadata": {},
   "outputs": [],
   "source": [
    "# read downloaded raw LHZ data\n",
    "\n",
    "st       = read(f'{data_dir}/*.sac', header=None)\n",
    "\n",
    "print('Details of downloaded waveforms - \\n')\n",
    "print(st.__str__(extended=True))\n",
    "print()"
   ]
  },
  {
   "cell_type": "code",
   "execution_count": null,
   "metadata": {},
   "outputs": [],
   "source": [
    "# trimming details for waveforms needing it\n",
    "# ID | starttime | endtime\n",
    "\n",
    "trim_details = [['IU.QSPA.20.LHZ', 0       , 4.4800e5],\n",
    "                ['II.ABKT.00.LHZ', 0       , 6.7410e5],\n",
    "                ['G.ATD.20.LHZ'  , 0       , 2.8400e5],\n",
    "                ['IU.BILL.20.LHZ', 0       , 4.3050e5],\n",
    "                ['II.BORG.20.LHZ', 0       , 3.1700e5],\n",
    "                ['IU.CHTO.20.LHZ', 0       , 3.6270e5],\n",
    "                ['II.EFI.20.LHZ' , 0       , 2.7500e5],\n",
    "                ['IU.GUMO.20.LHZ', 0       , 1.7980e5],\n",
    "                ['IU.HRV.20.LHZ' , 0       , 4.5800e5],\n",
    "                ['IU.MIDW.20.LHZ', 0.7500e4, 9.0720e5],\n",
    "                ['II.PFO.20.LHZ' , 0       , 3.3205e5],\n",
    "                ['G.SCZ.20.LHZ'  , 0       , 1.9300e5],\n",
    "                ['G.TAM.20.LHZ'  , 0       , 5.5800e5],\n",
    "                ['IU.TIXI.20.LHZ', 0       , 6.6150e5],\n",
    "                ['G.WUS.20.LHZ'  , 0       , 5.8200e5]]"
   ]
  },
  {
   "cell_type": "code",
   "execution_count": null,
   "metadata": {},
   "outputs": [],
   "source": [
    "# listing selected waveforms\n",
    "\n",
    "picked_waveforms = [['G' ,'CAN' ,''  ,'LHZ'],\n",
    "                    ['G' ,'CAN' ,''  ,'LHZ'],\n",
    "                    ['G' ,'CAN' ,''  ,'LHZ']]\n",
    "\n",
    "##############################################\n",
    "####### PASTE COMPLETE LIST ABOVE ############\n",
    "##############################################"
   ]
  },
  {
   "cell_type": "code",
   "execution_count": null,
   "metadata": {},
   "outputs": [],
   "source": [
    "# storing station information for selected stations\n",
    "station_lats, station_lons, station_tags = station_info_list(st, picked_waveforms)"
   ]
  },
  {
   "cell_type": "code",
   "execution_count": null,
   "metadata": {},
   "outputs": [],
   "source": [
    "print('\\nSource receiver map')    \n",
    "plot_event_station(event_latitude,event_longitude,slat=station_lats,slon=station_lons,stas=station_tags)"
   ]
  },
  {
   "cell_type": "code",
   "execution_count": null,
   "metadata": {},
   "outputs": [],
   "source": [
    "print('Table of station azimuths and distances\\n')\n",
    "distance_deg, azimuth_deg, distance_km = get_dist_az(event_longitude,event_latitude,station_lons,station_lats,station_tags)#"
   ]
  },
  {
   "cell_type": "code",
   "execution_count": null,
   "metadata": {},
   "outputs": [],
   "source": [
    "# computing and plotting the discrete Fourier transforms for the selected waveforms\n",
    "\n",
    "amps  = []\n",
    "freqs = []\n",
    "\n",
    "Nyquist_frequency = resample_freq/2\n",
    "\n",
    "for i, waveform_id in enumerate(picked_waveforms):\n",
    "    \n",
    "    ID = f'{waveform_id[0]}.{waveform_id[1]}.{waveform_id[2]}.{waveform_id[3]}'\n",
    "    tr = st.select(id=ID)\n",
    "        \n",
    "    if tr[0].id in trim_details[:][0]:\n",
    "        start_time = tr[0].stats.starttime + trim_details[trim_details[:][0].index(tr[0].id)][1] \n",
    "        end_time   = tr[0].stats.starttime + trim_details[trim_details[:][0].index(tr[0].id)][2]\n",
    "        tr[0].trim(start_time,end_time)\n",
    "\n",
    "    tr.detrend('constant')\n",
    "    tr.detrend('linear')\n",
    "    tr.taper(max_percentage=0.2, type=\"cosine\")\n",
    "    fft_amp, fft_phase, fft_freq = wf_fft(tr[0].data, Nyquist_frequency)\n",
    "\n",
    "    freqs.append(fft_freq)\n",
    "    amps.append(fft_amp)"
   ]
  },
  {
   "cell_type": "code",
   "execution_count": null,
   "metadata": {},
   "outputs": [],
   "source": [
    "# plotting amplitude spectra for selected waveforms\n",
    "\n",
    "for i, waveform_id in enumerate(picked_waveforms):    \n",
    "    \n",
    "    ID = f'{waveform_id[0]}.{waveform_id[1]}.{waveform_id[2]}.{waveform_id[3]}'\n",
    "    \n",
    "    fft_freq = freqs[i]\n",
    "    fft_amp  = amps[i]\n",
    "    \n",
    "    plt.figure()\n",
    "    plt.plot(freqs[i]*1E3,amps[i])\n",
    "    plt.xlim(0.2,1)\n",
    "    #plt.ylim(0,40)\n",
    "    xmask = np.logical_and(freqs[i]*1e3 > .2, freqs[i]*1e3 < 1)\n",
    "    plt.ylim(0,np.max(amps[i][xmask])*1.1)\n",
    "    plt.title(ID)\n",
    "    plt.xlabel(f'Frequency (mHz)')\n",
    "    plt.ylabel(f'Amplitude (counts s)')\n",
    "    plt.show()"
   ]
  },
  {
   "cell_type": "code",
   "execution_count": null,
   "metadata": {},
   "outputs": [],
   "source": [
    "# example of stacking spectra\n",
    "\n",
    "f1 = 0.2 * 1E-3\n",
    "f2 = 10  * 1E-3\n",
    "n  = 100000\n",
    "\n",
    "amp_stack, freq, amplitudes = w2fstack(freqs,amps,f1,f2,n)                                                     \n",
    "\n",
    "plt.figure()\n",
    "plt.plot(freq*1E3, amp_stack, 'b') \n",
    "plt.title('Stacked of amplitude spectra of selected waveforms')\n",
    "plt.xlabel('Frequency [mHz]')\n",
    "plt.ylabel('Amplitude ')\n",
    "plt.show()"
   ]
  },
  {
   "cell_type": "code",
   "execution_count": null,
   "metadata": {},
   "outputs": [],
   "source": []
  }
 ],
 "metadata": {
  "kernelspec": {
   "display_name": "seismo [conda env:.local-seismo]",
   "language": "python",
   "name": "conda-env-.local-seismo-py"
  },
  "language_info": {
   "codemirror_mode": {
    "name": "ipython",
    "version": 3
   },
   "file_extension": ".py",
   "mimetype": "text/x-python",
   "name": "python",
   "nbconvert_exporter": "python",
   "pygments_lexer": "ipython3",
   "version": "3.11.0"
  }
 },
 "nbformat": 4,
 "nbformat_minor": 4
}
