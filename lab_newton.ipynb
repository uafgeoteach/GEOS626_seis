{
 "cells": [
  {
   "cell_type": "markdown",
   "source": [
    "# Applied Seismology, GEOS 626, University of Alaska Fairbanks\n",
    "# Inverse Problems and Parameter Estimation, GEOS 627, University of Alaska Fairbanks\n",
    "\n",
    "- iterative Newton algorithm\n",
    "- see Tarantola (2005), Eq. 6.291.\n",
    "- see lab_newton.pdf for instructions to this lab exercise."
   ],
   "metadata": {
    "collapsed": false
   }
  },
  {
   "cell_type": "code",
   "execution_count": null,
   "metadata": {},
   "outputs": [],
   "source": [
    "%matplotlib widget\n",
    "\n",
    "import matplotlib.pyplot as plt\n",
    "import numpy as np\n",
    "import numpy.linalg as la\n",
    "import warnings\n",
    "\n",
    "from scipy import optimize\n",
    "#from scipy.linalg import lstsq"
   ]
  },
  {
   "cell_type": "code",
   "execution_count": null,
   "outputs": [],
   "source": [
    "# script settings\n",
    "\n",
    "warnings.filterwarnings('ignore')\n",
    "plt.rcParams['figure.figsize'] = 8, 8\n",
    "plt.rcParams['lines.linewidth'] = 1"
   ],
   "metadata": {
    "collapsed": false,
    "pycharm": {
     "name": "#%%\n"
    }
   }
  },
  {
   "cell_type": "code",
   "execution_count": null,
   "metadata": {},
   "outputs": [],
   "source": [
    "# define a misfit function and its derivatives\n",
    "# note: our 'model vector' is one-dimensional\n",
    "\n",
    "# coefficients of polynomial function\n",
    "P = np.array([2, -1, 2, -1, 2])          # non-quadratic\n",
    "#P = np.array([0, 0, 2, -1, 2])           # quadratic\n",
    "\n",
    "#F = @(m) ( np.polyval(P,m) )\n",
    "def F(m):\n",
    "    fm = P[0]*m**4 + P[1]*m**3 + P[2]*m**2 + P[3]*m + P[4]\n",
    "    return fm\n",
    "def g(m):\n",
    "    gm = np.array(4*P[0]*m**3 + 3*P[1]*m**2 + 2*P[2]*m + P[3])\n",
    "    return gm\n",
    "def H(m):\n",
    "    Hm = np.array(12*P[0]*m**2 + 6*P[1]*m + 2*P[2])\n",
    "    return Hm"
   ]
  },
  {
   "cell_type": "code",
   "execution_count": null,
   "metadata": {
    "tags": []
   },
   "outputs": [],
   "source": [
    "#F"
   ]
  },
  {
   "cell_type": "code",
   "execution_count": null,
   "metadata": {},
   "outputs": [],
   "source": [
    "#optimize.fminbound?"
   ]
  },
  {
   "cell_type": "code",
   "execution_count": null,
   "metadata": {},
   "outputs": [],
   "source": [
    "# specify bounds for choosing initial model (and for plotting)\n",
    "mA = -2\n",
    "mB = 2\n",
    "mplot = np.array(np.linspace(mA,mB,1000))\n",
    "\n",
    "# COMPUTE MINIMUM OF MISFIT FUNCTION HERE USING BUILT-IN PYTHON FUNCTION (scipy's fminbound)\n",
    "\n",
    "\n",
    "plt.figure()\n",
    "plt.plot(mplot,F(mplot))\n",
    "# PLOT PYTHON MINIMUM HERE\n",
    "\n",
    "plt.xlabel('model m')\n",
    "plt.ylabel('misfit function, F(m)')\n",
    "plt.show()"
   ]
  },
  {
   "cell_type": "code",
   "execution_count": null,
   "metadata": {},
   "outputs": [],
   "source": [
    "# initial model\n",
    "m0 = np.array([-1.5])\n",
    "#m0 = mA + (mB-mA)*np.random.rand()"
   ]
  },
  {
   "cell_type": "code",
   "execution_count": null,
   "metadata": {
    "scrolled": true
   },
   "outputs": [],
   "source": [
    "# IMPLEMENT ITERATIVE NEWTON ALGORITHM HERE (see notes_taylor.pdf)\n"
   ]
  }
 ],
 "metadata": {
  "kernelspec": {
   "name": "python3",
   "language": "python",
   "display_name": "Python 3 (ipykernel)"
  },
  "language_info": {
   "codemirror_mode": {
    "name": "ipython",
    "version": 3
   },
   "file_extension": ".py",
   "mimetype": "text/x-python",
   "name": "python",
   "nbconvert_exporter": "python",
   "pygments_lexer": "ipython3",
   "version": "3.11.0"
  }
 },
 "nbformat": 4,
 "nbformat_minor": 4
}