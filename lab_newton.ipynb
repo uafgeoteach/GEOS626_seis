{
 "cells": [
  {
   "cell_type": "code",
   "execution_count": null,
   "metadata": {},
   "outputs": [],
   "source": [
    "import numpy as np\n",
    "import matplotlib.pyplot as plt\n",
    "from scipy import optimize\n",
    "import numpy.linalg as la\n",
    "#from scipy.linalg import lstsq\n",
    "\n",
    "# Iterative Newton algorithm\n",
    "# See Tarantola (2005), Eq. 6.291.\n",
    "# See lab_newton.pdf for instructions to this lab exercise.\n",
    "#\n",
    "# Applied Seismology, GEOS 626, University of Alaska Fairbanks\n",
    "# Inverse Problems and Parameter Estimation, GEOS 627, University of Alaska Fairbanks\n",
    "#\n",
    "# Contributors: Carl Tape, Nealey Sims*\n",
    "\n",
    "plt.rcParams['figure.figsize'] = 8, 8\n",
    "plt.rcParams['lines.linewidth'] = 1"
   ]
  },
  {
   "cell_type": "code",
   "execution_count": null,
   "metadata": {},
   "outputs": [],
   "source": [
    "# define a misfit function and its derivatives\n",
    "# note: our 'model vector' is one-dimensional\n",
    "P = np.array([2, -1, 2, -1, 2])          # non-quadratic\n",
    "#P = np.array([0, 0, 2, -1, 2])           # quadratic\n",
    "#F = @(m) ( np.polyval(P,m) )\n",
    "def F(m):\n",
    "    fm=P[0]*m**4+P[1]*m**3+P[2]*m**2+P[3]*m+P[4]\n",
    "    return fm\n",
    "def g(m):\n",
    "    gm=np.array(4*P[0]*m**3 + 3*P[1]*m**2 + 2*P[2]*m + P[3])\n",
    "    return gm\n",
    "def H(m):\n",
    "    Hm=np.array(12*P[0]*m**2 + 6*P[1]*m + 2*P[2])\n",
    "    return Hm"
   ]
  },
  {
   "cell_type": "code",
   "execution_count": null,
   "metadata": {},
   "outputs": [],
   "source": [
    "# specify bounds for choosing initial model (and for plotting)\n",
    "mA = -2\n",
    "mB = 2\n",
    "mplot = np.array(np.linspace(mA,mB,1000))\n",
    "\n",
    "# COMPUTE MINIMUM OF MISFIT FUNCTION HERE USING BUILT-IN PYTHON FUNCTION (scipy's fminbound)\n",
    "\n",
    "\n",
    "\n",
    "plt.plot(mplot,F(mplot))\n",
    "# PLOT PYTHON MINIMUM HERE\n",
    "\n",
    "plt.xlabel('model m')\n",
    "plt.ylabel('misfit function, F(m)')\n",
    "plt.show()"
   ]
  },
  {
   "cell_type": "code",
   "execution_count": null,
   "metadata": {},
   "outputs": [],
   "source": [
    "# initial model\n",
    "m0 = np.array([-1.5])\n",
    "#m0 = mA + (mB-mA)*np.random.rand()"
   ]
  },
  {
   "cell_type": "code",
   "execution_count": null,
   "metadata": {
    "scrolled": true
   },
   "outputs": [],
   "source": [
    "# IMPLEMENT ITERATIVE NEWTON ALGORITHM HERE (see notes_taylor.pdf)\n",
    "\n"
   ]
  }
 ],
 "metadata": {
  "kernelspec": {
   "display_name": "inverse",
   "language": "python",
   "name": "conda-env-inverse-py"
  },
  "language_info": {
   "codemirror_mode": {
    "name": "ipython",
    "version": 3
   },
   "file_extension": ".py",
   "mimetype": "text/x-python",
   "name": "python",
   "nbconvert_exporter": "python",
   "pygments_lexer": "ipython3",
   "version": "3.8.12"
  }
 },
 "nbformat": 4,
 "nbformat_minor": 4
}
