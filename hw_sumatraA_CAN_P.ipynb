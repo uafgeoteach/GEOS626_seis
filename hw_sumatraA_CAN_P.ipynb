{
 "cells": [
  {
   "cell_type": "code",
   "execution_count": null,
   "metadata": {},
   "outputs": [],
   "source": [
    "# adaptation of CAN_P.m by Carl Tape\n",
    "# coding by: Yongki Aiman, Tomy Gunawan, Angel Ling\n",
    "\n",
    "# analyzing the Sumatra earthquake P wave"
   ]
  },
  {
   "cell_type": "code",
   "execution_count": null,
   "metadata": {},
   "outputs": [],
   "source": [
    "%matplotlib inline\n",
    "\n",
    "import matplotlib.pyplot as plt\n",
    "import numpy as np\n",
    "import warnings\n",
    "\n",
    "from matplotlib.mlab import detrend\n",
    "from obspy.core import UTCDateTime\n",
    "from obspy.clients.fdsn import Client\n",
    "\n",
    "from lib_seis import sumatra_event\n",
    "from lib_seis import wf_fft"
   ]
  },
  {
   "cell_type": "code",
   "execution_count": null,
   "metadata": {},
   "outputs": [],
   "source": [
    "# script settings\n",
    "\n",
    "warnings.filterwarnings('ignore')\n",
    "plt.style.use('ggplot')\n",
    "plt.rcParams['figure.figsize'] = 10, 6\n",
    "plt.rcParams['lines.linewidth'] = 0.5"
   ]
  },
  {
   "cell_type": "markdown",
   "metadata": {},
   "source": [
    "### Event details\n",
    "Mw 9.1 2004 Sumatra - Andaman Islands Earthquake \\\n",
    "https://earthquake.usgs.gov/earthquakes/eventpage/official20041226005853450_30"
   ]
  },
  {
   "cell_type": "code",
   "execution_count": null,
   "metadata": {
    "tags": []
   },
   "outputs": [],
   "source": [
    "# fetch and display event details\n",
    "\n",
    "event = sumatra_event()\n",
    "\n",
    "print()\n",
    "for item in event:\n",
    "    print(f'{item} = {event[item]}')\n",
    "print()    "
   ]
  },
  {
   "cell_type": "code",
   "execution_count": null,
   "metadata": {},
   "outputs": [],
   "source": [
    "# getting waveforms (all three components)\n",
    "\n",
    "client = Client(\"IRIS\")\n",
    "\n",
    "starttime  = event['origin_time'] - ( 1 * 60 * 60 )           # 1 hour before origin time\n",
    "endtime    = event['origin_time'] + ( 3 * 60 * 60)            # 3 hours after origin time\n",
    "\n",
    "st = client.get_waveforms(\"G\", \"CAN\", \"*\", \"B*\", starttime, endtime, attach_response=True)\n",
    "print(st)"
   ]
  },
  {
   "cell_type": "code",
   "execution_count": null,
   "metadata": {},
   "outputs": [],
   "source": [
    "# plotting all three components of the seismogram\n",
    "\n",
    "can   = st.copy()\n",
    "\n",
    "can_z = can.select(component=\"Z\")\n",
    "can_n = can.select(component=\"N\")\n",
    "can_e = can.select(component=\"E\")\n",
    "\n",
    "t     = can[0].times()\n",
    "\n",
    "tr_z  = can_z[0]\n",
    "tr_n  = can_n[0]\n",
    "tr_e  = can_e[0]\n",
    "\n",
    "title_z = f'{tr_z.id} − starting {tr_z.stats[\"starttime\"]}'\n",
    "title_n = f'{tr_n.id} − starting {tr_n.stats[\"starttime\"]}'\n",
    "title_e = f'{tr_e.id} − starting {tr_e.stats[\"starttime\"]}'\n",
    "\n",
    "fig, (ax1,ax2,ax3) = plt.subplots(3,1)\n",
    "fig.set_size_inches(10,16)\n",
    "\n",
    "ax1.plot(t, tr_z.data, color='b')\n",
    "ax1.set(xlabel='seconds', ylabel='counts', title=title_z)\n",
    "\n",
    "ax2.plot(t, tr_n.data, color='b')\n",
    "ax2.set(xlabel='seconds', ylabel='counts', title=title_n)\n",
    "\n",
    "ax3.plot(t, tr_e.data, color='b')\n",
    "ax3.set(xlabel='seconds', ylabel='counts', title=title_e)\n",
    "\n",
    "fig.show()"
   ]
  },
  {
   "cell_type": "code",
   "execution_count": null,
   "metadata": {},
   "outputs": [],
   "source": [
    "# Z component only\n",
    "\n",
    "plt.plot(t, tr_z.data, color='b')\n",
    "plt.title(title_z)\n",
    "plt.xlabel('seconds')\n",
    "plt.ylabel('counts')"
   ]
  },
  {
   "cell_type": "code",
   "execution_count": null,
   "metadata": {},
   "outputs": [],
   "source": [
    "# extracting a subset time series of the Z component containing the P wave\n",
    "\n",
    "st1 = st.select(component=\"Z\").copy()\n",
    "\n",
    "t1 = starttime + 4000                # change these to 'pick' the P wave\n",
    "t2 = starttime + 6000                # change these to 'pick' the P wave\n",
    "\n",
    "st1.trim(t1,t2)\n",
    "print(st1)\n",
    "\n",
    "t  = st1[0].times()\n",
    "tr = st1[0]\n",
    "\n",
    "title = f'{tr.id} − starting {tr.stats[\"starttime\"]}'\n",
    "\n",
    "plt.plot(t, tr.data, color='b')\n",
    "plt.title(title)\n",
    "plt.xlabel('seconds')\n",
    "plt.ylabel('counts')\n",
    "plt.show()"
   ]
  },
  {
   "cell_type": "code",
   "execution_count": null,
   "metadata": {
    "tags": []
   },
   "outputs": [],
   "source": [
    "# do spectral analysis here\n",
    "\n",
    "sampling_frequency = st1[0].stats.sampling_rate\n",
    "Nyquist_frequency  = sampling_frequency / 2"
   ]
  }
 ],
 "metadata": {
  "celltoolbar": "Tags",
  "kernelspec": {
   "name": "python3",
   "language": "python",
   "display_name": "Python 3 (ipykernel)"
  },
  "language_info": {
   "codemirror_mode": {
    "name": "ipython",
    "version": 3
   },
   "file_extension": ".py",
   "mimetype": "text/x-python",
   "name": "python",
   "nbconvert_exporter": "python",
   "pygments_lexer": "ipython3",
   "version": "3.11.0"
  }
 },
 "nbformat": 4,
 "nbformat_minor": 4
}