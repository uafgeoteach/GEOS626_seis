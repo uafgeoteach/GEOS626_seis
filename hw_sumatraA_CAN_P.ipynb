{
 "cells": [
  {
   "cell_type": "code",
   "execution_count": null,
   "metadata": {},
   "outputs": [],
   "source": [
    "# adaptation of CAN_P.m by Carl Tape\n",
    "# coding by: Yongki Aiman, Tomy Gunawan, Angel Ling\n",
    "\n",
    "# analyzing the Sumatra earthquake P wave\n",
    "# custom function: wf_fft"
   ]
  },
  {
   "cell_type": "code",
   "execution_count": null,
   "metadata": {},
   "outputs": [],
   "source": [
    "%matplotlib inline\n",
    "\n",
    "import matplotlib.pyplot as plt\n",
    "import numpy as np\n",
    "import warnings\n",
    "\n",
    "from matplotlib.mlab import detrend\n",
    "from obspy.core import UTCDateTime\n",
    "from obspy.clients.fdsn import Client\n",
    "\n",
    "from lib_seis import wf_fft"
   ]
  },
  {
   "cell_type": "code",
   "execution_count": null,
   "metadata": {},
   "outputs": [],
   "source": [
    "# script settings\n",
    "\n",
    "warnings.filterwarnings('ignore')\n",
    "plt.style.use('ggplot')\n",
    "plt.rcParams['figure.figsize'] = 10, 6\n",
    "plt.rcParams['lines.linewidth'] = 0.5"
   ]
  },
  {
   "cell_type": "code",
   "execution_count": null,
   "metadata": {},
   "outputs": [],
   "source": [
    "# getting waveforms (all three components)\n",
    "\n",
    "client = Client(\"IRIS\")\n",
    "\n",
    "# 2004 Sumatra-Andaman earthquake\n",
    "origintime = UTCDateTime(\"2004-12-26T00:58:53\")\n",
    "starttime  = origintime - ( 1 * 60 * 60 )           # 1 hour before origin time\n",
    "endtime    = origintime + ( 3 * 60 * 60)            # 3 hours after origin time\n",
    "\n",
    "st = client.get_waveforms(\"G\", \"CAN\", \"*\", \"B*\", starttime, endtime, attach_response=True)\n",
    "print(st)"
   ]
  },
  {
   "cell_type": "code",
   "execution_count": null,
   "metadata": {},
   "outputs": [],
   "source": [
    "# plotting all three components of the seismogram\n",
    "\n",
    "can   = st.copy()\n",
    "\n",
    "can_e = can.select(component=\"E\")\n",
    "can_n = can.select(component=\"N\")\n",
    "can_z = can.select(component=\"Z\")\n",
    "\n",
    "t     = can[0].times()\n",
    "\n",
    "tr_e  = can_e[0].data\n",
    "tr_n  = can_n[0].data\n",
    "tr_z  = can_z[0].data\n",
    "\n",
    "title_e = f'{can_e[0].stats[\"station\"]} ({can_e[0].stats[\"channel\"]}) − starting {can_e[0].stats[\"starttime\"]}'\n",
    "title_n = f'{can_n[0].stats[\"station\"]} ({can_n[0].stats[\"channel\"]}) − starting {can_n[0].stats[\"starttime\"]}'\n",
    "title_z = f'{can_z[0].stats[\"station\"]} ({can_z[0].stats[\"channel\"]}) − starting {can_z[0].stats[\"starttime\"]}'\n",
    "\n",
    "#axx = [4500,5500]\n",
    "fig, (ax1,ax2,ax3) = plt.subplots(3,1)\n",
    "fig.set_size_inches(10,16)\n",
    "\n",
    "ax1.plot(t, tr_e, color='b')\n",
    "ax1.set(xlabel='seconds', ylabel='counts', title=title_e)\n",
    "#ax1.set_xlim(axx)\n",
    "\n",
    "ax2.plot(t, tr_n, color='b')\n",
    "ax2.set(xlabel='seconds', ylabel='counts', title=title_n)\n",
    "#ax2.set_xlim(axx)\n",
    "\n",
    "ax3.plot(t, tr_z, color='b')\n",
    "ax3.set(xlabel='seconds', ylabel='counts', title=title_z)\n",
    "#ax3.set_xlim(axx)"
   ]
  },
  {
   "cell_type": "code",
   "execution_count": null,
   "metadata": {},
   "outputs": [],
   "source": [
    "# Z component only\n",
    "\n",
    "plt.plot(t, tr_z, color='b')\n",
    "plt.title(title_z)\n",
    "plt.xlabel('seconds')\n",
    "plt.ylabel('counts')"
   ]
  },
  {
   "cell_type": "code",
   "execution_count": null,
   "metadata": {},
   "outputs": [],
   "source": [
    "# extracting a subset time series of the Z component containing the P wave\n",
    "\n",
    "st1 = st.select(component=\"Z\").copy()\n",
    "\n",
    "t1 = starttime + 4000                # change these to 'pick' the P wave\n",
    "t2 = starttime + 6000                # change these to 'pick' the P wave\n",
    "\n",
    "st1.trim(t1,t2)\n",
    "print(st1)\n",
    "\n",
    "t  = st1[0].times()\n",
    "tr = st1[0].data\n",
    "\n",
    "title = f'{st1[0].stats[\"station\"]} {st1[0].stats[\"channel\"]} − starting {st1[0].stats[\"starttime\"]}'\n",
    "\n",
    "plt.plot(t, tr, color='b')\n",
    "plt.title(title)\n",
    "plt.xlabel('seconds')\n",
    "plt.ylabel('counts')"
   ]
  },
  {
   "cell_type": "code",
   "execution_count": null,
   "metadata": {},
   "outputs": [],
   "source": [
    "# do spectral analysis here\n",
    "\n",
    "sampling_frequency = st1[0].stats.sampling_rate\n",
    "Nyquist_frequency  = sampling_frequency / 2"
   ]
  }
 ],
 "metadata": {
  "celltoolbar": "Tags",
  "kernelspec": {
   "display_name": "seismo",
   "language": "python",
   "name": "conda-env-.local-seismo-py"
  },
  "language_info": {
   "codemirror_mode": {
    "name": "ipython",
    "version": 3
   },
   "file_extension": ".py",
   "mimetype": "text/x-python",
   "name": "python",
   "nbconvert_exporter": "python",
   "pygments_lexer": "ipython3",
   "version": "3.11.0"
  }
 },
 "nbformat": 4,
 "nbformat_minor": 4
}
