{
 "cells": [
  {
   "cell_type": "code",
   "execution_count": null,
   "metadata": {},
   "outputs": [],
   "source": [
    "%matplotlib inline\n",
    "\n",
    "import glob\n",
    "import matplotlib.pylab as plt\n",
    "import numpy as np\n",
    "import os\n",
    "import struct\n",
    "import warnings\n",
    "\n",
    "from __future__ import print_function\n",
    "from matplotlib.mlab import detrend\n",
    "from obspy import *\n",
    "from obspy.core import read, UTCDateTime\n",
    "from obspy.clients.fdsn import Client\n",
    "from obspy.signal.cross_correlation import xcorr_pick_correction\n",
    "from obspy.signal.filter import lowpass\n",
    "from obspy.signal.invsim import cosine_taper \n",
    "from scipy import interpolate, signal\n",
    "from time import *\n",
    "\n",
    "from lib_seis import wf_fft\n",
    "\n",
    "warnings.filterwarnings('ignore')                  # do not show warnings\n",
    "\n",
    "plt.style.use('ggplot')\n",
    "plt.rcParams['figure.figsize'] = 10, 6\n",
    "plt.rcParams['lines.linewidth'] = 0.5\n",
    "\n",
    "# Adaptation of CAN_P.m by Carl Tape\n",
    "# Coding by: Yongki Aiman, Tomy Gunawan, Angel Ling\n",
    "# Analyzing the Sumatra P wave\n",
    "# custom functions: wf_fft"
   ]
  },
  {
   "cell_type": "code",
   "execution_count": null,
   "metadata": {},
   "outputs": [],
   "source": [
    "# get waveforms (all three components)\n",
    "client = Client(\"IRIS\")\n",
    "t = UTCDateTime(\"2004-12-26T00:52:23.900\")\n",
    "starttime = t-(1*3600)    # 1 hr before the earthquake\n",
    "endtime   = t+(3*3600)    # 3 hrs after the earthquake\n",
    "\n",
    "st = client.get_waveforms(\"G\", \"CAN\", \"*\", \"B*\", starttime, endtime, attach_response=True)\n",
    "print(st)"
   ]
  },
  {
   "cell_type": "code",
   "execution_count": null,
   "metadata": {},
   "outputs": [],
   "source": [
    "# plot all three components\n",
    "can = st.copy()\n",
    "can_e = can[0].data\n",
    "can_n = can[1].data\n",
    "can_z = can[2].data\n",
    "times = can[0].times()\n",
    "\n",
    "# FIX: do not hardcode station/channel\n",
    "title_e = 'CAN (BHE) − starting '+ str(can[0].stats['starttime'])\n",
    "title_n = 'CAN (BHN) − starting '+ str(can[0].stats['starttime'])\n",
    "title_z = 'CAN (BHZ) − starting '+ str(can[0].stats['starttime'])\n",
    "\n",
    "axx = [4500,5500]\n",
    "fig, (ax1,ax2,ax3) = plt.subplots(3,1)\n",
    "fig.set_size_inches(10,16)\n",
    "\n",
    "ax1.plot(times,can_e, color='b')\n",
    "ax1.set(xlabel='seconds',ylabel='counts',title=title_e)\n",
    "#ax1.set_xlim(axx)\n",
    "\n",
    "ax2.plot(times,can_n, color='b')\n",
    "ax2.set(xlabel='seconds',ylabel='counts',title=title_n)\n",
    "#ax2.set_xlim(axx)\n",
    "\n",
    "ax3.plot(times,can_z, color='b')\n",
    "ax3.set(xlabel='seconds',ylabel='counts',title=title_z)\n",
    "#ax3.set_xlim(axx)\n",
    "\n",
    "plt.show();"
   ]
  },
  {
   "cell_type": "code",
   "execution_count": null,
   "metadata": {},
   "outputs": [],
   "source": [
    "# Z component only\n",
    "plt.plot(times,can_z,color='b')\n",
    "plt.title(title_z)\n",
    "plt.xlabel('seconds')\n",
    "plt.ylabel('counts')\n",
    "plt.show();"
   ]
  },
  {
   "cell_type": "code",
   "execution_count": null,
   "metadata": {},
   "outputs": [],
   "source": [
    "# make a copy\n",
    "st1 = st.copy()\n",
    "\n",
    "# Extract a subset time series containing the P wave\n",
    "t1 = starttime+4000\n",
    "t2 = starttime+6000\n",
    "\n",
    "st1.trim(t1,t2)\n",
    "print(st1)\n",
    "\n",
    "# prepare to plot\n",
    "y     = st1[0].data\n",
    "times = st1[0].times()\n",
    "npts  = st1[0].stats.npts\n",
    "df    = st1[0].stats.sampling_rate\n",
    "fNy   = df / 2.0\n",
    "\n",
    "# plot\n",
    "# FIX: do not hardcode station/channel\n",
    "title = 'CAN (BHZ) − starting '+ str(st1[0].stats['starttime'])\n",
    "plt.plot(times,st1[0].data, color='b')\n",
    "plt.xlabel('seconds')\n",
    "plt.ylabel('counts')\n",
    "plt.title(title)\n",
    "plt.show()"
   ]
  },
  {
   "cell_type": "code",
   "execution_count": null,
   "metadata": {},
   "outputs": [],
   "source": [
    "# Do spectral analysis here\n",
    "\n"
   ]
  }
 ],
 "metadata": {
  "celltoolbar": "Tags",
  "kernelspec": {
   "display_name": "seismo",
   "language": "python",
   "name": "conda-env-.local-seismo-py"
  },
  "language_info": {
   "codemirror_mode": {
    "name": "ipython",
    "version": 3
   },
   "file_extension": ".py",
   "mimetype": "text/x-python",
   "name": "python",
   "nbconvert_exporter": "python",
   "pygments_lexer": "ipython3",
   "version": "3.8.15"
  }
 },
 "nbformat": 4,
 "nbformat_minor": 4
}
