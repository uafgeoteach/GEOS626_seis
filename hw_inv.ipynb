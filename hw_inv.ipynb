{
 "cells": [
  {
   "cell_type": "code",
   "execution_count": null,
   "metadata": {},
   "outputs": [],
   "source": [
    "%matplotlib widget\n",
    "\n",
    "import matplotlib.pyplot as plt\n",
    "import numpy as np\n",
    "import warnings\n",
    "\n",
    "warnings.filterwarnings('ignore')\n",
    "\n",
    "# Template for hw_inv and the function for interactive point picking\n",
    "# Coding by Amanda McPherson, 2021"
   ]
  },
  {
   "cell_type": "code",
   "execution_count": null,
   "metadata": {},
   "outputs": [],
   "source": [
    "# Write your PREM function here\n",
    "\n"
   ]
  },
  {
   "cell_type": "code",
   "execution_count": null,
   "metadata": {},
   "outputs": [],
   "source": [
    "# Write getellipse here\n",
    "\n"
   ]
  },
  {
   "cell_type": "code",
   "execution_count": null,
   "metadata": {},
   "outputs": [],
   "source": [
    "# Define a function that prints and saves chosen (x,y) points on a plot\n",
    "def upickpts(event):\n",
    "    global x, y\n",
    "    xx = event.xdata\n",
    "    yy = event.ydata\n",
    "    \n",
    "    x = np.append(x,xx)\n",
    "    y = np.append(y,yy)\n",
    "    \n",
    "    ax = event.inaxes\n",
    "    ax.plot(xx,yy,'x',ms=6)\n",
    "    plt.draw()"
   ]
  },
  {
   "cell_type": "code",
   "execution_count": null,
   "metadata": {},
   "outputs": [],
   "source": [
    "x = np.array([])\n",
    "y = np.array([])\n",
    "global x, y\n",
    "\n",
    "sd = 3\n",
    "\n",
    "fig2 = plt.figure(num=2)\n",
    "\n",
    "plt.plot(np.array([-sd, sd]), np.array([0, 0]), 'k')\n",
    "plt.plot(np.array([0, 0]), np.array([-sd, sd]), 'k')\n",
    "plt.axis([-sd, sd, -sd, sd])\n",
    "plt.grid(b=True)\n",
    "\n",
    "cid = fig2.canvas.mpl_connect('button_press_event', upickpts)\n",
    "\n",
    "print('Now we get another best-fitting ellipse centered at (0,0).')\n",
    "print('Click on your input points using the mouse.')\n",
    "print('Hit the \"power\" button after the final point is entered to exit interactive mode.')"
   ]
  },
  {
   "cell_type": "code",
   "execution_count": null,
   "metadata": {},
   "outputs": [],
   "source": [
    "%whos ndarray"
   ]
  },
  {
   "cell_type": "code",
   "execution_count": null,
   "metadata": {},
   "outputs": [],
   "source": [
    "# Use your chosen points here\n",
    "\n"
   ]
  }
 ],
 "metadata": {
  "kernelspec": {
   "display_name": "seismo",
   "language": "python",
   "name": "conda-env-seismo-py"
  },
  "language_info": {
   "codemirror_mode": {
    "name": "ipython",
    "version": 3
   },
   "file_extension": ".py",
   "mimetype": "text/x-python",
   "name": "python",
   "nbconvert_exporter": "python",
   "pygments_lexer": "ipython3",
   "version": "3.11.0"
  }
 },
 "nbformat": 4,
 "nbformat_minor": 4
}
