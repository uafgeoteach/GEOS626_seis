{
 "cells": [
  {
   "cell_type": "markdown",
   "metadata": {},
   "source": [
    "# Applied Seismology, GEOS 626, University of Alaska Fairbanks\n",
    "\n",
    "- script hw_inv.ipynb\n",
    "- run this notebook cell by cell instead of running all cells"
   ]
  },
  {
   "cell_type": "code",
   "execution_count": null,
   "metadata": {},
   "outputs": [],
   "source": [
    "%matplotlib widget\n",
    "\n",
    "import matplotlib.pyplot as plt\n",
    "import numpy as np\n",
    "import warnings"
   ]
  },
  {
   "cell_type": "code",
   "execution_count": null,
   "metadata": {},
   "outputs": [],
   "source": [
    "# script settings\n",
    "\n",
    "warnings.filterwarnings('ignore')\n",
    "plt.style.use('ggplot')\n",
    "plt.rcParams['figure.figsize'] = 8, 8\n",
    "plt.rcParams['lines.linewidth'] = 0.5"
   ]
  },
  {
   "cell_type": "code",
   "execution_count": null,
   "metadata": {},
   "outputs": [],
   "source": [
    "# function that prints and saves a chosen set of points (x,y) on a plot\n",
    "\n",
    "def pick_points(event):\n",
    "    \n",
    "    global x, y\n",
    "    \n",
    "    xx = event.xdata\n",
    "    yy = event.ydata\n",
    "    \n",
    "    ax = event.inaxes\n",
    "    ax.plot(xx,yy,'x',ms=6)\n",
    "    \n",
    "    x = np.append(x,xx)\n",
    "    y = np.append(y,yy)"
   ]
  },
  {
   "cell_type": "code",
   "execution_count": null,
   "metadata": {},
   "outputs": [],
   "source": [
    "print('\\nSelect points roughly corresponding to an ellipse centered at (0,0)')\n",
    "print('Click on the 2D space below using a mouse to pick points')\n",
    "\n",
    "x = np.array([]) \n",
    "y = np.array([])\n",
    "global x,y\n",
    "\n",
    "fig = plt.figure()\n",
    "plt.axvline(0,c='k',linestyle='--')\n",
    "plt.axhline(0,c='k',linestyle='--')\n",
    "plt.axis([-3, 3, -3, 3])\n",
    "plt.grid(b=True)\n",
    "cid = fig.canvas.mpl_connect('button_press_event', pick_points)"
   ]
  },
  {
   "cell_type": "code",
   "execution_count": null,
   "metadata": {
    "tags": []
   },
   "outputs": [],
   "source": [
    "# display the points that you picked\n",
    "\n",
    "print('picked points:\\n')\n",
    "print('   x     y')\n",
    "\n",
    "for i in range(len(x)):\n",
    "    print( '%5.2f %5.2f' %(x[i], y[i]) )"
   ]
  },
  {
   "cell_type": "code",
   "execution_count": null,
   "metadata": {
    "tags": []
   },
   "outputs": [],
   "source": [
    "# running this cell will exit the interactive mode for the previous plot\n",
    "\n",
    "plt.close()"
   ]
  },
  {
   "cell_type": "code",
   "execution_count": null,
   "metadata": {
    "tags": []
   },
   "outputs": [],
   "source": [
    "# write your function get_ellipse_points() here\n"
   ]
  }
 ],
 "metadata": {
  "kernelspec": {
   "display_name": "seismo",
   "language": "python",
   "name": "conda-env-seismo-py"
  },
  "language_info": {
   "codemirror_mode": {
    "name": "ipython",
    "version": 3
   },
   "file_extension": ".py",
   "mimetype": "text/x-python",
   "name": "python",
   "nbconvert_exporter": "python",
   "pygments_lexer": "ipython3",
   "version": "3.11.0"
  }
 },
 "nbformat": 4,
 "nbformat_minor": 4
}
