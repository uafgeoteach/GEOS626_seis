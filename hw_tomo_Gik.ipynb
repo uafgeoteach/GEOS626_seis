{
 "cells": [
  {
   "cell_type": "markdown",
   "source": [
    "# Applied Seismology, GEOS 626, University of Alaska Fairbanks\n",
    "\n",
    "- template script for computing an element of the partial derivatives matrix, Gik"
   ],
   "metadata": {
    "collapsed": false
   }
  },
  {
   "cell_type": "code",
   "execution_count": null,
   "metadata": {},
   "outputs": [],
   "source": [
    "%matplotlib inline\n",
    "\n",
    "import matplotlib.pyplot as plt\n",
    "import numpy as np\n",
    "import warnings\n",
    "\n",
    "from pyproj import Geod\n",
    "from sympy.matrices import Matrix"
   ]
  },
  {
   "cell_type": "code",
   "execution_count": null,
   "outputs": [],
   "source": [
    "# script settings\n",
    "\n",
    "warnings.filterwarnings('ignore')\n",
    "plt.rcParams['figure.figsize'] = 8, 8"
   ],
   "metadata": {
    "collapsed": false,
    "pycharm": {
     "name": "#%%\n"
    }
   }
  },
  {
   "cell_type": "code",
   "execution_count": null,
   "metadata": {},
   "outputs": [],
   "source": [
    "# Axis limits and constants\n",
    "\n",
    "ax1 = [-120.157113, -114.809623, 32., 36.364429]\n",
    "lonmin = ax1[0]\n",
    "lonmax = ax1[1]\n",
    "latmin = ax1[2]\n",
    "latmax = ax1[3]\n",
    "earthr = 6371*1e3      # earth radius, in meters\n",
    "deg = 180/np.pi\n",
    "\n",
    "# REFERENCE HOMOGENEOUS PHASE VELOCITY\n",
    "c0 = 3500      # m/s\n",
    "\n",
    "# geoid for calculating great circle path\n",
    "#geoid = Geod(ellps=\"WGS84\")\n",
    "geoid = Geod(ellps=\"sphere\")"
   ]
  },
  {
   "cell_type": "code",
   "execution_count": null,
   "metadata": {},
   "outputs": [],
   "source": [
    "# Load files needed for G\n",
    "\n",
    "# sources\n",
    "slon, slat, sind = np.loadtxt('./data/events_lonlat.dat',unpack=True,skiprows=1)\n",
    "nsrc = len(slat)\n",
    "\n",
    "# receivers\n",
    "rlon, rlat, rind = np.loadtxt('./data/recs_lonlat.dat',unpack=True,skiprows=1)\n",
    "nrec = len(rlat)\n",
    "\n",
    "# spline centers\n",
    "clon, clat = np.loadtxt('./data/con_lonlat_q08.dat',unpack=True)\n",
    "nspline = len(clat)"
   ]
  },
  {
   "cell_type": "code",
   "execution_count": null,
   "metadata": {},
   "outputs": [],
   "source": [
    "# Plot the spline centers\n",
    "\n",
    "plt.figure()\n",
    "plt.scatter(clon,clat,s=3)\n",
    "for num in range(1,nspline+1):\n",
    "    plt.text(clon[num-1],clat[num-1],num,size=8)\n",
    "\n",
    "plt.axis(ax1)\n",
    "plt.xlabel('Longitude')\n",
    "plt.ylabel('Latitude')\n",
    "plt.title('Center-points of spherical spline basis functions')\n",
    "plt.show()"
   ]
  },
  {
   "cell_type": "code",
   "execution_count": null,
   "metadata": {},
   "outputs": [],
   "source": [
    "# helper function that acts like linspace for a great-circle ray path\n",
    "# numpts is the total number of points on the ray path, including the start and end points\n",
    "# npts is the method of the geoid object\n",
    "# type geoid.npts? for details\n",
    "# example for npts(): lonlats = geoid.npts(slon, slat, rlon, rlat, 12)\n",
    "def geoid_linspace(lon_start, lat_start, lon_end, lat_end, numpts):\n",
    "    if numpts < 2:\n",
    "        raise ValueError('Not allowed!')\n",
    "    # length of the ray path, in meters \n",
    "    dist_m = geoid.inv(lon_start, lat_start, lon_end, lat_end)[2]\n",
    "    # discretized ray path, including the endpoints\n",
    "    lonlats = geoid.npts(lon_start, lat_start, lon_end, lat_end, numpts, initial_idx=-0, terminus_idx=0)\n",
    "    # restructure to np arrays\n",
    "    lons,lats = zip(*lonlats); lons = np.array(lons); lats = np.array(lats)\n",
    "    return lons, lats, dist_m"
   ]
  },
  {
   "cell_type": "code",
   "execution_count": null,
   "metadata": {
    "tags": []
   },
   "outputs": [],
   "source": [
    "# examples\n",
    "lon_start = -118\n",
    "lat_start = 33\n",
    "lon_end = -116\n",
    "lat_end = 36\n",
    "numpts = 5\n",
    "lons, lats, _dist_m = geoid_linspace(lon_start, lat_start, lon_end, lat_end, numpts)\n",
    "print(lons.shape)\n",
    "print(lats.shape)"
   ]
  },
  {
   "cell_type": "code",
   "execution_count": null,
   "metadata": {},
   "outputs": [],
   "source": [
    "# Bkspline.py requires 2D arrays as input, so we reshape them here\n",
    "lons = np.atleast_2d(lons).T\n",
    "lats = np.atleast_2d(lats).T\n",
    "print(lons.shape)\n",
    "print(lats.shape)\n",
    "print('longitude   latitude')\n",
    "Matrix(np.around(np.hstack((lons,lats)),decimals=3))"
   ]
  },
  {
   "cell_type": "code",
   "execution_count": null,
   "metadata": {},
   "outputs": [],
   "source": [
    "# comparison for different geoids (using the sphere is fine for our purposes)\n",
    "\n",
    "geoid = Geod(ellps=\"WGS84\")\n",
    "lons, lats, dist_m = geoid_linspace(lon_start, lat_start, lon_end, lat_end, numpts)\n",
    "print('distance in km (assuming WGS84):',dist_m/1000)\n",
    "print('angular distance (assuming a sphere) in degrees:',dist_m/earthr*deg)\n",
    "\n",
    "geoid = Geod(ellps=\"sphere\")\n",
    "lons, lats, dist_m = geoid_linspace(lon_start, lat_start, lon_end, lat_end, numpts)\n",
    "print('distance in km (assuming a sphere):',dist_m/1000)\n",
    "print('angular distance (assuming a sphere) in degrees:',dist_m/earthr*deg)"
   ]
  },
  {
   "cell_type": "code",
   "execution_count": null,
   "metadata": {},
   "outputs": [],
   "source": [
    "# CONSTANTS\n",
    "\n",
    "# scale of spherical spline basis function\n",
    "q = 8\n",
    "\n",
    "# number of points along each ray path, including the endpoints\n",
    "numpts = 1000"
   ]
  },
  {
   "cell_type": "code",
   "execution_count": null,
   "metadata": {},
   "outputs": [],
   "source": [
    "# WRITE CODE BELOW TO CALCULATE A SINGLE Gik VALUE\n",
    "\n",
    "\n"
   ]
  },
  {
   "cell_type": "code",
   "execution_count": null,
   "metadata": {},
   "outputs": [],
   "source": [
    "# THIS SHOWS HOW THE MEASUREMENTS (AND ROWS OF MATRIX G) ARE INDEXED\n",
    "if False:\n",
    "    print('nsrc = ',nsrc)\n",
    "    print('nrec = ',nrec)\n",
    "    print('nmeas = ',nsrc*nrec)\n",
    "    print('     i  isrc irec')\n",
    "    for isrc in range(1,nsrc+1):         # ranges 1 to nsrc\n",
    "        for irec in range(1,nrec+1):     # ranges 1 to nrec\n",
    "            # measurement index (ith row of matrix G); ranges 1 to nsrc*nrec\n",
    "            i = (isrc-1)*nrec + irec\n",
    "            print('%6i%6i%6i'% (i,isrc,irec))  "
   ]
  },
  {
   "cell_type": "code",
   "execution_count": null,
   "metadata": {
    "scrolled": true
   },
   "outputs": [],
   "source": [
    "# compute the design matrix\n",
    "\n",
    "# number of measurements (one per station or ray)\n",
    "ndata = nrec*nsrc\n",
    "\n",
    "# initialize the partial derivatives matrix\n",
    "Gik = np.zeros((ndata,nspline))\n",
    "\n",
    "# FILL THE ENTRIES OF THE PARTIAL DERIVATIVES MATRIX\n",
    "# USE THE MEASUREMENT INDEX FOR LOOPS AS A GUIDE\n",
    "\n"
   ]
  }
 ],
 "metadata": {
  "kernelspec": {
   "display_name": "seismo",
   "language": "python",
   "name": "conda-env-seismo-py"
  },
  "language_info": {
   "codemirror_mode": {
    "name": "ipython",
    "version": 3
   },
   "file_extension": ".py",
   "mimetype": "text/x-python",
   "name": "python",
   "nbconvert_exporter": "python",
   "pygments_lexer": "ipython3",
   "version": "3.11.0"
  }
 },
 "nbformat": 4,
 "nbformat_minor": 4
}