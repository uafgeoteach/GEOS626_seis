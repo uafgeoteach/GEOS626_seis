{
 "cells": [
  {
   "cell_type": "code",
   "execution_count": null,
   "metadata": {
    "tags": []
   },
   "outputs": [],
   "source": [
    "%matplotlib inline\n",
    "\n",
    "import matplotlib.pyplot as plt\n",
    "import numpy as np\n",
    "import warnings\n",
    "\n",
    "from obspy import read\n",
    "from obspy.core import UTCDateTime\n",
    "\n",
    "from pysep import Pysep\n",
    "\n",
    "from lib_seis import get_dist_az\n",
    "from lib_seis import plot_event_station\n",
    "from lib_seis import station_info_list\n",
    "from lib_seis import sumatra_waveform_screening\n",
    "from lib_seis import wf_fft"
   ]
  },
  {
   "cell_type": "code",
   "execution_count": null,
   "metadata": {
    "tags": []
   },
   "outputs": [],
   "source": [
    "# script settings\n",
    "\n",
    "warnings.filterwarnings('ignore')\n",
    "plt.rcParams['figure.figsize'] = 10, 5\n",
    "plt.rcParams['lines.linewidth'] = 1"
   ]
  },
  {
   "cell_type": "code",
   "execution_count": null,
   "metadata": {
    "tags": []
   },
   "outputs": [],
   "source": [
    "# download raw LHZ data\n",
    "\n",
    "download  = dict( client                       = 'IRIS',\n",
    "                  origin_time                  = UTCDateTime('2004,12,26,00,58,53'),\n",
    "                  event_latitude               = 3.09,\n",
    "                  event_longitude              = 94.26,\n",
    "                  event_depth_km               = 30,\n",
    "                  event_magnitude              = 9.1,\n",
    "                  networks                     = 'G,II,IU',\n",
    "                  stations                     = '*',\n",
    "                  locations                    = '*',\n",
    "                  channels                     = 'LHZ',\n",
    "                  remove_response              = False,\n",
    "                  remove_clipped               = False,\n",
    "                  remove_insufficient_length   = False,\n",
    "                  detrend                      = False,\n",
    "                  demean                       = False,\n",
    "                  pre_filt                     = None,\n",
    "                  fill_data_gaps               = 0,\n",
    "                  gap_fraction                 = 1,\n",
    "                  resample_freq                = 1,\n",
    "                  seconds_before_ref           =  0.0 * 24 * 60 * 60,\n",
    "                  seconds_after_ref            =  0.5 * 24 * 60 * 60,\n",
    "                  taup_model                   = None,\n",
    "                  log_level                    = 'CRITICAL',\n",
    "                  write_files                  = 'sac',\n",
    "                  plot_files                   = 'map',\n",
    "                  output_dir                   = 'datawf',\n",
    "                  overwrite_event_tag          = 'sumatra_testing')\n",
    "\n",
    "try:\n",
    "    ps = Pysep(**download)\n",
    "    ps.run()\n",
    "except :\n",
    "    print('data directory already exists')"
   ]
  }
 ],
 "metadata": {
  "kernelspec": {
   "display_name": "seismo",
   "language": "python",
   "name": "conda-env-.local-seismo-py"
  },
  "language_info": {
   "codemirror_mode": {
    "name": "ipython",
    "version": 3
   },
   "file_extension": ".py",
   "mimetype": "text/x-python",
   "name": "python",
   "nbconvert_exporter": "python",
   "pygments_lexer": "ipython3",
   "version": "3.11.0"
  }
 },
 "nbformat": 4,
 "nbformat_minor": 4
}
