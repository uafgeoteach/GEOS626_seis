{
 "cells": [
  {
   "cell_type": "code",
   "execution_count": null,
   "metadata": {
    "tags": []
   },
   "outputs": [],
   "source": [
    "%matplotlib inline\n",
    "\n",
    "import matplotlib.pyplot as plt\n",
    "import numpy as np\n",
    "import warnings\n",
    "\n",
    "from obspy import read\n",
    "from obspy.core import UTCDateTime\n",
    "\n",
    "from pysep import Pysep\n",
    "\n",
    "from lib_seis import station_map_and_table\n",
    "from lib_seis import sumatra_waveform_screening\n",
    "from lib_seis import wf_fft"
   ]
  },
  {
   "cell_type": "code",
   "execution_count": null,
   "metadata": {
    "tags": []
   },
   "outputs": [],
   "source": [
    "# script settings\n",
    "\n",
    "warnings.filterwarnings('ignore')\n",
    "plt.rcParams['figure.figsize'] = 10, 5\n",
    "plt.rcParams['lines.linewidth'] = 1"
   ]
  },
  {
   "cell_type": "code",
   "execution_count": null,
   "metadata": {
    "tags": []
   },
   "outputs": [],
   "source": [
    "# download raw LHZ data\n",
    "\n",
    "download  = dict( client                       = 'IRIS',\n",
    "                  origin_time                  = UTCDateTime('2004,12,26,00,58,53'),\n",
    "                  event_latitude               = 3.09,\n",
    "                  event_longitude              = 94.26,\n",
    "                  event_depth_km               = 30,\n",
    "                  event_magnitude              = 9.1,\n",
    "                  networks                     = 'G,II,IU',\n",
    "                  stations                     = 'ALE,QSPA,NNA,BBSR,SUR,PAYG',\n",
    "                  locations                    = '00',\n",
    "                  channels                     = 'LHZ',\n",
    "                  remove_response              = False,\n",
    "                  remove_clipped               = False,\n",
    "                  remove_insufficient_length   = False,\n",
    "                  detrend                      = False,\n",
    "                  demean                       = False,\n",
    "                  pre_filt                     = None,\n",
    "                  fill_data_gaps               = 0,\n",
    "                  gap_fraction                 = 1,\n",
    "                  resample_freq                = 1,\n",
    "                  seconds_before_ref           =  0.5 * 24 * 60 * 60,\n",
    "                  seconds_after_ref            = 10.0 * 24 * 60 * 60,\n",
    "                  taup_model                   = None,\n",
    "                  log_level                    = 'DEBUG',\n",
    "                  write_files                  = 'sac',\n",
    "                  plot_files                   = 'map',\n",
    "                  output_dir                   = 'datawf',\n",
    "                  overwrite_event_tag          = 'sumatra_testing_raw')\n",
    "\n",
    "try:\n",
    "    ps = Pysep(**download)\n",
    "    ps.run()\n",
    "except :\n",
    "    print('data directory already exists')"
   ]
  },
  {
   "cell_type": "code",
   "execution_count": null,
   "metadata": {
    "tags": []
   },
   "outputs": [],
   "source": [
    "# download LHZ data with instrument response removed\n",
    "\n",
    "download  = dict( client                       = 'IRIS',\n",
    "                  origin_time                  = UTCDateTime(\"2004,12,26,00,58,53\"),\n",
    "                  event_latitude               = 3.09,\n",
    "                  event_longitude              = 94.26,\n",
    "                  event_depth_km               = 30,\n",
    "                  event_magnitude              = 9.1,\n",
    "                  networks                     = 'G,II,IU',\n",
    "                  stations                     = 'ALE,QSPA,NNA,BBSR,SUR,PAYG',\n",
    "                  locations                    = '00',\n",
    "                  channels                     = 'LHZ',\n",
    "                  remove_response              = True,\n",
    "                  output_unit                  = 'ACC',\n",
    "                  water_level                  = None,\n",
    "                  remove_clipped               = True,\n",
    "                  remove_insufficient_length   = True,\n",
    "                  detrend                      = True,\n",
    "                  demean                       = True,\n",
    "                  pre_filt                     = None,\n",
    "                  fill_data_gaps               = 0,\n",
    "                  gap_fraction                 = 0.03,\n",
    "                  resample_freq                = 1,\n",
    "                  seconds_before_ref           =  0.5 * 24 * 60 * 60,\n",
    "                  seconds_after_ref            = 10.0 * 24 * 60 * 60,\n",
    "                  taup_model                   = None,\n",
    "                  log_level                    = 'DEBUG',\n",
    "                  write_files                  = 'sac',\n",
    "                  plot_files                   = 'map',\n",
    "                  output_dir                   = 'datawf',\n",
    "                  overwrite_event_tag          = 'sumatra_testing_acc_water_level')\n",
    "\n",
    "try:\n",
    "    ps = Pysep(**download)\n",
    "    ps.run()\n",
    "except :\n",
    "    print('data directory already exists')"
   ]
  },
  {
   "cell_type": "code",
   "execution_count": null,
   "metadata": {
    "tags": []
   },
   "outputs": [],
   "source": [
    "# read downloaded raw LHZ data\n",
    "\n",
    "sac_file = f'./datawf/sumatra_testing_raw/SAC/*.sac'\n",
    "st       = read(sac_file, header=None)\n",
    "\n",
    "print('Details of downloaded waveforms - \\n')\n",
    "print(st.__str__(extended=True))\n",
    "print()"
   ]
  },
  {
   "cell_type": "code",
   "execution_count": null,
   "metadata": {},
   "outputs": [],
   "source": [
    "# read downloaded accel LHZ data\n",
    "\n",
    "sac_file = f'./datawf/sumatra_testing_acc_water_level/SAC/*.sac'\n",
    "st2       = read(sac_file, header=None)\n",
    "\n",
    "print('Details of downloaded waveforms - \\n')\n",
    "print(st2.__str__(extended=True))\n",
    "print()"
   ]
  },
  {
   "cell_type": "code",
   "execution_count": null,
   "metadata": {
    "tags": []
   },
   "outputs": [],
   "source": [
    "# storing station information corresponding to retained waveforms\n",
    "station_map_and_table(st, event_lat=download['event_latitude'], event_lon=download['event_longitude'])"
   ]
  },
  {
   "cell_type": "code",
   "execution_count": null,
   "metadata": {
    "tags": []
   },
   "outputs": [],
   "source": [
    "# computing and plotting the amplitude spectra of the retained waveforms\n",
    "\n",
    "if True:\n",
    "    Nyquist_frequency = download['resample_freq']/2\n",
    "    for i in range(len(st)):\n",
    "\n",
    "        tr = st[i].copy()  \n",
    "        tr.detrend('constant')\n",
    "        tr.detrend('linear')\n",
    "        tr.taper(max_percentage=0.2, type=\"cosine\")\n",
    "\n",
    "        fft_amp, fft_phase, fft_freq = wf_fft(tr.data, Nyquist_frequency)\n",
    "\n",
    "        plt.figure()\n",
    "        plt.plot(fft_freq*1E3,fft_amp)\n",
    "        plt.xlim(0.2,1)\n",
    "        #plt.ylim(0,40)\n",
    "        xmask = np.logical_and(fft_freq*1e3 > .2, fft_freq*1e3 < 1)\n",
    "        plt.ylim(0,np.max(fft_amp[xmask])*1.1)\n",
    "        plt.title(f'{tr.id}')\n",
    "        plt.xlabel(f'Frequency (mHz)')\n",
    "        plt.ylabel(f'Amplitude (counts s)')\n",
    "        plt.show()        "
   ]
  },
  {
   "cell_type": "code",
   "execution_count": null,
   "metadata": {},
   "outputs": [],
   "source": []
  }
 ],
 "metadata": {
  "kernelspec": {
   "display_name": "seismo",
   "language": "python",
   "name": "conda-env-.local-seismo-py"
  },
  "language_info": {
   "codemirror_mode": {
    "name": "ipython",
    "version": 3
   },
   "file_extension": ".py",
   "mimetype": "text/x-python",
   "name": "python",
   "nbconvert_exporter": "python",
   "pygments_lexer": "ipython3",
   "version": "3.11.0"
  }
 },
 "nbformat": 4,
 "nbformat_minor": 4
}
