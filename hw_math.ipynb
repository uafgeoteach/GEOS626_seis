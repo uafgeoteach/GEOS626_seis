{
 "cells": [
  {
   "cell_type": "markdown",
   "source": [
    "# Applied Seismology, GEOS 626, University of Alaska Fairbanks\n",
    "\n",
    "- examples of working with matrices in Python"
   ],
   "metadata": {
    "collapsed": false
   }
  },
  {
   "cell_type": "code",
   "execution_count": null,
   "metadata": {},
   "outputs": [],
   "source": [
    "%matplotlib inline\n",
    "\n",
    "import math\n",
    "import matplotlib.pyplot as plt\n",
    "import numpy as np\n",
    "import numpy.linalg as LA\n",
    "import warnings\n",
    "\n",
    "from scipy.linalg import null_space\n",
    "from sympy.matrices import Matrix                             # symbolic math package"
   ]
  },
  {
   "cell_type": "code",
   "execution_count": null,
   "outputs": [],
   "source": [
    "# script settings\n",
    "\n",
    "warnings.filterwarnings('ignore')"
   ],
   "metadata": {
    "collapsed": false,
    "pycharm": {
     "name": "#%%\n"
    }
   }
  },
  {
   "cell_type": "code",
   "execution_count": null,
   "metadata": {},
   "outputs": [],
   "source": [
    "# Create an array\n",
    "a0 = np.array([1,2,3,4])\n",
    "print(f'a0 = {a0} \\n')\n",
    "print(f'shape = {a0.shape} \\n')\n",
    "Matrix(a0)"
   ]
  },
  {
   "cell_type": "code",
   "execution_count": null,
   "metadata": {},
   "outputs": [],
   "source": [
    "# create a row vector (a)\n",
    "a = np.reshape(a0,(1,4))\n",
    "print(f'a = {a} \\n')\n",
    "print(f'a.shape = {a.shape} \\n')\n",
    "Matrix(a)"
   ]
  },
  {
   "cell_type": "code",
   "execution_count": null,
   "metadata": {},
   "outputs": [],
   "source": [
    "# create a column vector (b)\n",
    "#b = np.array([[5],[6],[7],[8]])\n",
    "b0 = np.array([5,6,7,8])\n",
    "b = np.reshape(b0,(4,1))\n",
    "print(f'b = \\n {b} \\n')\n",
    "print(f'b.shape = {b.shape} \\n')\n",
    "Matrix(b)"
   ]
  },
  {
   "cell_type": "code",
   "execution_count": null,
   "metadata": {},
   "outputs": [],
   "source": [
    "C = b @ a\n",
    "Matrix(C)"
   ]
  },
  {
   "cell_type": "code",
   "execution_count": null,
   "metadata": {},
   "outputs": [],
   "source": [
    "Matrix(a @ b)"
   ]
  },
  {
   "cell_type": "code",
   "execution_count": null,
   "metadata": {},
   "outputs": [],
   "source": [
    "# Transpose C\n",
    "Ct = C.T\n",
    "#print('Ct = \\n',Ct)\n",
    "Matrix(Ct)"
   ]
  },
  {
   "cell_type": "code",
   "execution_count": null,
   "metadata": {},
   "outputs": [],
   "source": [
    "# Compute RREF of C\n",
    "# Each array within the Matrix object is a row\n",
    "C1 = Matrix(C)\n",
    "rref_mat, rref_ind = C1.rref() # Get both the RREF and the pivots\n",
    "#print('rref(C) = \\n', rref_mat)\n",
    "Matrix(rref_mat)\n",
    "#Matrix(C).rref()[0]"
   ]
  },
  {
   "cell_type": "code",
   "execution_count": null,
   "metadata": {},
   "outputs": [],
   "source": [
    "# Another example\n",
    "A = np.array([[1, 2, 4], [5, 3, 2], [1, 0, 1]])\n",
    "Matrix(A)"
   ]
  },
  {
   "cell_type": "code",
   "execution_count": null,
   "metadata": {},
   "outputs": [],
   "source": [
    "Matrix(A).rref()[0]"
   ]
  },
  {
   "cell_type": "code",
   "execution_count": null,
   "metadata": {},
   "outputs": [],
   "source": [
    "# define the example matrix, then demonstrate matrix-vector multiplication, etc\n",
    "\n",
    "# option 1: all at once\n",
    "A = np.array([[-1, 0, -4], [0, 2, 1], [1, 1, 4]])\n",
    "print(f'A = \\n {A} \\n')\n",
    "\n",
    "# option 2: define column vectors, which will be useful later\n",
    "v1 = np.array([[-1], [0], [1]])\n",
    "v2 = np.array([[0], [2], [1]])\n",
    "v3 = np.array([[-4], [1], [4]])\n",
    "\n",
    "#A = np.append(v1,v2,axis=1)\n",
    "#A = np.append(A,v3,axis=1)\n",
    "np.hstack((v1,v2,v3))\n",
    "x = np.array([[1], [2], [3]])\n",
    "\n",
    "print(f'A =    \\n {A}         \\n')\n",
    "print(f'x =    \\n {x}         \\n')\n",
    "print(f'A*x =  \\n {A   @ x  } \\n')\n",
    "print(f'A*A =  \\n {A   @ A  } \\n')\n",
    "print(f'A*At = \\n {A   @ A.T} \\n')\n",
    "print(f'At*A = \\n {A.T @ A  } \\n')"
   ]
  },
  {
   "cell_type": "markdown",
   "metadata": {},
   "source": [
    "### NumPy apparently prefers this:"
   ]
  },
  {
   "cell_type": "code",
   "execution_count": null,
   "metadata": {},
   "outputs": [],
   "source": [
    "# Create first 1D array\n",
    "a = np.array([1, 2, 3, 4])\n",
    "print(f'a = {a}')\n",
    "print(f'a.shape = {a.shape}')\n",
    "print(f'a.ndim = {a.ndim}\\n')\n",
    "\n",
    "# Create second 1D array\n",
    "b = np.array([5, 6, 7, 8])\n",
    "print(f'b = {b}')\n",
    "print(f'b.shape = {b.shape}')\n",
    "print(f'b.ndim = {b.ndim}\\n')\n",
    "\n",
    "# Inner product (creates 0D array, AKA scalar)\n",
    "c = np.inner(a, b)\n",
    "print(f'c = np.inner(a, b) = {c}')\n",
    "print(f'c.shape = {c.shape}')\n",
    "print(f'c.ndim = {c.ndim}\\n')\n",
    "\n",
    "# There are many ways to do the inner product...\n",
    "print(f'np.inner(a, b) == np.inner(b, a) == a @ b == b @ a == np.dot(a, b) == np.dot(b, a) == np.matmul(a, b) == np.matmul(b, a) = {np.inner(a, b) == np.inner(b, a) == a @ b == b @ a == np.dot(a, b) == np.dot(b, a) == np.matmul(a, b) == np.matmul(b, a)}\\n')\n",
    "\n",
    "# Outer product (creates 2D array, AKA matrix)\n",
    "C = np.outer(a, b)\n",
    "print(f'C = np.outer(a, b) = \\n {C} \\n')\n",
    "print(f'C.shape = {C.shape} \\n')\n",
    "print(f'C.ndim = {C.ndim} \\n')\n",
    "print(f'C.T = \\n {C.T} \\n')\n",
    "\n",
    "# There is only one way to do the outer product, and note this difference in order!\n",
    "print(f'np.outer(a, b) == np.outer(b, a) =\\n{np.outer(a, b) == np.outer(b, a)}\\n')\n",
    "print(f'C.T == np.outer(b, a) =\\n{C.T == np.outer(b, a)}\\n')\n",
    "\n",
    "# Element-wise just uses * sign\n",
    "print(f'a * b = {a * b} \\n')\n",
    "print(f'a * b == b * a = {a * b == b * a} \\n')"
   ]
  },
  {
   "cell_type": "code",
   "execution_count": null,
   "metadata": {},
   "outputs": [],
   "source": []
  }
 ],
 "metadata": {
  "kernelspec": {
   "name": "python3",
   "language": "python",
   "display_name": "Python 3 (ipykernel)"
  },
  "language_info": {
   "codemirror_mode": {
    "name": "ipython",
    "version": 3
   },
   "file_extension": ".py",
   "mimetype": "text/x-python",
   "name": "python",
   "nbconvert_exporter": "python",
   "pygments_lexer": "ipython3",
   "version": "3.11.0"
  }
 },
 "nbformat": 4,
 "nbformat_minor": 4
}