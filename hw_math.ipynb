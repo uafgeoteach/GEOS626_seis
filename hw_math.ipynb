{
 "cells": [
  {
   "cell_type": "code",
   "execution_count": null,
   "metadata": {},
   "outputs": [],
   "source": [
    "%matplotlib inline\n",
    "\n",
    "try:\n",
    "    from sympy.matrices import Matrix # symbolic math package\n",
    "except:\n",
    "    !pip install sympy --user\n",
    "    from sympy.matrices import Matrix # symbolic math package\n",
    "    \n",
    "import numpy as np\n",
    "import numpy.linalg as LA\n",
    "from scipy.linalg import null_space\n",
    "import matplotlib.pyplot as plt\n",
    "import math\n",
    "\n",
    "\n",
    "\n",
    "# Examples of working with matrices in Python\n",
    "# Amanda McPherson, 2021"
   ]
  },
  {
   "cell_type": "code",
   "execution_count": null,
   "metadata": {},
   "outputs": [],
   "source": [
    "# Create a row vector (a flattened array):\n",
    "a = np.array([1, 2, 3, 4])\n",
    "print('a = \\n',a)\n",
    "\n",
    "# Create a column vector:\n",
    "b = np.array([[5],[6],[7],[8]])\n",
    "print('b = \\n',b)\n",
    "\n",
    "# Multiply the two vectors:\n",
    "C = b*a\n",
    "print('C = \\n',C)\n",
    "\n",
    "# Transpose C\n",
    "Ct = C.T\n",
    "print('Ct = \\n',Ct)\n",
    "\n",
    "# Compute RREF of C\n",
    "# Each array within the Matrix object is a row\n",
    "C1 = Matrix(C)\n",
    "rref_mat, rref_ind = C1.rref()\n",
    "print('rref(C) = \\n', rref_mat)"
   ]
  },
  {
   "cell_type": "code",
   "execution_count": null,
   "metadata": {},
   "outputs": [],
   "source": [
    "# define the example matrix, then demonstrate matrix-vector multiplication, etc\n",
    "A = np.array([[-1, 0, -4], [0, 2, 1], [1, 1, 4]])\n",
    "x = np.array([[1], [2], [3]])\n",
    "print('A = \\n',A)\n",
    "print('x = \\n',x)\n",
    "print('A*x = \\n',np.matmul(A,x))\n",
    "print('A*A = \\n',np.matmul(A,A))\n",
    "print('A*At = \\n',np.matmul(A,A.T))\n",
    "print('At*A = \\n',np.matmul(A.T,A))"
   ]
  },
  {
   "cell_type": "markdown",
   "metadata": {},
   "source": [
    "### A problem with vector multiplication:"
   ]
  },
  {
   "cell_type": "code",
   "execution_count": null,
   "metadata": {},
   "outputs": [],
   "source": [
    "print(f'b * a =\\n{b * a}\\n')  # 4 x 1 times a 1 x 4 is 4 x 4\n",
    "print(f'a * b ≠\\n{a * b}')  # ALERT — 1 x 4 times a 4 x 1 should be a scalar!"
   ]
  },
  {
   "cell_type": "markdown",
   "metadata": {},
   "source": [
    "### NumPy apparently prefers this:"
   ]
  },
  {
   "cell_type": "code",
   "execution_count": null,
   "metadata": {},
   "outputs": [],
   "source": [
    "# Create first 1D array\n",
    "a = np.array([1, 2, 3, 4])\n",
    "print(f'a = {a}')\n",
    "print(f'a.shape = {a.shape}')\n",
    "print(f'a.ndim = {a.ndim}\\n')\n",
    "\n",
    "# Create second 1D array\n",
    "b = np.array([5, 6, 7, 8])\n",
    "print(f'b = {b}')\n",
    "print(f'b.shape = {b.shape}')\n",
    "print(f'b.ndim = {b.ndim}\\n')\n",
    "\n",
    "# Inner product (creates 0D array, AKA scalar)\n",
    "c = np.inner(a, b)\n",
    "print(f'c = np.inner(a, b) = {c}')\n",
    "print(f'c.shape = {c.shape}')\n",
    "print(f'c.ndim = {c.ndim}\\n')\n",
    "\n",
    "# There are many ways to do the inner product...\n",
    "print(f'np.inner(a, b) == np.inner(b, a) == a @ b == b @ a == np.dot(a, b) == np.dot(b, a) == np.matmul(a, b) == np.matmul(b, a) = {np.inner(a, b) == np.inner(b, a) == a @ b == b @ a == np.dot(a, b) == np.dot(b, a) == np.matmul(a, b) == np.matmul(b, a)}\\n')\n",
    "\n",
    "# Outer product (creates 2D array, AKA matrix)\n",
    "C = np.outer(a, b)\n",
    "print(f'C = np.outer(a, b) = \\n{C}')\n",
    "print(f'C.shape = {C.shape}')\n",
    "print(f'C.ndim = {C.ndim}')\n",
    "print(f'C.T = \\n{C.T}\\n')\n",
    "\n",
    "# There is only one way to do the outer product, and note this difference in order!\n",
    "print(f'np.outer(a, b) == np.outer(b, a) =\\n{np.outer(a, b) == np.outer(b, a)}\\n')\n",
    "print(f'C.T == np.outer(b, a) =\\n{C.T == np.outer(b, a)}\\n')\n",
    "\n",
    "# Element-wise just uses * sign\n",
    "print(f'a * b =\\n{a * b}\\n')\n",
    "print(f'a * b == b * a = {a * b == b * a}\\n')"
   ]
  }
 ],
 "metadata": {
  "kernelspec": {
   "display_name": "Python 3",
   "language": "python",
   "name": "python3"
  },
  "language_info": {
   "codemirror_mode": {
    "name": "ipython",
    "version": 3
   },
   "file_extension": ".py",
   "mimetype": "text/x-python",
   "name": "python",
   "nbconvert_exporter": "python",
   "pygments_lexer": "ipython3",
   "version": "3.8.6"
  }
 },
 "nbformat": 4,
 "nbformat_minor": 4
}
